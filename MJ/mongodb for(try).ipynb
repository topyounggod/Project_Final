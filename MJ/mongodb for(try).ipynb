{
 "cells": [
  {
   "cell_type": "code",
   "execution_count": null,
   "id": "d391e62b",
   "metadata": {},
   "outputs": [],
   "source": [
    "pip install pymongo"
   ]
  },
  {
   "cell_type": "code",
   "execution_count": 9,
   "id": "304f5074",
   "metadata": {},
   "outputs": [],
   "source": [
    "from pymongo import MongoClient"
   ]
  },
  {
   "cell_type": "code",
   "execution_count": 10,
   "id": "b70d5243",
   "metadata": {},
   "outputs": [],
   "source": [
    "client = MongoClient(\"mongodb://localhost:27017\")"
   ]
  },
  {
   "cell_type": "code",
   "execution_count": null,
   "id": "c981cfc9",
   "metadata": {},
   "outputs": [],
   "source": []
  },
  {
   "cell_type": "code",
   "execution_count": 11,
   "id": "93f21adf",
   "metadata": {},
   "outputs": [],
   "source": [
    "db = client['practice']"
   ]
  },
  {
   "cell_type": "code",
   "execution_count": 12,
   "id": "f1180c55",
   "metadata": {},
   "outputs": [],
   "source": [
    "a = db.park.find()"
   ]
  },
  {
   "cell_type": "code",
   "execution_count": 12,
   "id": "6c634b2a",
   "metadata": {},
   "outputs": [],
   "source": []
  },
  {
   "cell_type": "code",
   "execution_count": 13,
   "id": "60908990",
   "metadata": {},
   "outputs": [],
   "source": [
    "for b in a :\n",
    "    print(b)"
   ]
  },
  {
   "cell_type": "code",
   "execution_count": 14,
   "id": "50214918",
   "metadata": {},
   "outputs": [],
   "source": [
    "collections = ['park','beauty','cafe','deliver','equip','food','funeral','hospital','manage',\n",
    "               'medical_equip','pharmacy','play','restaurant','sell','shelter']"
   ]
  },
  {
   "cell_type": "code",
   "execution_count": 15,
   "id": "5ae75835",
   "metadata": {
    "scrolled": false
   },
   "outputs": [],
   "source": [
    "for collection in collections:\n",
    "    collection = db[collection]"
   ]
  },
  {
   "cell_type": "code",
   "execution_count": 16,
   "id": "405c4766",
   "metadata": {
    "scrolled": true
   },
   "outputs": [],
   "source": [
    "import json\n",
    "json_data= []\n",
    "with open('/Users/minji/PMJ/Data/json/동물공원.json') as f:\n",
    "\n",
    "#    print(len(f.readlines()))\n",
    "    for line in  f.readlines():\n",
    "        a = line.replace('\\n','')\n",
    "        json_data.append(json.loads(a))\n",
    "        \n",
    "#         json.loads(json_data)\n"
   ]
  },
  {
   "cell_type": "code",
   "execution_count": 22,
   "id": "333356ba",
   "metadata": {},
   "outputs": [],
   "source": [
    "import json\n",
    "json_data= []\n",
    "with open('/Users/minji/PMJ/Data/json/동물놀이터.json') as f:\n",
    "\n",
    "#    print(len(f.readlines()))\n",
    "    for line in  f.readlines():\n",
    "        c = line.replace('\\n','')\n",
    "        json_data.append(json.loads(c))\n",
    "        \n",
    "#         json.loads(json_data)\n"
   ]
  },
  {
   "cell_type": "code",
   "execution_count": null,
   "id": "df8523b1",
   "metadata": {},
   "outputs": [],
   "source": []
  },
  {
   "cell_type": "code",
   "execution_count": null,
   "id": "f9963d94",
   "metadata": {},
   "outputs": [],
   "source": []
  },
  {
   "cell_type": "code",
   "execution_count": null,
   "id": "2d7c0842",
   "metadata": {},
   "outputs": [],
   "source": []
  },
  {
   "cell_type": "code",
   "execution_count": null,
   "id": "edba0e11",
   "metadata": {},
   "outputs": [],
   "source": []
  },
  {
   "cell_type": "code",
   "execution_count": null,
   "id": "81fdf645",
   "metadata": {},
   "outputs": [],
   "source": []
  },
  {
   "cell_type": "code",
   "execution_count": null,
   "id": "46dbc61d",
   "metadata": {},
   "outputs": [],
   "source": []
  },
  {
   "cell_type": "code",
   "execution_count": 19,
   "id": "7d48d4d6",
   "metadata": {
    "scrolled": false
   },
   "outputs": [
    {
     "data": {
      "text/plain": [
       "<pymongo.results.InsertManyResult at 0x7fb0513b9ec0>"
      ]
     },
     "execution_count": 19,
     "metadata": {},
     "output_type": "execute_result"
    }
   ],
   "source": [
    "db.park.insert_many(json_data)"
   ]
  },
  {
   "cell_type": "code",
   "execution_count": 20,
   "id": "efbcf65f",
   "metadata": {},
   "outputs": [
    {
     "data": {
      "text/plain": [
       "'geometry_2dsphere'"
      ]
     },
     "execution_count": 20,
     "metadata": {},
     "output_type": "execute_result"
    }
   ],
   "source": [
    "from pymongo import GEOSPHERE\n",
    "db.park.create_index([('geometry' , GEOSPHERE)])"
   ]
  },
  {
   "cell_type": "code",
   "execution_count": 21,
   "id": "986bad70",
   "metadata": {},
   "outputs": [
    {
     "ename": "SyntaxError",
     "evalue": "cannot assign to operator (<ipython-input-21-2fcebe741d2e>, line 2)",
     "output_type": "error",
     "traceback": [
      "\u001b[0;36m  File \u001b[0;32m\"<ipython-input-21-2fcebe741d2e>\"\u001b[0;36m, line \u001b[0;32m2\u001b[0m\n\u001b[0;31m    counts + i = []\u001b[0m\n\u001b[0m    ^\u001b[0m\n\u001b[0;31mSyntaxError\u001b[0m\u001b[0;31m:\u001b[0m cannot assign to operator\n"
     ]
    }
   ],
   "source": [
    "for i in range(1,16):\n",
    "    counts + i = []\n",
    "    for i in range(0,len(a)): \n",
    "        c = list(sell.aggregate(\n",
    "            [{\n",
    "                \"$geoNear\": {\n",
    "                    \"near\": { \"type\": \"Point\", \"coordinates\": a[i] },\n",
    "                    \"distanceField\": 'meters',\n",
    "                    \"maxDistance\": 700\n",
    "                }\n",
    "            }]\n",
    "        ))\n",
    "        counts14.append(len(c))\n"
   ]
  },
  {
   "cell_type": "code",
   "execution_count": null,
   "id": "c2d8ac6b",
   "metadata": {},
   "outputs": [],
   "source": []
  }
 ],
 "metadata": {
  "kernelspec": {
   "display_name": "Python 3",
   "language": "python",
   "name": "python3"
  },
  "language_info": {
   "codemirror_mode": {
    "name": "ipython",
    "version": 3
   },
   "file_extension": ".py",
   "mimetype": "text/x-python",
   "name": "python",
   "nbconvert_exporter": "python",
   "pygments_lexer": "ipython3",
   "version": "3.8.8"
  }
 },
 "nbformat": 4,
 "nbformat_minor": 5
}
