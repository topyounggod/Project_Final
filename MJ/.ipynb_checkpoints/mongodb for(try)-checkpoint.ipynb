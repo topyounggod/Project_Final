{
 "cells": [
  {
   "cell_type": "code",
   "execution_count": null,
   "id": "d391e62b",
   "metadata": {},
   "outputs": [],
   "source": [
    "pip install pymongo"
   ]
  },
  {
   "cell_type": "code",
   "execution_count": 1,
   "id": "304f5074",
   "metadata": {},
   "outputs": [],
   "source": [
    "from pymongo import MongoClient"
   ]
  },
  {
   "cell_type": "code",
   "execution_count": 2,
   "id": "b70d5243",
   "metadata": {},
   "outputs": [],
   "source": [
    "client = MongoClient(\"mongodb://localhost:27017\")"
   ]
  },
  {
   "cell_type": "code",
   "execution_count": null,
   "id": "c981cfc9",
   "metadata": {},
   "outputs": [],
   "source": []
  },
  {
   "cell_type": "code",
   "execution_count": 3,
   "id": "93f21adf",
   "metadata": {},
   "outputs": [],
   "source": [
    "db = client['practice']"
   ]
  },
  {
   "cell_type": "code",
   "execution_count": 4,
   "id": "f1180c55",
   "metadata": {},
   "outputs": [],
   "source": [
    "a = db.park.find()"
   ]
  },
  {
   "cell_type": "code",
   "execution_count": 12,
   "id": "6c634b2a",
   "metadata": {},
   "outputs": [],
   "source": [
    "c = db.play.find()"
   ]
  },
  {
   "cell_type": "code",
   "execution_count": 5,
   "id": "60908990",
   "metadata": {},
   "outputs": [
    {
     "name": "stdout",
     "output_type": "stream",
     "text": [
      "{'_id': ObjectId('6177b937f297aabf1c7129d4'), 'geometry': {'coordinates': [126.990377, 37.55014], 'type': 'Point'}, 'properties': {'address': '서울특별시 중구 삼일대로 231(예장동)', 'name': '남산도시자연공원', 'type': '동물공원'}, 'type': 'Feature'}\n",
      "{'_id': ObjectId('6177b937f297aabf1c7129d5'), 'geometry': {'coordinates': [127.154779, 37.540394], 'type': 'Point'}, 'properties': {'address': '서울특별시 강동구 천호대로 1291(길동생태공원) ', 'name': '길동생태공원', 'type': '동물공원'}, 'type': 'Feature'}\n",
      "{'_id': ObjectId('6177b937f297aabf1c7129d6'), 'geometry': {'coordinates': [127.019846, 37.426449], 'type': 'Point'}, 'properties': {'address': '경기도 과천시 대공원광장로 102', 'name': '서울대공원', 'type': '동물공원'}, 'type': 'Feature'}\n",
      "{'_id': ObjectId('6177b937f297aabf1c7129d7'), 'geometry': {'coordinates': [127.041798, 37.543072], 'type': 'Point'}, 'properties': {'address': '서울특별시 성동구 뚝섬로 273 (성수동1가) ', 'name': '서울숲', 'type': '동물공원'}, 'type': 'Feature'}\n",
      "{'_id': ObjectId('6177b937f297aabf1c7129d8'), 'geometry': {'coordinates': [126.878907, 37.571805], 'type': 'Point'}, 'properties': {'address': '서울특별시 마포구 하늘공원로 84(월드컵공원)', 'name': '월드컵공원', 'type': '동물공원'}, 'type': 'Feature'}\n",
      "{'_id': ObjectId('6177b937f297aabf1c7129d9'), 'geometry': {'coordinates': [126.978023, 37.575045], 'type': 'Point'}, 'properties': {'address': '서울특별시 종로구 세종로 76-2', 'name': '광화문시민열린마당', 'type': '동물공원'}, 'type': 'Feature'}\n",
      "{'_id': ObjectId('6177b937f297aabf1c7129da'), 'geometry': {'coordinates': [126.919216, 37.637024], 'type': 'Point'}, 'properties': {'address': '서울특별시 은평구 진관동 393', 'name': '진관근린공원(구파발폭포)', 'type': '동물공원'}, 'type': 'Feature'}\n",
      "{'_id': ObjectId('6177b937f297aabf1c7129db'), 'geometry': {'coordinates': [126.911267, 37.519832], 'type': 'Point'}, 'properties': {'address': '서울특별시 영등포구 영등포동2가 222', 'name': '중마루근린공원', 'type': '동물공원'}, 'type': 'Feature'}\n",
      "{'_id': ObjectId('6177b937f297aabf1c7129dc'), 'geometry': {'coordinates': [127.021765, 37.557228], 'type': 'Point'}, 'properties': {'address': '서울특별시 성동구 금호동1가 산1-72', 'name': '응봉공원', 'type': '동물공원'}, 'type': 'Feature'}\n",
      "{'_id': ObjectId('6177b937f297aabf1c7129dd'), 'geometry': {'coordinates': [126.86115, 37.557583], 'type': 'Point'}, 'properties': {'address': '서울특별시 강서구 등촌동 630-14', 'name': '매화근린공원', 'type': '동물공원'}, 'type': 'Feature'}\n",
      "{'_id': ObjectId('6177b937f297aabf1c7129de'), 'geometry': {'coordinates': [127.052402, 37.544814], 'type': 'Point'}, 'properties': {'address': '서울특별시 성동구 성수2가 3동 302-25', 'name': '성수근린공원', 'type': '동물공원'}, 'type': 'Feature'}\n",
      "{'_id': ObjectId('6177b937f297aabf1c7129df'), 'geometry': {'coordinates': [127.147162, 37.550481], 'type': 'Point'}, 'properties': {'address': '서울특별시 강동구 명일1동 288', 'name': '샛마을근린공원', 'type': '동물공원'}, 'type': 'Feature'}\n",
      "{'_id': ObjectId('6177b937f297aabf1c7129e0'), 'geometry': {'coordinates': [126.922377, 37.526129], 'type': 'Point'}, 'properties': {'address': '서울특별시 영등포구 여의공원로 68 (여의도동)', 'name': '여의도근린공원', 'type': '동물공원'}, 'type': 'Feature'}\n",
      "{'_id': ObjectId('6177b937f297aabf1c7129e1'), 'geometry': {'coordinates': [127.048864, 37.573244], 'type': 'Point'}, 'properties': {'address': '서울특별시 동대문구 서울시립대로2길 59(간데메공원)', 'name': '간데메근린공원', 'type': '동물공원'}, 'type': 'Feature'}\n",
      "{'_id': ObjectId('6177b937f297aabf1c7129e2'), 'geometry': {'coordinates': [127.003819, 37.567524], 'type': 'Point'}, 'properties': {'address': '서울특별시 중구 을지로 227', 'name': '훈련원근린공원', 'type': '동물공원'}, 'type': 'Feature'}\n",
      "{'_id': ObjectId('6177b937f297aabf1c7129e3'), 'geometry': {'coordinates': [126.910662, 37.515423], 'type': 'Point'}, 'properties': {'address': '서울특별시 영등포구 신길로 275', 'name': '영등포근린공원', 'type': '동물공원'}, 'type': 'Feature'}\n",
      "{'_id': ObjectId('6177b937f297aabf1c7129e4'), 'geometry': {'coordinates': [126.918289, 37.492333], 'type': 'Point'}, 'properties': {'address': '서울특별시 동작구 여의대방로20길 33(보라매공원)', 'name': '보라매근린공원', 'type': '동물공원'}, 'type': 'Feature'}\n",
      "{'_id': ObjectId('6177b937f297aabf1c7129e5'), 'geometry': {'coordinates': [127.080921, 37.549899], 'type': 'Point'}, 'properties': {'address': '서울특별시 광진구 능동로 216(어린이대공원)', 'name': '어린이대공원', 'type': '동물공원'}, 'type': 'Feature'}\n",
      "{'_id': ObjectId('6177b937f297aabf1c7129e6'), 'geometry': {'coordinates': [127.126345, 37.544474], 'type': 'Point'}, 'properties': {'address': '서울특별시 강동구 올림픽로 702(천호공원)', 'name': '천호근린공원', 'type': '동물공원'}, 'type': 'Feature'}\n",
      "{'_id': ObjectId('6177b937f297aabf1c7129e7'), 'geometry': {'coordinates': [126.983335, 37.522226], 'type': 'Point'}, 'properties': {'address': '서울특별시 용산구 서빙고로 185', 'name': '용산가족공원', 'type': '동물공원'}, 'type': 'Feature'}\n",
      "{'_id': ObjectId('6177b937f297aabf1c7129e8'), 'geometry': {'coordinates': [126.956771, 37.573829], 'type': 'Point'}, 'properties': {'address': '서울특별시 서대문구 통일로251(독립공원)', 'name': '독립근린공원', 'type': '동물공원'}, 'type': 'Feature'}\n",
      "{'_id': ObjectId('6177b937f297aabf1c7129e9'), 'geometry': {'coordinates': [127.007587, 37.580477], 'type': 'Point'}, 'properties': {'address': '서울특별시 종로구 낙산길 41 (우) 03085', 'name': '낙산근린공원', 'type': '동물공원'}, 'type': 'Feature'}\n",
      "{'_id': ObjectId('6177b937f297aabf1c7129ea'), 'geometry': {'coordinates': [127.035042, 37.471225], 'type': 'Point'}, 'properties': {'address': '서울특별시 서초구 매헌로 99 (양재동)', 'name': '양재시민의숲', 'type': '동물공원'}, 'type': 'Feature'}\n",
      "{'_id': ObjectId('6177b937f297aabf1c7129eb'), 'geometry': {'coordinates': [126.96413, 37.445208], 'type': 'Point'}, 'properties': {'address': '서울특별시 관악구 관악로 1(관악산공원)', 'name': '관악산도시자연공원', 'type': '동물공원'}, 'type': 'Feature'}\n",
      "{'_id': ObjectId('6177b937f297aabf1c7129ec'), 'geometry': {'coordinates': [126.95993, 37.545234], 'type': 'Point'}, 'properties': {'address': '서울특별시 용산구 효창원로 177-18', 'name': '효창근린공원', 'type': '동물공원'}, 'type': 'Feature'}\n",
      "{'_id': ObjectId('6177b937f297aabf1c7129ed'), 'geometry': {'coordinates': [126.907951, 37.469625], 'type': 'Point'}, 'properties': {'address': '서울특별시 금천구 독산4동 371?375 373일대', 'name': '감로천생태공원(관악산)', 'type': '동물공원'}, 'type': 'Feature'}\n",
      "{'_id': ObjectId('6177b937f297aabf1c7129ee'), 'geometry': {'coordinates': [127.025286, 37.596584], 'type': 'Point'}, 'properties': {'address': '서울특별시 성북구 북악산로 949-73(돈암동 6-1)', 'name': '개운산근린공원', 'type': '동물공원'}, 'type': 'Feature'}\n",
      "{'_id': ObjectId('6177b937f297aabf1c7129ef'), 'geometry': {'coordinates': [126.848573, 37.488894], 'type': 'Point'}, 'properties': {'address': '서울특별시 구로구 오류동 산13-1', 'name': '개웅산근린공원', 'type': '동물공원'}, 'type': 'Feature'}\n",
      "{'_id': ObjectId('6177b937f297aabf1c7129f0'), 'geometry': {'coordinates': [126.968534, 37.570773], 'type': 'Point'}, 'properties': {'address': '서울특별시 종로구 새문안로 55(신문로2가 2-1)', 'name': '경희궁', 'type': '동물공원'}, 'type': 'Feature'}\n",
      "{'_id': ObjectId('6177b937f297aabf1c7129f1'), 'geometry': {'coordinates': [126.973685, 37.499862], 'type': 'Point'}, 'properties': {'address': '서울특별시 동작구 사당2동 산41-2', 'name': '국립현충원', 'type': '동물공원'}, 'type': 'Feature'}\n",
      "{'_id': ObjectId('6177b937f297aabf1c7129f2'), 'geometry': {'coordinates': [126.847964, 37.513836], 'type': 'Point'}, 'properties': {'address': '서울특별시 양천구 신정동 산44-2일대', 'name': '계남근린공원', 'type': '동물공원'}, 'type': 'Feature'}\n",
      "{'_id': ObjectId('6177b937f297aabf1c7129f3'), 'geometry': {'coordinates': [126.85215, 37.504294], 'type': 'Point'}, 'properties': {'address': '서울특별시 구로구 고척로45길 39(고척공원)', 'name': '고척근린공원', 'type': '동물공원'}, 'type': 'Feature'}\n",
      "{'_id': ObjectId('6177b937f297aabf1c7129f4'), 'geometry': {'coordinates': [126.876393, 37.534974], 'type': 'Point'}, 'properties': {'address': '서울특별시 양천구 목동동로 363 ', 'name': '파리근린공원', 'type': '동물공원'}, 'type': 'Feature'}\n",
      "{'_id': ObjectId('6177b937f297aabf1c7129f5'), 'geometry': {'coordinates': [126.852674, 37.567987], 'type': 'Point'}, 'properties': {'address': '서울특별시 강서구 허준로5길 42', 'name': '허준공원', 'type': '동물공원'}, 'type': 'Feature'}\n",
      "{'_id': ObjectId('6177b937f297aabf1c7129f6'), 'geometry': {'coordinates': [126.922985, 37.569051], 'type': 'Point'}, 'properties': {'address': '서울특별시 서대문구 성산로7길 19-24(궁동공원) ', 'name': '궁동근린공원', 'type': '동물공원'}, 'type': 'Feature'}\n",
      "{'_id': ObjectId('6177b937f297aabf1c7129f7'), 'geometry': {'coordinates': [126.838952, 37.573564], 'type': 'Point'}, 'properties': {'address': '서울특별시 강서구 가양동 산4-7', 'name': '궁산근린공원', 'type': '동물공원'}, 'type': 'Feature'}\n",
      "{'_id': ObjectId('6177b937f297aabf1c7129f8'), 'geometry': {'coordinates': [126.964074, 37.484584], 'type': 'Point'}, 'properties': {'address': '서울특별시 동작구 사당동 산32', 'name': '까치산근린공원', 'type': '동물공원'}, 'type': 'Feature'}\n",
      "{'_id': ObjectId('6177b937f297aabf1c7129f9'), 'geometry': {'coordinates': [126.815708, 37.580158], 'type': 'Point'}, 'properties': {'address': '서울특별시 강서구 방화동 산110', 'name': '꿩고개근린공원', 'type': '동물공원'}, 'type': 'Feature'}\n",
      "{'_id': ObjectId('6177b937f297aabf1c7129fa'), 'geometry': {'coordinates': [126.928607, 37.510234], 'type': 'Point'}, 'properties': {'address': '서울특별시 동작구 여의대방로 15-45(여의대방로36길 71)', 'name': '노량진공원', 'type': '동물공원'}, 'type': 'Feature'}\n",
      "{'_id': ObjectId('6177b937f297aabf1c7129fb'), 'geometry': {'coordinates': [127.062651, 37.57509], 'type': 'Point'}, 'properties': {'address': '서울특별시 동대문구 답십리로 209(답십리공원) ', 'name': '답십리근린공원', 'type': '동물공원'}, 'type': 'Feature'}\n",
      "{'_id': ObjectId('6177b937f297aabf1c7129fc'), 'geometry': {'coordinates': [127.080964, 37.479649], 'type': 'Point'}, 'properties': {'address': '서울특별시 강남구 광평로10길 30-71(대모산공원) ', 'name': '대모산도시자연공원', 'type': '동물공원'}, 'type': 'Feature'}\n",
      "{'_id': ObjectId('6177b937f297aabf1c7129fd'), 'geometry': {'coordinates': [126.988285, 37.571005], 'type': 'Point'}, 'properties': {'address': '서울특별시 종로구 종로 99', 'name': '탑골근린공원', 'type': '동물공원'}, 'type': 'Feature'}\n",
      "{'_id': ObjectId('6177b937f297aabf1c7129fe'), 'geometry': {'coordinates': [126.868915, 37.508212], 'type': 'Point'}, 'properties': {'address': '서울특별시 양천구 신정동 162-56', 'name': '갈산근린공원', 'type': '동물공원'}, 'type': 'Feature'}\n",
      "{'_id': ObjectId('6177b937f297aabf1c7129ff'), 'geometry': {'coordinates': [127.158664, 37.500517], 'type': 'Point'}, 'properties': {'address': '서울특별시 송파구 마천동 산 1-1', 'name': '천마근린공원', 'type': '동물공원'}, 'type': 'Feature'}\n",
      "{'_id': ObjectId('6177b937f297aabf1c712a00'), 'geometry': {'coordinates': [127.045034, 37.490313], 'type': 'Point'}, 'properties': {'address': '서울특별시 강남구 도곡동 산31-1', 'name': '도곡근린공원', 'type': '동물공원'}, 'type': 'Feature'}\n",
      "{'_id': ObjectId('6177b937f297aabf1c712a01'), 'geometry': {'coordinates': [127.03503, 37.524675], 'type': 'Point'}, 'properties': {'address': '서울특별시 강남구 도산대로45길 20(도산공원)', 'name': '도산근린공원', 'type': '동물공원'}, 'type': 'Feature'}\n",
      "{'_id': ObjectId('6177b937f297aabf1c712a02'), 'geometry': {'coordinates': [127.051114, 37.602006], 'type': 'Point'}, 'properties': {'address': '서울특별시 성북구 화랑로18가길 50', 'name': '청량공원', 'type': '동물공원'}, 'type': 'Feature'}\n",
      "{'_id': ObjectId('6177b937f297aabf1c712a03'), 'geometry': {'coordinates': [127.045545, 37.648316], 'type': 'Point'}, 'properties': {'address': '서울특별시 도봉구 창동 산157', 'name': '초안산근린공원', 'type': '동물공원'}, 'type': 'Feature'}\n",
      "{'_id': ObjectId('6177b937f297aabf1c712a04'), 'geometry': {'coordinates': [127.16767, 37.559834], 'type': 'Point'}, 'properties': {'address': '서울특별시 강동구 고덕2동 229', 'name': '동명근린공원', 'type': '동물공원'}, 'type': 'Feature'}\n",
      "{'_id': ObjectId('6177b937f297aabf1c712a05'), 'geometry': {'coordinates': [127.002789, 37.58023], 'type': 'Point'}, 'properties': {'address': '서울특별시 종로구 대학로8길 1', 'name': '마로니에공원', 'type': '동물공원'}, 'type': 'Feature'}\n",
      "{'_id': ObjectId('6177b937f297aabf1c712a06'), 'geometry': {'coordinates': [126.93029, 37.517733], 'type': 'Point'}, 'properties': {'address': '서울특별시 영등포구 의사당대로 166 (우) 07324', 'name': '자매근린공원', 'type': '동물공원'}, 'type': 'Feature'}\n",
      "{'_id': ObjectId('6177b937f297aabf1c712a07'), 'geometry': {'coordinates': [127.1387, 37.495708], 'type': 'Point'}, 'properties': {'address': '서울특별시 송파구 장지동 산 11번지', 'name': '장지근린공원', 'type': '동물공원'}, 'type': 'Feature'}\n",
      "{'_id': ObjectId('6177b937f297aabf1c712a08'), 'geometry': {'coordinates': [127.161364, 37.553714], 'type': 'Point'}, 'properties': {'address': '서울특별시 강동구 상일동 135', 'name': '명일근린공원', 'type': '동물공원'}, 'type': 'Feature'}\n",
      "{'_id': ObjectId('6177b937f297aabf1c712a09'), 'geometry': {'coordinates': [126.813228, 37.581981], 'type': 'Point'}, 'properties': {'address': '서울특별시 강서구 금낭화로 176(방화공원)', 'name': '방화근린공원', 'type': '동물공원'}, 'type': 'Feature'}\n",
      "{'_id': ObjectId('6177b937f297aabf1c712a0a'), 'geometry': {'coordinates': [127.076288, 37.510278], 'type': 'Point'}, 'properties': {'address': '서울특별시 송파구 올림픽로 44 (잠실동)', 'name': '아시아근린공원', 'type': '동물공원'}, 'type': 'Feature'}\n",
      "{'_id': ObjectId('6177b937f297aabf1c712a0b'), 'geometry': {'coordinates': [127.064162, 37.581232], 'type': 'Point'}, 'properties': {'address': '서울특별시 동대문구 한천로43길 12-14(배봉산공원) ', 'name': '배봉산근린공원', 'type': '동물공원'}, 'type': 'Feature'}\n",
      "{'_id': ObjectId('6177b937f297aabf1c712a0c'), 'geometry': {'coordinates': [126.939027, 37.579825], 'type': 'Point'}, 'properties': {'address': '서울특별시 서대문구 홍제동 산33-98', 'name': '안산도시자연공원', 'type': '동물공원'}, 'type': 'Feature'}\n",
      "{'_id': ObjectId('6177b937f297aabf1c712a0d'), 'geometry': {'coordinates': [126.868982, 37.55797], 'type': 'Point'}, 'properties': {'address': '서울특별시 강서구 염창동 산24-1', 'name': '염창근린공원', 'type': '동물공원'}, 'type': 'Feature'}\n",
      "{'_id': ObjectId('6177b937f297aabf1c712a0e'), 'geometry': {'coordinates': [126.928616, 37.587966], 'type': 'Point'}, 'properties': {'address': '서울특별시 서대문구 통일로 507-22(백련공원) ', 'name': '백련근린공원', 'type': '동물공원'}, 'type': 'Feature'}\n",
      "{'_id': ObjectId('6177b937f297aabf1c712a0f'), 'geometry': {'coordinates': [127.132396, 37.503872], 'type': 'Point'}, 'properties': {'address': '서울특별시 송파구 오금로 363 오금근린공원 ', 'name': '오금근린공원', 'type': '동물공원'}, 'type': 'Feature'}\n",
      "{'_id': ObjectId('6177b937f297aabf1c712a10'), 'geometry': {'coordinates': [127.031727, 37.632796], 'type': 'Point'}, 'properties': {'address': '서울특별시 강북구 번동 산20-1', 'name': '오동근린공원', 'type': '동물공원'}, 'type': 'Feature'}\n",
      "{'_id': ObjectId('6177b937f297aabf1c712a11'), 'geometry': {'coordinates': [126.902015, 37.604071], 'type': 'Point'}, 'properties': {'address': '서울특별시 은평구 구산동 산61', 'name': '봉산도시자연공원', 'type': '동물공원'}, 'type': 'Feature'}\n",
      "{'_id': ObjectId('6177b937f297aabf1c712a12'), 'geometry': {'coordinates': [126.83695, 37.50026], 'type': 'Point'}, 'properties': {'address': '서울특별시 구로구 개봉동 산2-60', 'name': '온수도시자연공원', 'type': '동물공원'}, 'type': 'Feature'}\n",
      "{'_id': ObjectId('6177b937f297aabf1c712a13'), 'geometry': {'coordinates': [127.055496, 37.513903], 'type': 'Point'}, 'properties': {'address': '서울특별시 강남구 삼성동 75', 'name': '봉은공원', 'type': '동물공원'}, 'type': 'Feature'}\n",
      "{'_id': ObjectId('6177b937f297aabf1c712a14'), 'geometry': {'coordinates': [127.122959, 37.520934], 'type': 'Point'}, 'properties': {'address': '서울특별시 송파구 올림픽로 424 (방이동)', 'name': '올림픽공원', 'type': '동물공원'}, 'type': 'Feature'}\n",
      "{'_id': ObjectId('6177b937f297aabf1c712a15'), 'geometry': {'coordinates': [126.990167, 37.590794], 'type': 'Point'}, 'properties': {'address': '서울특별시 종로구 와룡공원길 192 (우) 03063', 'name': '와룡근린공원', 'type': '동물공원'}, 'type': 'Feature'}\n",
      "{'_id': ObjectId('6177b937f297aabf1c712a16'), 'geometry': {'coordinates': [127.092362, 37.61064], 'type': 'Point'}, 'properties': {'address': '서울특별시 중랑구 묵동 산46-1', 'name': '봉화산근린공원', 'type': '동물공원'}, 'type': 'Feature'}\n",
      "{'_id': ObjectId('6177b937f297aabf1c712a17'), 'geometry': {'coordinates': [126.97373, 37.592999], 'type': 'Point'}, 'properties': {'address': '서울특별시 종로구 부암동 산2-6', 'name': '북악산도시자연공원', 'type': '동물공원'}, 'type': 'Feature'}\n",
      "{'_id': ObjectId('6177b937f297aabf1c712a18'), 'geometry': {'coordinates': [127.000938, 37.624549], 'type': 'Point'}, 'properties': {'address': '서울특별시 종로구 은평구 서대문구 성북구 강북구 도봉구 일대 경기도 의정부 양주군 고양시 일대', 'name': '북한산국립공원', 'type': '동물공원'}, 'type': 'Feature'}\n",
      "{'_id': ObjectId('6177b937f297aabf1c712a19'), 'geometry': {'coordinates': [126.911414, 37.546797], 'type': 'Point'}, 'properties': {'address': '서울특별시 마포구 양화진길 46(외국인묘지공원)', 'name': '외국인묘지공원', 'type': '동물공원'}, 'type': 'Feature'}\n",
      "{'_id': ObjectId('6177b937f297aabf1c712a1a'), 'geometry': {'coordinates': [126.929896, 37.618802], 'type': 'Point'}, 'properties': {'address': '서울특별시 은평구 불광동 산33-1', 'name': '불광근린공원', 'type': '동물공원'}, 'type': 'Feature'}\n",
      "{'_id': ObjectId('6177b937f297aabf1c712a1b'), 'geometry': {'coordinates': [127.095271, 37.663672], 'type': 'Point'}, 'properties': {'address': '서울특별시 노원구 한글비석로12길 51-33(불암산공원) ', 'name': '불암산도시자연공원', 'type': '동물공원'}, 'type': 'Feature'}\n",
      "{'_id': ObjectId('6177b937f297aabf1c712a1c'), 'geometry': {'coordinates': [127.090589, 37.573197], 'type': 'Point'}, 'properties': {'address': '서울특별시 중랑구 면목동 산1-4 ', 'name': '용마폭포공원', 'type': '동물공원'}, 'type': 'Feature'}\n",
      "{'_id': ObjectId('6177b937f297aabf1c712a1d'), 'geometry': {'coordinates': [126.948636, 37.513705], 'type': 'Point'}, 'properties': {'address': '서울특별시 동작구 노량진로 191', 'name': '사육신공원', 'type': '동물공원'}, 'type': 'Feature'}\n",
      "{'_id': ObjectId('6177b937f297aabf1c712a1e'), 'geometry': {'coordinates': [126.878312, 37.542959], 'type': 'Point'}, 'properties': {'address': '서울특별시 양천구 목동 199-51', 'name': '용왕산근린공원', 'type': '동물공원'}, 'type': 'Feature'}\n",
      "{'_id': ObjectId('6177b937f297aabf1c712a1f'), 'geometry': {'coordinates': [126.967402, 37.575986], 'type': 'Point'}, 'properties': {'address': '서울특별시 종로구 사직로9길 5', 'name': '사직근린공원', 'type': '동물공원'}, 'type': 'Feature'}\n",
      "{'_id': ObjectId('6177b937f297aabf1c712a20'), 'geometry': {'coordinates': [126.844932, 37.554193], 'type': 'Point'}, 'properties': {'address': '서울특별시 강서구 내발산동 산4-5', 'name': '우장산근린공원', 'type': '동물공원'}, 'type': 'Feature'}\n",
      "{'_id': ObjectId('6177b937f297aabf1c712a21'), 'geometry': {'coordinates': [126.974369, 37.486018], 'type': 'Point'}, 'properties': {'address': '서울특별시 동작구 사당동 산24-17', 'name': '삼일근린공원', 'type': '동물공원'}, 'type': 'Feature'}\n",
      "{'_id': ObjectId('6177b937f297aabf1c712a22'), 'geometry': {'coordinates': [126.984288, 37.589582], 'type': 'Point'}, 'properties': {'address': '서울특별시 종로구 북촌로 134-1 (우) 03050', 'name': '삼청근린공원', 'type': '동물공원'}, 'type': 'Feature'}\n",
      "{'_id': ObjectId('6177b937f297aabf1c712a23'), 'geometry': {'coordinates': [126.957844, 37.5849], 'type': 'Point'}, 'properties': {'address': '서울특별시 종로구 옥인동 산 3-1 ', 'name': '인왕산도시자연공원', 'type': '동물공원'}, 'type': 'Feature'}\n",
      "{'_id': ObjectId('6177b937f297aabf1c712a24'), 'geometry': {'coordinates': [126.938547, 37.492299], 'type': 'Point'}, 'properties': {'address': '서울특별시 동작구 성대로6사길 27-6(상도공원) ', 'name': '상도근린공원', 'type': '동물공원'}, 'type': 'Feature'}\n",
      "{'_id': ObjectId('6177b937f297aabf1c712a25'), 'geometry': {'coordinates': [127.157459, 37.543166], 'type': 'Point'}, 'properties': {'address': '서울특별시 강동구 동남로 660(일자산공원)', 'name': '일자산도시자연공원', 'type': '동물공원'}, 'type': 'Feature'}\n",
      "{'_id': ObjectId('6177b937f297aabf1c712a26'), 'geometry': {'coordinates': [127.027132, 37.653146], 'type': 'Point'}, 'properties': {'address': '서울특별시 도봉구 쌍문동 산80', 'name': '쌍문근린공원', 'type': '동물공원'}, 'type': 'Feature'}\n",
      "{'_id': ObjectId('6177b937f297aabf1c712a27'), 'geometry': {'coordinates': [127.081363, 37.699232], 'type': 'Point'}, 'properties': {'address': '서울특별시 노원구 상계동 산3-1', 'name': '수락산도시자연공원', 'type': '동물공원'}, 'type': 'Feature'}\n",
      "{'_id': ObjectId('6177b937f297aabf1c712a28'), 'geometry': {'coordinates': [127.0983, 37.506933], 'type': 'Point'}, 'properties': {'address': '서울특별시 송파구 잠실로 148 (잠실동) ', 'name': '송파나루근린공원(석촌호수)', 'type': '동물공원'}, 'type': 'Feature'}\n",
      "{'_id': ObjectId('6177b937f297aabf1c712a29'), 'geometry': {'coordinates': [126.90014, 37.543418], 'type': 'Point'}, 'properties': {'address': '서울특별시 영등포구 선유로 343 (당산동 1) 선유도공원관리사무소', 'name': '선유도근린공원', 'type': '동물공원'}, 'type': 'Feature'}\n",
      "{'_id': ObjectId('6177b937f297aabf1c712a2a'), 'geometry': {'coordinates': [126.96527, 37.556019], 'type': 'Point'}, 'properties': {'address': '서울특별시 중구 손기정로 101 ', 'name': '손기정체육공원', 'type': '동물공원'}, 'type': 'Feature'}\n",
      "{'_id': ObjectId('6177b937f297aabf1c712a2b'), 'geometry': {'coordinates': [127.007862, 37.594851], 'type': 'Point'}, 'properties': {'address': '서울특별시 성북구 돈암동 616-1055', 'name': '성북근린공원', 'type': '동물공원'}, 'type': 'Feature'}\n",
      "{'_id': ObjectId('6177b937f297aabf1c712a2c'), 'geometry': {'coordinates': [126.851784, 37.542198], 'type': 'Point'}, 'properties': {'address': '서울특별시 강서구 화곡동 산41-6', 'name': '봉제산공원', 'type': '동물공원'}, 'type': 'Feature'}\n",
      "{'_id': ObjectId('6177b937f297aabf1c712a2d'), 'geometry': {'coordinates': [127.047938, 37.689585], 'type': 'Point'}, 'properties': {'address': '서울특별시 도봉구 마들로 916(서울창포원) ', 'name': '서울창포원', 'type': '동물공원'}, 'type': 'Feature'}\n",
      "{'_id': ObjectId('6177b937f297aabf1c712a2e'), 'geometry': {'coordinates': [127.040734, 37.623336], 'type': 'Point'}, 'properties': {'address': '서울특별시 강북구 월계로 173', 'name': '북서울꿈의숲', 'type': '동물공원'}, 'type': 'Feature'}\n",
      "{'_id': ObjectId('6177b937f297aabf1c712a2f'), 'geometry': {'coordinates': [126.830479, 37.527839], 'type': 'Point'}, 'properties': {'address': '서울특별시 양천구 남부순환로64길 20 (신월동)', 'name': '서서울호수공원', 'type': '동물공원'}, 'type': 'Feature'}\n",
      "{'_id': ObjectId('6177b937f297aabf1c712a30'), 'geometry': {'coordinates': [127.109308, 37.60499], 'type': 'Point'}, 'properties': {'address': '서울특별시 중랑구 송림길 160(중랑캠핑숲)/중랑구 망우동 74(청소년체험의숲)', 'name': '중랑캠핑숲', 'type': '동물공원'}, 'type': 'Feature'}\n",
      "{'_id': ObjectId('6177b937f297aabf1c712a31'), 'geometry': {'coordinates': [127.011624, 37.652331], 'type': 'Point'}, 'properties': {'address': '서울특별시 강북구 우이동 80번지 일대', 'name': '솔밭근린공원', 'type': '동물공원'}, 'type': 'Feature'}\n",
      "{'_id': ObjectId('6177b937f297aabf1c712a32'), 'geometry': {'coordinates': [126.908681, 37.468164], 'type': 'Point'}, 'properties': {'address': '서울특별시 금천구 독산동 산118-4(금천체육공원)', 'name': '금천체육공원(관악산)', 'type': '동물공원'}, 'type': 'Feature'}\n",
      "{'_id': ObjectId('6177b937f297aabf1c712a33'), 'geometry': {'coordinates': [126.904013, 37.446866], 'type': 'Point'}, 'properties': {'address': '서울특별시 금천구 시흥대로38길 61(시흥동 937-2)', 'name': '금천폭포근린공원', 'type': '동물공원'}, 'type': 'Feature'}\n",
      "{'_id': ObjectId('6177b937f297aabf1c712a34'), 'geometry': {'coordinates': [126.909003, 37.473427], 'type': 'Point'}, 'properties': {'address': '서울특별시 금천구 독산동 산8 일대', 'name': '만수천공원(관악산)', 'type': '동물공원'}, 'type': 'Feature'}\n",
      "{'_id': ObjectId('6177b937f297aabf1c712a35'), 'geometry': {'coordinates': [127.031982, 37.659714], 'type': 'Point'}, 'properties': {'address': '서울특별시 도봉구 시루봉로6길 33', 'name': '발바닥공원', 'type': '동물공원'}, 'type': 'Feature'}\n",
      "{'_id': ObjectId('6177b937f297aabf1c712a36'), 'geometry': {'coordinates': [127.05099, 37.647389], 'type': 'Point'}, 'properties': {'address': '서울특별시 도봉구 창동 28번지', 'name': '월천근린공원', 'type': '동물공원'}, 'type': 'Feature'}\n",
      "{'_id': ObjectId('6177b937f297aabf1c712a37'), 'geometry': {'coordinates': [127.039004, 37.573279], 'type': 'Point'}, 'properties': {'address': '서울특별시 동대문구 용두동 34-1번지 일대', 'name': '용두근린공원', 'type': '동물공원'}, 'type': 'Feature'}\n",
      "{'_id': ObjectId('6177b937f297aabf1c712a38'), 'geometry': {'coordinates': [126.885901, 37.576011], 'type': 'Point'}, 'properties': {'address': '서울특별시 마포구 상암동 1761', 'name': '상암근린공원', 'type': '동물공원'}, 'type': 'Feature'}\n",
      "{'_id': ObjectId('6177b937f297aabf1c712a39'), 'geometry': {'coordinates': [126.928994, 37.55173], 'type': 'Point'}, 'properties': {'address': '서울특별시 마포구 창전동 3-193번지 일대(홍익대 뒷산)', 'name': '와우근린공원', 'type': '동물공원'}, 'type': 'Feature'}\n",
      "{'_id': ObjectId('6177b937f297aabf1c712a3a'), 'geometry': {'coordinates': [127.018946, 37.549473], 'type': 'Point'}, 'properties': {'address': '서울특별시 성동구 장터1길 18', 'name': '금호근린공원', 'type': '동물공원'}, 'type': 'Feature'}\n",
      "{'_id': ObjectId('6177b937f297aabf1c712a3b'), 'geometry': {'coordinates': [127.021205, 37.543564], 'type': 'Point'}, 'properties': {'address': '서울특별시 성동구 옥수동 산1-1', 'name': '달맞이근린공원', 'type': '동물공원'}, 'type': 'Feature'}\n",
      "{'_id': ObjectId('6177b937f297aabf1c712a3c'), 'geometry': {'coordinates': [127.127582, 37.486216], 'type': 'Point'}, 'properties': {'address': '서울특별시 송파구 문정동 18-4', 'name': '문정근린공원', 'type': '동물공원'}, 'type': 'Feature'}\n",
      "{'_id': ObjectId('6177b937f297aabf1c712a3d'), 'geometry': {'coordinates': [127.030517, 37.467654], 'type': 'Point'}, 'properties': {'address': '서울특별시 서초구 바우뫼로12길 40 (양재동)', 'name': '문화예술공원', 'type': '동물공원'}, 'type': 'Feature'}\n",
      "{'_id': ObjectId('6177b937f297aabf1c712a3e'), 'geometry': {'coordinates': [126.975888, 37.5735], 'type': 'Point'}, 'properties': {'address': '서울특별시 종로구 세종대로 189 (우) 03172', 'name': '세종로공원', 'type': '동물공원'}, 'type': 'Feature'}\n",
      "{'_id': ObjectId('6177b937f297aabf1c712a3f'), 'geometry': {'coordinates': [126.938511, 37.464213], 'type': 'Point'}, 'properties': {'address': '서울특별시 관악구 대학동 산63-1일대 샘말공원', 'name': '샘말공원(관악산)', 'type': '동물공원'}, 'type': 'Feature'}\n",
      "{'_id': ObjectId('6177b937f297aabf1c712a40'), 'geometry': {'coordinates': [127.040538, 37.647948], 'type': 'Point'}, 'properties': {'address': '서울특별시 도봉구 창동 산24', 'name': '초안산생태공원', 'type': '동물공원'}, 'type': 'Feature'}\n",
      "{'_id': ObjectId('6177b937f297aabf1c712a41'), 'geometry': {'coordinates': [126.82407, 37.483029], 'type': 'Point'}, 'properties': {'address': '서울특별시 구로구 연동로 240(항동81-1) 푸른수목원관리사무소', 'name': '푸른수목원', 'type': '동물공원'}, 'type': 'Feature'}\n",
      "{'_id': ObjectId('6177b937f297aabf1c712a42'), 'geometry': {'coordinates': [126.913434, 37.637482], 'type': 'Point'}, 'properties': {'address': '서울특별시 은평구 구파발동 갈현동 진관내동', 'name': '서오능도시자연공원', 'type': '동물공원'}, 'type': 'Feature'}\n",
      "{'_id': ObjectId('6177b937f297aabf1c712a43'), 'geometry': {'coordinates': [127.042473, 37.422435], 'type': 'Point'}, 'properties': {'address': '서울특별시 서초구 원지동 산 33', 'name': '청계산도시자연공원', 'type': '동물공원'}, 'type': 'Feature'}\n",
      "{'_id': ObjectId('6177b937f297aabf1c712a44'), 'geometry': {'coordinates': [126.806828, 37.581392], 'type': 'Point'}, 'properties': {'address': '서울특별시 강서구 개화동 산17', 'name': '개화근린공원', 'type': '동물공원'}, 'type': 'Feature'}\n",
      "{'_id': ObjectId('6177b937f297aabf1c712a45'), 'geometry': {'coordinates': [127.101003, 37.551714], 'type': 'Point'}, 'properties': {'address': '서울특별시 광진구 광장동 370', 'name': '아차산생태공원', 'type': '동물공원'}, 'type': 'Feature'}\n",
      "{'_id': ObjectId('6177b937f297aabf1c712a46'), 'geometry': {'coordinates': [127.066663, 37.448211], 'type': 'Point'}, 'properties': {'address': '서울특별시 서초구 내곡동 산12-404', 'name': '인능산도시자연공원', 'type': '동물공원'}, 'type': 'Feature'}\n",
      "{'_id': ObjectId('6177b937f297aabf1c712a47'), 'geometry': {'coordinates': [127.061567, 37.468947], 'type': 'Point'}, 'properties': {'address': '서울특별시 서초구 염곡동 산25-1', 'name': '구룡산', 'type': '동물공원'}, 'type': 'Feature'}\n",
      "{'_id': ObjectId('6177b937f297aabf1c712a48'), 'geometry': {'coordinates': [127.009132, 37.470484], 'type': 'Point'}, 'properties': {'address': '서울특별시 서초구 우면동 산35-1', 'name': '우면산도시자연공원', 'type': '동물공원'}, 'type': 'Feature'}\n",
      "{'_id': ObjectId('6177b937f297aabf1c712a49'), 'geometry': {'coordinates': [126.924069, 37.629382], 'type': 'Point'}, 'properties': {'address': '서울특별시 은평구 진관동 산55', 'name': '향림근린공원', 'type': '동물공원'}, 'type': 'Feature'}\n",
      "{'_id': ObjectId('6177b937f297aabf1c712a4a'), 'geometry': {'coordinates': [126.910295, 37.592077], 'type': 'Point'}, 'properties': {'address': '서울특별시 은평구 신사동 산80-4', 'name': '신사근린공원', 'type': '동물공원'}, 'type': 'Feature'}\n",
      "{'_id': ObjectId('6177b937f297aabf1c712a4b'), 'geometry': {'coordinates': [126.971592, 37.555872], 'type': 'Point'}, 'properties': {'address': '서울특별시 중구 통일로 1 서울역', 'name': '문화역 서울284', 'type': '동물공원'}, 'type': 'Feature'}\n",
      "{'_id': ObjectId('6177b937f297aabf1c712a4c'), 'geometry': {'coordinates': [127.092184, 37.488044], 'type': 'Point'}, 'properties': {'address': '서울특별시 강남구 수서동 산10-1', 'name': '광평근린공원', 'type': '동물공원'}, 'type': 'Feature'}\n",
      "{'_id': ObjectId('6177b937f297aabf1c712a4d'), 'geometry': {'coordinates': [127.052453, 37.521326], 'type': 'Point'}, 'properties': {'address': '서울특별시 강남구 청담동 66', 'name': '청담근린공원', 'type': '동물공원'}, 'type': 'Feature'}\n",
      "{'_id': ObjectId('6177b937f297aabf1c712a4e'), 'geometry': {'coordinates': [127.153395, 37.537272], 'type': 'Point'}, 'properties': {'address': '서울특별시 강동구 둔촌동 산94', 'name': '허브천문공원', 'type': '동물공원'}, 'type': 'Feature'}\n",
      "{'_id': ObjectId('6177b937f297aabf1c712a4f'), 'geometry': {'coordinates': [126.920735, 37.619052], 'type': 'Point'}, 'properties': {'address': '서울특별시 은평구 통일로 849', 'name': '연신내물빛공원', 'type': '동물공원'}, 'type': 'Feature'}\n",
      "{'_id': ObjectId('6177b937f297aabf1c712a50'), 'geometry': {'coordinates': [127.113261, 37.605422], 'type': 'Point'}, 'properties': {'address': '서울특별시 중구 망우동 산 30-7 일대', 'name': '나들이근린공원', 'type': '동물공원'}, 'type': 'Feature'}\n",
      "{'_id': ObjectId('6177b937f297aabf1c712a51'), 'geometry': {'coordinates': [127.017827, 37.576442], 'type': 'Point'}, 'properties': {'address': '서울특별시 종로구 숭인동 58', 'name': '숭인근린공원', 'type': '동물공원'}, 'type': 'Feature'}\n",
      "{'_id': ObjectId('6177b937f297aabf1c712a52'), 'geometry': {'coordinates': [127.098782, 37.587716], 'type': 'Point'}, 'properties': {'address': '서울특별시 중랑구 면목동 산19', 'name': '서일대뒷산공원', 'type': '동물공원'}, 'type': 'Feature'}\n",
      "{'_id': ObjectId('6177b937f297aabf1c712a53'), 'geometry': {'coordinates': [127.095997, 37.579762], 'type': 'Point'}, 'properties': {'address': '서울특별시 중랑구 면목7동 산50 ', 'name': '용마도시자연공원(사가정공원)', 'type': '동물공원'}, 'type': 'Feature'}\n",
      "{'_id': ObjectId('6177b937f297aabf1c712a54'), 'geometry': {'coordinates': [126.893246, 37.571718], 'type': 'Point'}, 'properties': {'address': '서울특별시 마포구 증산로 87', 'name': '문화비축기지', 'type': '동물공원'}, 'type': 'Feature'}\n",
      "{'_id': ObjectId('6177b937f297aabf1c712a55'), 'geometry': {'coordinates': [127.076482, 37.627077], 'type': 'Point'}, 'properties': {'address': '노원구 공릉2동 산 82-2', 'name': '경춘선숲길', 'type': '동물공원'}, 'type': 'Feature'}\n",
      "{'_id': ObjectId('6177b937f297aabf1c712a56'), 'geometry': {'coordinates': [127.115594, 37.472332], 'type': 'Point'}, 'properties': {'address': '서울특별시 강남구 율현동 밤고개로24길(율현동 56)', 'name': '율현공원', 'type': '동물공원'}, 'type': 'Feature'}\n",
      "{'_id': ObjectId('6178d7f6a83966f27837817e'), 'geometry': {'coordinates': [126.892448, 37.564134], 'type': 'Point'}, 'properties': {'address': '서울특별시 마포구 증산로 32', 'name': '월드컵공원반려견놀이터반려견놀이터', 'type': '동물놀이터'}, 'type': 'Feature'}\n",
      "{'_id': ObjectId('6178d7f6a83966f27837817f'), 'geometry': {'coordinates': [126.844331, 37.530306], 'type': 'Point'}, 'properties': {'address': '서울특별시 강서구 곰달래로 104 3층 카페700', 'name': '카페700반려견놀이터', 'type': '동물놀이터'}, 'type': 'Feature'}\n",
      "{'_id': ObjectId('6178d7f6a83966f278378180'), 'geometry': {'coordinates': [126.847042, 37.545379], 'type': 'Point'}, 'properties': {'address': '서울특별시 강서구 까치산로 75 호왕빌딩 7층 마이댕댕스쿨', 'name': '마이댕댕스쿨반려견놀이터', 'type': '동물놀이터'}, 'type': 'Feature'}\n",
      "{'_id': ObjectId('6178d7f6a83966f278378181'), 'geometry': {'coordinates': [127.056653, 37.568793], 'type': 'Point'}, 'properties': {'address': '서울특별시 동대문구 전농로 43 1층', 'name': '까네지노반려견놀이터', 'type': '동물놀이터'}, 'type': 'Feature'}\n",
      "{'_id': ObjectId('6178d7f6a83966f278378182'), 'geometry': {'coordinates': [127.039143, 37.579038], 'type': 'Point'}, 'properties': {'address': '서울특별시 동대문구 고산자로36길 3 경동시장', 'name': '도그어스플래닛반려견놀이터', 'type': '동물놀이터'}, 'type': 'Feature'}\n",
      "{'_id': ObjectId('6178d7f6a83966f278378183'), 'geometry': {'coordinates': [127.078772, 37.552012], 'type': 'Point'}, 'properties': {'address': '서울특별시 광진구 능동로 216', 'name': '어린이대공원 반려견 놀이터반려견놀이터', 'type': '동물놀이터'}, 'type': 'Feature'}\n",
      "{'_id': ObjectId('6178d7f6a83966f278378184'), 'geometry': {'coordinates': [127.068431, 37.589811], 'type': 'Point'}, 'properties': {'address': '서울특별시 동대문구 휘경동 산6-26', 'name': '휘경2동 반려견놀이터반려견놀이터', 'type': '동물놀이터'}, 'type': 'Feature'}\n",
      "{'_id': ObjectId('6178d7f6a83966f278378185'), 'geometry': {'coordinates': [127.041384, 37.647494], 'type': 'Point'}, 'properties': {'address': '서울특별시 도봉구 해등로3길 48-11', 'name': '초안산공공반려견놀이터반려견놀이터', 'type': '동물놀이터'}, 'type': 'Feature'}\n",
      "{'_id': ObjectId('6178d7f6a83966f278378186'), 'geometry': {'coordinates': [127.088353, 37.67587], 'type': 'Point'}, 'properties': {'address': '서울특별시 노원구 상계동 산158-1', 'name': '당고개반려견임시놀이터반려견놀이터', 'type': '동물놀이터'}, 'type': 'Feature'}\n",
      "{'_id': ObjectId('6178d7f6a83966f278378187'), 'geometry': {'coordinates': [127.146792, 37.564722], 'type': 'Point'}, 'properties': {'address': '서울특별시 강동구 아리수로61길 91-14 2층', 'name': '스테이지28웁시데이지반려견놀이터', 'type': '동물놀이터'}, 'type': 'Feature'}\n",
      "{'_id': ObjectId('6178d7f6a83966f278378188'), 'geometry': {'coordinates': [127.033359, 37.503909], 'type': 'Point'}, 'properties': {'address': '서울특별시 강남구 봉은사로20길 52 지하 1층', 'name': '24개스트하우스 강남강아지유치원반려견놀이터', 'type': '동물놀이터'}, 'type': 'Feature'}\n",
      "{'_id': ObjectId('6178d7f6a83966f278378189'), 'geometry': {'coordinates': [127.042934, 37.51447], 'type': 'Point'}, 'properties': {'address': '서울특별시 강남구 선릉로122길 4', 'name': '개러리아 삼성본점반려견놀이터', 'type': '동물놀이터'}, 'type': 'Feature'}\n",
      "{'_id': ObjectId('6178d7f6a83966f27837818a'), 'geometry': {'coordinates': [127.042877, 37.499331], 'type': 'Point'}, 'properties': {'address': '서울특별시 강남구 언주로79길 14 2층', 'name': '강남강아지반려견놀이터', 'type': '동물놀이터'}, 'type': 'Feature'}\n",
      "{'_id': ObjectId('6178d7f6a83966f27837818b'), 'geometry': {'coordinates': [126.919491, 37.494892], 'type': 'Point'}, 'properties': {'address': '서울특별시 동작구 여의대방로20길 33 보라매공원', 'name': '보라매공원 반려견 놀이터반려견놀이터', 'type': '동물놀이터'}, 'type': 'Feature'}\n",
      "{'_id': ObjectId('6178d7f6a83966f27837818c'), 'geometry': {'coordinates': [126.922876, 37.508136], 'type': 'Point'}, 'properties': {'address': '서울특별시 영등포구 여의대방로 249 우주마루에어스포렉스 1층', 'name': '개좋은날반려견놀이터', 'type': '동물놀이터'}, 'type': 'Feature'}\n",
      "{'_id': ObjectId('6178d7f6a83966f27837818d'), 'geometry': {'coordinates': [126.818459, 37.573127], 'type': 'Point'}, 'properties': {'address': '서울특별시 강서구 양천로 132 2층 멍마르뜨', 'name': '멍마르뜨반려견놀이터', 'type': '동물놀이터'}, 'type': 'Feature'}\n"
     ]
    }
   ],
   "source": [
    "for b in a :\n",
    "    print(b)"
   ]
  },
  {
   "cell_type": "code",
   "execution_count": 6,
   "id": "50214918",
   "metadata": {},
   "outputs": [],
   "source": [
    "collections = ['park','beauty','cafe','deliver','equip','food','funeral','hospital','manage',\n",
    "               'medical_equip','pharmacy','play','restaurant','sell','shelter']"
   ]
  },
  {
   "cell_type": "code",
   "execution_count": 7,
   "id": "5ae75835",
   "metadata": {
    "scrolled": false
   },
   "outputs": [],
   "source": [
    "for collection in collections:\n",
    "    collection = db[collection]"
   ]
  },
  {
   "cell_type": "code",
   "execution_count": 8,
   "id": "405c4766",
   "metadata": {
    "scrolled": true
   },
   "outputs": [],
   "source": [
    "import json\n",
    "json_data= []\n",
    "with open('/Users/minji/PMJ/Data/json/동물공원.json') as f:\n",
    "\n",
    "#    print(len(f.readlines()))\n",
    "    for line in  f.readlines():\n",
    "        a = line.replace('\\n','')\n",
    "        json_data.append(json.loads(a))\n",
    "        \n",
    "#         json.loads(json_data)\n"
   ]
  },
  {
   "cell_type": "code",
   "execution_count": 22,
   "id": "333356ba",
   "metadata": {},
   "outputs": [],
   "source": [
    "import json\n",
    "json_data= []\n",
    "with open('/Users/minji/PMJ/Data/json/동물놀이터.json') as f:\n",
    "\n",
    "#    print(len(f.readlines()))\n",
    "    for line in  f.readlines():\n",
    "        c = line.replace('\\n','')\n",
    "        json_data.append(json.loads(c))\n",
    "        \n",
    "#         json.loads(json_data)\n"
   ]
  },
  {
   "cell_type": "code",
   "execution_count": null,
   "id": "df8523b1",
   "metadata": {},
   "outputs": [],
   "source": []
  },
  {
   "cell_type": "code",
   "execution_count": null,
   "id": "f9963d94",
   "metadata": {},
   "outputs": [],
   "source": []
  },
  {
   "cell_type": "code",
   "execution_count": null,
   "id": "2d7c0842",
   "metadata": {},
   "outputs": [],
   "source": []
  },
  {
   "cell_type": "code",
   "execution_count": null,
   "id": "edba0e11",
   "metadata": {},
   "outputs": [],
   "source": []
  },
  {
   "cell_type": "code",
   "execution_count": null,
   "id": "81fdf645",
   "metadata": {},
   "outputs": [],
   "source": []
  },
  {
   "cell_type": "code",
   "execution_count": null,
   "id": "46dbc61d",
   "metadata": {},
   "outputs": [],
   "source": []
  },
  {
   "cell_type": "code",
   "execution_count": 19,
   "id": "7d48d4d6",
   "metadata": {
    "scrolled": false
   },
   "outputs": [
    {
     "data": {
      "text/plain": [
       "<pymongo.results.InsertManyResult at 0x7fb0513b9ec0>"
      ]
     },
     "execution_count": 19,
     "metadata": {},
     "output_type": "execute_result"
    }
   ],
   "source": [
    "db.park.insert_many(json_data)"
   ]
  },
  {
   "cell_type": "code",
   "execution_count": 20,
   "id": "efbcf65f",
   "metadata": {},
   "outputs": [
    {
     "data": {
      "text/plain": [
       "'geometry_2dsphere'"
      ]
     },
     "execution_count": 20,
     "metadata": {},
     "output_type": "execute_result"
    }
   ],
   "source": [
    "from pymongo import GEOSPHERE\n",
    "db.park.create_index([('geometry' , GEOSPHERE)])"
   ]
  },
  {
   "cell_type": "code",
   "execution_count": 21,
   "id": "986bad70",
   "metadata": {},
   "outputs": [
    {
     "ename": "SyntaxError",
     "evalue": "cannot assign to operator (<ipython-input-21-2fcebe741d2e>, line 2)",
     "output_type": "error",
     "traceback": [
      "\u001b[0;36m  File \u001b[0;32m\"<ipython-input-21-2fcebe741d2e>\"\u001b[0;36m, line \u001b[0;32m2\u001b[0m\n\u001b[0;31m    counts + i = []\u001b[0m\n\u001b[0m    ^\u001b[0m\n\u001b[0;31mSyntaxError\u001b[0m\u001b[0;31m:\u001b[0m cannot assign to operator\n"
     ]
    }
   ],
   "source": [
    "for i in range(1,16):\n",
    "    counts + i = []\n",
    "    for i in range(0,len(a)): \n",
    "        c = list(sell.aggregate(\n",
    "            [{\n",
    "                \"$geoNear\": {\n",
    "                    \"near\": { \"type\": \"Point\", \"coordinates\": a[i] },\n",
    "                    \"distanceField\": 'meters',\n",
    "                    \"maxDistance\": 700\n",
    "                }\n",
    "            }]\n",
    "        ))\n",
    "        counts14.append(len(c))\n"
   ]
  },
  {
   "cell_type": "code",
   "execution_count": null,
   "id": "c2d8ac6b",
   "metadata": {},
   "outputs": [],
   "source": []
  }
 ],
 "metadata": {
  "kernelspec": {
   "display_name": "Python 3",
   "language": "python",
   "name": "python3"
  },
  "language_info": {
   "codemirror_mode": {
    "name": "ipython",
    "version": 3
   },
   "file_extension": ".py",
   "mimetype": "text/x-python",
   "name": "python",
   "nbconvert_exporter": "python",
   "pygments_lexer": "ipython3",
   "version": "3.8.8"
  }
 },
 "nbformat": 4,
 "nbformat_minor": 5
}
