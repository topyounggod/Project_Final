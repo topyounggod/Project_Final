{
 "cells": [
  {
   "cell_type": "code",
   "execution_count": 1,
   "id": "149f991f",
   "metadata": {},
   "outputs": [
    {
     "name": "stdout",
     "output_type": "stream",
     "text": [
      "Requirement already satisfied: pymysql in c:\\programdata\\anaconda3\\lib\\site-packages (1.0.2)\n",
      "Note: you may need to restart the kernel to use updated packages.\n"
     ]
    },
    {
     "name": "stderr",
     "output_type": "stream",
     "text": [
      "WARNING: Ignoring invalid distribution -ip (c:\\programdata\\anaconda3\\lib\\site-packages)\n",
      "WARNING: Ignoring invalid distribution - (c:\\programdata\\anaconda3\\lib\\site-packages)\n",
      "WARNING: Ignoring invalid distribution -ip (c:\\programdata\\anaconda3\\lib\\site-packages)\n",
      "WARNING: Ignoring invalid distribution - (c:\\programdata\\anaconda3\\lib\\site-packages)\n",
      "WARNING: Ignoring invalid distribution -ip (c:\\programdata\\anaconda3\\lib\\site-packages)\n",
      "WARNING: Ignoring invalid distribution - (c:\\programdata\\anaconda3\\lib\\site-packages)\n",
      "WARNING: Ignoring invalid distribution -ip (c:\\programdata\\anaconda3\\lib\\site-packages)\n",
      "WARNING: Ignoring invalid distribution - (c:\\programdata\\anaconda3\\lib\\site-packages)\n",
      "WARNING: Ignoring invalid distribution -ip (c:\\programdata\\anaconda3\\lib\\site-packages)\n",
      "WARNING: Ignoring invalid distribution - (c:\\programdata\\anaconda3\\lib\\site-packages)\n",
      "WARNING: Ignoring invalid distribution -ip (c:\\programdata\\anaconda3\\lib\\site-packages)\n",
      "WARNING: Ignoring invalid distribution - (c:\\programdata\\anaconda3\\lib\\site-packages)\n",
      "WARNING: You are using pip version 21.2.4; however, version 21.3.1 is available.\n",
      "You should consider upgrading via the 'C:\\ProgramData\\Anaconda3\\python.exe -m pip install --upgrade pip' command.\n"
     ]
    }
   ],
   "source": [
    "pip install pymysql"
   ]
  },
  {
   "cell_type": "code",
   "execution_count": 6,
   "id": "62f52ef3",
   "metadata": {},
   "outputs": [],
   "source": [
    "import pandas as pd\n",
    "import pymysql.cursors"
   ]
  },
  {
   "cell_type": "code",
   "execution_count": 2,
   "id": "66e7632b",
   "metadata": {},
   "outputs": [],
   "source": [
    "import pymysql"
   ]
  },
  {
   "cell_type": "code",
   "execution_count": 3,
   "id": "df8c8b0d",
   "metadata": {},
   "outputs": [],
   "source": [
    "db = pymysql.connect(\n",
    "    user='root',\n",
    "    password='0000',\n",
    "    host='127.0.0.1',\n",
    "    db='TEST',\n",
    "    charset='utf8',\n",
    "    port=3306\n",
    ")"
   ]
  },
  {
   "cell_type": "code",
   "execution_count": 8,
   "id": "385ab4a5",
   "metadata": {},
   "outputs": [],
   "source": [
    "cursor = db.cursor(pymysql.cursors.DictCursor)"
   ]
  },
  {
   "cell_type": "code",
   "execution_count": 6,
   "id": "7edc6318",
   "metadata": {},
   "outputs": [],
   "source": [
    "sql = \"SELECT hospital*\" + str(5) + \" as hospital from cluster_result limit 5;\"\n",
    "cursor.execute(sql)\n",
    "result = cursor.fetchall()"
   ]
  },
  {
   "cell_type": "code",
   "execution_count": 7,
   "id": "0bed4e75",
   "metadata": {},
   "outputs": [
    {
     "data": {
      "text/plain": [
       "[{'hospital': 1.08695652},\n",
       " {'hospital': 1.5217391299999998},\n",
       " {'hospital': 0.869565215},\n",
       " {'hospital': 0.43478260999999996},\n",
       " {'hospital': 2.173913045}]"
      ]
     },
     "execution_count": 7,
     "metadata": {},
     "output_type": "execute_result"
    }
   ],
   "source": [
    "result"
   ]
  },
  {
   "cell_type": "code",
   "execution_count": 3,
   "id": "ab6ab06f",
   "metadata": {},
   "outputs": [],
   "source": [
    "insert_sql = \"INSERT INTO TEST VALUES (%(a)s, %(b)s, %(c)s, %(d)s);\""
   ]
  },
  {
   "cell_type": "code",
   "execution_count": null,
   "id": "82966477",
   "metadata": {},
   "outputs": [],
   "source": [
    "sql = \"SELECT hospital*\" + str(5) + \" as hospital from cluster_result limit 5;\""
   ]
  },
  {
   "cell_type": "code",
   "execution_count": 9,
   "id": "cd620855",
   "metadata": {},
   "outputs": [],
   "source": [
    "select A, B, C, A+B+C as ssam from table;"
   ]
  },
  {
   "cell_type": "code",
   "execution_count": null,
   "id": "6ecca0e7",
   "metadata": {},
   "outputs": [],
   "source": [
    "a = \"INSERT INTO user VALUES (%(a)s, %(b)s, %(c)s, %(d)s);\""
   ]
  },
  {
   "cell_type": "code",
   "execution_count": 12,
   "id": "52763ab0",
   "metadata": {},
   "outputs": [
    {
     "name": "stdout",
     "output_type": "stream",
     "text": [
      "   hospital\n",
      "0  1.086957\n",
      "1  1.521739\n",
      "2  0.869565\n",
      "3  0.434783\n",
      "4  2.173913\n"
     ]
    }
   ],
   "source": [
    "df = pd.DataFrame(result)\n",
    "print(df)"
   ]
  },
  {
   "cell_type": "code",
   "execution_count": null,
   "id": "e8344f5f",
   "metadata": {},
   "outputs": [],
   "source": []
  },
  {
   "cell_type": "code",
   "execution_count": null,
   "id": "688cd136",
   "metadata": {},
   "outputs": [],
   "source": []
  }
 ],
 "metadata": {
  "kernelspec": {
   "display_name": "Python 3",
   "language": "python",
   "name": "python3"
  },
  "language_info": {
   "codemirror_mode": {
    "name": "ipython",
    "version": 3
   },
   "file_extension": ".py",
   "mimetype": "text/x-python",
   "name": "python",
   "nbconvert_exporter": "python",
   "pygments_lexer": "ipython3",
   "version": "3.8.8"
  }
 },
 "nbformat": 4,
 "nbformat_minor": 5
}
