{
 "cells": [
  {
   "cell_type": "code",
   "execution_count": 1,
   "id": "304f5074",
   "metadata": {},
   "outputs": [],
   "source": [
    "from pymongo import MongoClient"
   ]
  },
  {
   "cell_type": "code",
   "execution_count": 2,
   "id": "533238f0",
   "metadata": {},
   "outputs": [],
   "source": [
    "import pymongo"
   ]
  },
  {
   "cell_type": "code",
   "execution_count": 3,
   "id": "b70d5243",
   "metadata": {},
   "outputs": [],
   "source": [
    "client = MongoClient(\"mongodb://localhost:27017/\")"
   ]
  },
  {
   "cell_type": "code",
   "execution_count": 4,
   "id": "93f21adf",
   "metadata": {},
   "outputs": [],
   "source": [
    "db = client['practice']"
   ]
  },
  {
   "cell_type": "code",
   "execution_count": 5,
   "id": "50214918",
   "metadata": {},
   "outputs": [],
   "source": [
    "collections = ['park','beauty','cafe','deliver','equip','food','funeral','hospital','manage',\n",
    "               'medical_equip','pharmacy','play','restaurant','sell','shelter']"
   ]
  },
  {
   "cell_type": "code",
   "execution_count": 6,
   "id": "5ae75835",
   "metadata": {
    "scrolled": false
   },
   "outputs": [
    {
     "data": {
      "text/plain": [
       "['cafe',\n",
       " 'play',\n",
       " 'manage',\n",
       " 'park',\n",
       " 'food',\n",
       " 'equip',\n",
       " 'shelter',\n",
       " 'funeral',\n",
       " 'medical_equip',\n",
       " 'hospital',\n",
       " 'restaurant',\n",
       " 'beauty',\n",
       " 'deliver',\n",
       " 'pharmacy',\n",
       " 'sell']"
      ]
     },
     "execution_count": 6,
     "metadata": {},
     "output_type": "execute_result"
    }
   ],
   "source": [
    "db.list_collection_names()"
   ]
  },
  {
   "cell_type": "code",
   "execution_count": 71,
   "id": "405c4766",
   "metadata": {
    "scrolled": true
   },
   "outputs": [],
   "source": [
    "import json\n",
    "json_data= []\n",
    "with open('D:/OneDrive/DataScience/프로젝트(파이널)/Data/json/동물공원.json') as f:\n",
    "\n",
    "#    print(len(f.readlines()))\n",
    "    for line in  f.readlines():\n",
    "        a = line.replace('\\n','')\n",
    "        json_data.append(json.loads(a))\n",
    "        \n",
    "#         json.loads(json_data)\n"
   ]
  },
  {
   "cell_type": "code",
   "execution_count": 73,
   "id": "7d48d4d6",
   "metadata": {
    "scrolled": false
   },
   "outputs": [
    {
     "data": {
      "text/plain": [
       "<pymongo.results.InsertManyResult at 0x2784fb27940>"
      ]
     },
     "execution_count": 73,
     "metadata": {},
     "output_type": "execute_result"
    }
   ],
   "source": [
    "db.park.insert_many(json_data)"
   ]
  },
  {
   "cell_type": "code",
   "execution_count": 81,
   "id": "efbcf65f",
   "metadata": {},
   "outputs": [
    {
     "data": {
      "text/plain": [
       "'geometry_2dsphere'"
      ]
     },
     "execution_count": 81,
     "metadata": {},
     "output_type": "execute_result"
    }
   ],
   "source": [
    "from pymongo import GEOSPHERE\n",
    "db.park.create_index([('geometry' , GEOSPHERE)])"
   ]
  },
  {
   "cell_type": "code",
   "execution_count": 82,
   "id": "986bad70",
   "metadata": {},
   "outputs": [
    {
     "ename": "SyntaxError",
     "evalue": "invalid syntax (<ipython-input-82-fe0d48f7152c>, line 15)",
     "output_type": "error",
     "traceback": [
      "\u001b[1;36m  File \u001b[1;32m\"<ipython-input-82-fe0d48f7152c>\"\u001b[1;36m, line \u001b[1;32m15\u001b[0m\n\u001b[1;33m    20 살 미만\u001b[0m\n\u001b[1;37m       ^\u001b[0m\n\u001b[1;31mSyntaxError\u001b[0m\u001b[1;31m:\u001b[0m invalid syntax\n"
     ]
    }
   ],
   "source": [
    "for i in range(1,16):\n",
    "    counts + i = []\n",
    "    for i in range(0,len(a)): \n",
    "        c = list(sell.aggregate(\n",
    "            [{\n",
    "                \"$geoNear\": {\n",
    "                    \"near\": { \"type\": \"Point\", \"coordinates\": a[i] },\n",
    "                    \"distanceField\": 'meters',\n",
    "                    \"maxDistance\": 700\n",
    "                }\n",
    "            }]\n",
    "        ))\n",
    "        counts14.append(len(c))\n"
   ]
  },
  {
   "cell_type": "code",
   "execution_count": null,
   "id": "c2d8ac6b",
   "metadata": {},
   "outputs": [],
   "source": []
  }
 ],
 "metadata": {
  "kernelspec": {
   "display_name": "Python 3",
   "language": "python",
   "name": "python3"
  },
  "language_info": {
   "codemirror_mode": {
    "name": "ipython",
    "version": 3
   },
   "file_extension": ".py",
   "mimetype": "text/x-python",
   "name": "python",
   "nbconvert_exporter": "python",
   "pygments_lexer": "ipython3",
   "version": "3.8.8"
  }
 },
 "nbformat": 4,
 "nbformat_minor": 5
}
