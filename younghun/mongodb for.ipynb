{
 "cells": [
  {
   "cell_type": "code",
   "execution_count": 1,
   "id": "304f5074",
   "metadata": {},
   "outputs": [],
   "source": [
    "from pymongo import MongoClient"
   ]
  },
  {
   "cell_type": "code",
   "execution_count": 2,
   "id": "533238f0",
   "metadata": {},
   "outputs": [],
   "source": [
    "import pymongo"
   ]
  },
  {
   "cell_type": "code",
   "execution_count": 3,
   "id": "b70d5243",
   "metadata": {},
   "outputs": [],
   "source": [
    "client = MongoClient(\"mongodb://localhost:27017/\")"
   ]
  },
  {
   "cell_type": "code",
   "execution_count": 4,
   "id": "93f21adf",
   "metadata": {},
   "outputs": [],
   "source": [
    "db = client['practice']"
   ]
  },
  {
   "cell_type": "code",
   "execution_count": 5,
   "id": "50214918",
   "metadata": {},
   "outputs": [],
   "source": [
    "collections = ['park','beauty','cafe','deliver','equip','food','funeral','hospital','manage',\n",
    "               'medical_equip','pharmacy','play','restaurant','sell','shelter']"
   ]
  },
  {
   "cell_type": "code",
   "execution_count": 6,
   "id": "5ae75835",
   "metadata": {
    "scrolled": false
   },
   "outputs": [
    {
     "data": {
      "text/plain": [
       "['cafe',\n",
       " 'play',\n",
       " 'manage',\n",
       " 'park',\n",
       " 'food',\n",
       " 'equip',\n",
       " 'shelter',\n",
       " 'funeral',\n",
       " 'medical_equip',\n",
       " 'hospital',\n",
       " 'restaurant',\n",
       " 'beauty',\n",
       " 'deliver',\n",
       " 'pharmacy',\n",
       " 'sell']"
      ]
     },
     "execution_count": 6,
     "metadata": {},
     "output_type": "execute_result"
    }
   ],
   "source": [
    "db.list_collection_names()"
   ]
  },
  {
   "cell_type": "code",
   "execution_count": 106,
   "id": "405c4766",
   "metadata": {},
   "outputs": [
    {
     "ename": "TypeError",
     "evalue": "Object of type TextIOWrapper is not JSON serializable",
     "output_type": "error",
     "traceback": [
      "\u001b[1;31m---------------------------------------------------------------------------\u001b[0m",
      "\u001b[1;31mTypeError\u001b[0m                                 Traceback (most recent call last)",
      "\u001b[1;32m<ipython-input-106-626ec4a691ff>\u001b[0m in \u001b[0;36m<module>\u001b[1;34m\u001b[0m\n\u001b[0;32m      2\u001b[0m \u001b[0mjson_data\u001b[0m\u001b[1;33m=\u001b[0m \u001b[1;33m[\u001b[0m\u001b[1;33m]\u001b[0m\u001b[1;33m\u001b[0m\u001b[1;33m\u001b[0m\u001b[0m\n\u001b[0;32m      3\u001b[0m \u001b[1;32mwith\u001b[0m \u001b[0mopen\u001b[0m\u001b[1;33m(\u001b[0m\u001b[1;34m'D:/OneDrive/DataScience/프로젝트(파이널)/Data/json/동물공원.json'\u001b[0m\u001b[1;33m)\u001b[0m \u001b[1;32mas\u001b[0m \u001b[0mf\u001b[0m\u001b[1;33m:\u001b[0m\u001b[1;33m\u001b[0m\u001b[1;33m\u001b[0m\u001b[0m\n\u001b[1;32m----> 4\u001b[1;33m     \u001b[0mjson\u001b[0m\u001b[1;33m.\u001b[0m\u001b[0mdumps\u001b[0m\u001b[1;33m(\u001b[0m\u001b[0mf\u001b[0m\u001b[1;33m)\u001b[0m\u001b[1;33m\u001b[0m\u001b[1;33m\u001b[0m\u001b[0m\n\u001b[0m\u001b[0;32m      5\u001b[0m     \u001b[1;31m#    for i in  range(1,131):\u001b[0m\u001b[1;33m\u001b[0m\u001b[1;33m\u001b[0m\u001b[1;33m\u001b[0m\u001b[0m\n\u001b[0;32m      6\u001b[0m \u001b[1;31m#         a = f.readline().replace('\\n','')\u001b[0m\u001b[1;33m\u001b[0m\u001b[1;33m\u001b[0m\u001b[1;33m\u001b[0m\u001b[0m\n",
      "\u001b[1;32mD:\\anaconda3\\lib\\json\\__init__.py\u001b[0m in \u001b[0;36mdumps\u001b[1;34m(obj, skipkeys, ensure_ascii, check_circular, allow_nan, cls, indent, separators, default, sort_keys, **kw)\u001b[0m\n\u001b[0;32m    229\u001b[0m         \u001b[0mcls\u001b[0m \u001b[1;32mis\u001b[0m \u001b[1;32mNone\u001b[0m \u001b[1;32mand\u001b[0m \u001b[0mindent\u001b[0m \u001b[1;32mis\u001b[0m \u001b[1;32mNone\u001b[0m \u001b[1;32mand\u001b[0m \u001b[0mseparators\u001b[0m \u001b[1;32mis\u001b[0m \u001b[1;32mNone\u001b[0m \u001b[1;32mand\u001b[0m\u001b[1;33m\u001b[0m\u001b[1;33m\u001b[0m\u001b[0m\n\u001b[0;32m    230\u001b[0m         default is None and not sort_keys and not kw):\n\u001b[1;32m--> 231\u001b[1;33m         \u001b[1;32mreturn\u001b[0m \u001b[0m_default_encoder\u001b[0m\u001b[1;33m.\u001b[0m\u001b[0mencode\u001b[0m\u001b[1;33m(\u001b[0m\u001b[0mobj\u001b[0m\u001b[1;33m)\u001b[0m\u001b[1;33m\u001b[0m\u001b[1;33m\u001b[0m\u001b[0m\n\u001b[0m\u001b[0;32m    232\u001b[0m     \u001b[1;32mif\u001b[0m \u001b[0mcls\u001b[0m \u001b[1;32mis\u001b[0m \u001b[1;32mNone\u001b[0m\u001b[1;33m:\u001b[0m\u001b[1;33m\u001b[0m\u001b[1;33m\u001b[0m\u001b[0m\n\u001b[0;32m    233\u001b[0m         \u001b[0mcls\u001b[0m \u001b[1;33m=\u001b[0m \u001b[0mJSONEncoder\u001b[0m\u001b[1;33m\u001b[0m\u001b[1;33m\u001b[0m\u001b[0m\n",
      "\u001b[1;32mD:\\anaconda3\\lib\\json\\encoder.py\u001b[0m in \u001b[0;36mencode\u001b[1;34m(self, o)\u001b[0m\n\u001b[0;32m    197\u001b[0m         \u001b[1;31m# exceptions aren't as detailed.  The list call should be roughly\u001b[0m\u001b[1;33m\u001b[0m\u001b[1;33m\u001b[0m\u001b[1;33m\u001b[0m\u001b[0m\n\u001b[0;32m    198\u001b[0m         \u001b[1;31m# equivalent to the PySequence_Fast that ''.join() would do.\u001b[0m\u001b[1;33m\u001b[0m\u001b[1;33m\u001b[0m\u001b[1;33m\u001b[0m\u001b[0m\n\u001b[1;32m--> 199\u001b[1;33m         \u001b[0mchunks\u001b[0m \u001b[1;33m=\u001b[0m \u001b[0mself\u001b[0m\u001b[1;33m.\u001b[0m\u001b[0miterencode\u001b[0m\u001b[1;33m(\u001b[0m\u001b[0mo\u001b[0m\u001b[1;33m,\u001b[0m \u001b[0m_one_shot\u001b[0m\u001b[1;33m=\u001b[0m\u001b[1;32mTrue\u001b[0m\u001b[1;33m)\u001b[0m\u001b[1;33m\u001b[0m\u001b[1;33m\u001b[0m\u001b[0m\n\u001b[0m\u001b[0;32m    200\u001b[0m         \u001b[1;32mif\u001b[0m \u001b[1;32mnot\u001b[0m \u001b[0misinstance\u001b[0m\u001b[1;33m(\u001b[0m\u001b[0mchunks\u001b[0m\u001b[1;33m,\u001b[0m \u001b[1;33m(\u001b[0m\u001b[0mlist\u001b[0m\u001b[1;33m,\u001b[0m \u001b[0mtuple\u001b[0m\u001b[1;33m)\u001b[0m\u001b[1;33m)\u001b[0m\u001b[1;33m:\u001b[0m\u001b[1;33m\u001b[0m\u001b[1;33m\u001b[0m\u001b[0m\n\u001b[0;32m    201\u001b[0m             \u001b[0mchunks\u001b[0m \u001b[1;33m=\u001b[0m \u001b[0mlist\u001b[0m\u001b[1;33m(\u001b[0m\u001b[0mchunks\u001b[0m\u001b[1;33m)\u001b[0m\u001b[1;33m\u001b[0m\u001b[1;33m\u001b[0m\u001b[0m\n",
      "\u001b[1;32mD:\\anaconda3\\lib\\json\\encoder.py\u001b[0m in \u001b[0;36miterencode\u001b[1;34m(self, o, _one_shot)\u001b[0m\n\u001b[0;32m    255\u001b[0m                 \u001b[0mself\u001b[0m\u001b[1;33m.\u001b[0m\u001b[0mkey_separator\u001b[0m\u001b[1;33m,\u001b[0m \u001b[0mself\u001b[0m\u001b[1;33m.\u001b[0m\u001b[0mitem_separator\u001b[0m\u001b[1;33m,\u001b[0m \u001b[0mself\u001b[0m\u001b[1;33m.\u001b[0m\u001b[0msort_keys\u001b[0m\u001b[1;33m,\u001b[0m\u001b[1;33m\u001b[0m\u001b[1;33m\u001b[0m\u001b[0m\n\u001b[0;32m    256\u001b[0m                 self.skipkeys, _one_shot)\n\u001b[1;32m--> 257\u001b[1;33m         \u001b[1;32mreturn\u001b[0m \u001b[0m_iterencode\u001b[0m\u001b[1;33m(\u001b[0m\u001b[0mo\u001b[0m\u001b[1;33m,\u001b[0m \u001b[1;36m0\u001b[0m\u001b[1;33m)\u001b[0m\u001b[1;33m\u001b[0m\u001b[1;33m\u001b[0m\u001b[0m\n\u001b[0m\u001b[0;32m    258\u001b[0m \u001b[1;33m\u001b[0m\u001b[0m\n\u001b[0;32m    259\u001b[0m def _make_iterencode(markers, _default, _encoder, _indent, _floatstr,\n",
      "\u001b[1;32mD:\\anaconda3\\lib\\json\\encoder.py\u001b[0m in \u001b[0;36mdefault\u001b[1;34m(self, o)\u001b[0m\n\u001b[0;32m    177\u001b[0m \u001b[1;33m\u001b[0m\u001b[0m\n\u001b[0;32m    178\u001b[0m         \"\"\"\n\u001b[1;32m--> 179\u001b[1;33m         raise TypeError(f'Object of type {o.__class__.__name__} '\n\u001b[0m\u001b[0;32m    180\u001b[0m                         f'is not JSON serializable')\n\u001b[0;32m    181\u001b[0m \u001b[1;33m\u001b[0m\u001b[0m\n",
      "\u001b[1;31mTypeError\u001b[0m: Object of type TextIOWrapper is not JSON serializable"
     ]
    }
   ],
   "source": [
    "import json\n",
    "json_data= []\n",
    "with open('D:/OneDrive/DataScience/프로젝트(파이널)/Data/json/동물공원.json') as f:\n",
    "    json.dumps(f)\n",
    "    #    for i in  range(1,131):\n",
    "#         a = f.readline().replace('\\n','')\n",
    "#         print(a)\n",
    "#         json_data.append(a)\n",
    "#         json.dump(json_data)\n",
    "    \n",
    "        \n",
    "        \n"
   ]
  },
  {
   "cell_type": "code",
   "execution_count": 99,
   "id": "2645125e",
   "metadata": {},
   "outputs": [
    {
     "ename": "TypeError",
     "evalue": "list indices must be integers or slices, not str",
     "output_type": "error",
     "traceback": [
      "\u001b[1;31m---------------------------------------------------------------------------\u001b[0m",
      "\u001b[1;31mTypeError\u001b[0m                                 Traceback (most recent call last)",
      "\u001b[1;32m<ipython-input-99-1cf9fd074ef1>\u001b[0m in \u001b[0;36m<module>\u001b[1;34m\u001b[0m\n\u001b[0;32m      2\u001b[0m     \u001b[1;32mfor\u001b[0m \u001b[0mkey\u001b[0m \u001b[1;32min\u001b[0m \u001b[0md\u001b[0m\u001b[1;33m:\u001b[0m\u001b[1;33m\u001b[0m\u001b[1;33m\u001b[0m\u001b[0m\n\u001b[0;32m      3\u001b[0m         \u001b[1;32mif\u001b[0m \u001b[0mkey\u001b[0m \u001b[1;32mnot\u001b[0m \u001b[1;32min\u001b[0m \u001b[0mjson_data\u001b[0m\u001b[1;33m:\u001b[0m\u001b[1;33m\u001b[0m\u001b[1;33m\u001b[0m\u001b[0m\n\u001b[1;32m----> 4\u001b[1;33m             \u001b[0mjson_data\u001b[0m\u001b[1;33m[\u001b[0m\u001b[0mkey\u001b[0m\u001b[1;33m]\u001b[0m \u001b[1;33m=\u001b[0m \u001b[1;33m[\u001b[0m\u001b[1;33m]\u001b[0m\u001b[1;33m\u001b[0m\u001b[1;33m\u001b[0m\u001b[0m\n\u001b[0m\u001b[0;32m      5\u001b[0m         \u001b[0mnew_dict\u001b[0m\u001b[1;33m[\u001b[0m\u001b[0mkey\u001b[0m\u001b[1;33m]\u001b[0m\u001b[1;33m.\u001b[0m\u001b[0mappend\u001b[0m\u001b[1;33m(\u001b[0m\u001b[0md\u001b[0m\u001b[1;33m[\u001b[0m\u001b[0mkey\u001b[0m\u001b[1;33m]\u001b[0m\u001b[1;33m)\u001b[0m\u001b[1;33m\u001b[0m\u001b[1;33m\u001b[0m\u001b[0m\n",
      "\u001b[1;31mTypeError\u001b[0m: list indices must be integers or slices, not str"
     ]
    }
   ],
   "source": [
    "for d in json_data:\n",
    "    for key in d:\n",
    "        if key not in json_data:\n",
    "            json_data[key] = []\n",
    "        new_dict[key].append(d[key])"
   ]
  },
  {
   "cell_type": "code",
   "execution_count": 96,
   "id": "28c127bd",
   "metadata": {
    "scrolled": false
   },
   "outputs": [
    {
     "data": {
      "text/plain": [
       "['{\"geometry\": {\"coordinates\": [126.990377, 37.55014], \"type\": \"Point\"}, \"properties\": {\"address\": \"\\\\uc11c\\\\uc6b8\\\\ud2b9\\\\ubcc4\\\\uc2dc \\\\uc911\\\\uad6c \\\\uc0bc\\\\uc77c\\\\ub300\\\\ub85c 231(\\\\uc608\\\\uc7a5\\\\ub3d9)\", \"name\": \"\\\\ub0a8\\\\uc0b0\\\\ub3c4\\\\uc2dc\\\\uc790\\\\uc5f0\\\\uacf5\\\\uc6d0\", \"type\": \"\\\\ub3d9\\\\ubb3c\\\\uacf5\\\\uc6d0\"}, \"type\": \"Feature\"}',\n",
       " '{\"geometry\": {\"coordinates\": [127.154779, 37.540394], \"type\": \"Point\"}, \"properties\": {\"address\": \"\\\\uc11c\\\\uc6b8\\\\ud2b9\\\\ubcc4\\\\uc2dc \\\\uac15\\\\ub3d9\\\\uad6c \\\\ucc9c\\\\ud638\\\\ub300\\\\ub85c 1291(\\\\uae38\\\\ub3d9\\\\uc0dd\\\\ud0dc\\\\uacf5\\\\uc6d0) \", \"name\": \"\\\\uae38\\\\ub3d9\\\\uc0dd\\\\ud0dc\\\\uacf5\\\\uc6d0\", \"type\": \"\\\\ub3d9\\\\ubb3c\\\\uacf5\\\\uc6d0\"}, \"type\": \"Feature\"}',\n",
       " '{\"geometry\": {\"coordinates\": [127.019846, 37.426449], \"type\": \"Point\"}, \"properties\": {\"address\": \"\\\\uacbd\\\\uae30\\\\ub3c4 \\\\uacfc\\\\ucc9c\\\\uc2dc \\\\ub300\\\\uacf5\\\\uc6d0\\\\uad11\\\\uc7a5\\\\ub85c 102\", \"name\": \"\\\\uc11c\\\\uc6b8\\\\ub300\\\\uacf5\\\\uc6d0\", \"type\": \"\\\\ub3d9\\\\ubb3c\\\\uacf5\\\\uc6d0\"}, \"type\": \"Feature\"}',\n",
       " '{\"geometry\": {\"coordinates\": [127.041798, 37.543072], \"type\": \"Point\"}, \"properties\": {\"address\": \"\\\\uc11c\\\\uc6b8\\\\ud2b9\\\\ubcc4\\\\uc2dc \\\\uc131\\\\ub3d9\\\\uad6c \\\\ub69d\\\\uc12c\\\\ub85c 273 (\\\\uc131\\\\uc218\\\\ub3d91\\\\uac00) \", \"name\": \"\\\\uc11c\\\\uc6b8\\\\uc232\", \"type\": \"\\\\ub3d9\\\\ubb3c\\\\uacf5\\\\uc6d0\"}, \"type\": \"Feature\"}',\n",
       " '{\"geometry\": {\"coordinates\": [126.878907, 37.571805], \"type\": \"Point\"}, \"properties\": {\"address\": \"\\\\uc11c\\\\uc6b8\\\\ud2b9\\\\ubcc4\\\\uc2dc \\\\ub9c8\\\\ud3ec\\\\uad6c \\\\ud558\\\\ub298\\\\uacf5\\\\uc6d0\\\\ub85c 84(\\\\uc6d4\\\\ub4dc\\\\ucef5\\\\uacf5\\\\uc6d0)\", \"name\": \"\\\\uc6d4\\\\ub4dc\\\\ucef5\\\\uacf5\\\\uc6d0\", \"type\": \"\\\\ub3d9\\\\ubb3c\\\\uacf5\\\\uc6d0\"}, \"type\": \"Feature\"}',\n",
       " '{\"geometry\": {\"coordinates\": [126.978023, 37.575045], \"type\": \"Point\"}, \"properties\": {\"address\": \"\\\\uc11c\\\\uc6b8\\\\ud2b9\\\\ubcc4\\\\uc2dc \\\\uc885\\\\ub85c\\\\uad6c \\\\uc138\\\\uc885\\\\ub85c 76-2\", \"name\": \"\\\\uad11\\\\ud654\\\\ubb38\\\\uc2dc\\\\ubbfc\\\\uc5f4\\\\ub9b0\\\\ub9c8\\\\ub2f9\", \"type\": \"\\\\ub3d9\\\\ubb3c\\\\uacf5\\\\uc6d0\"}, \"type\": \"Feature\"}',\n",
       " '{\"geometry\": {\"coordinates\": [126.919216, 37.637024], \"type\": \"Point\"}, \"properties\": {\"address\": \"\\\\uc11c\\\\uc6b8\\\\ud2b9\\\\ubcc4\\\\uc2dc \\\\uc740\\\\ud3c9\\\\uad6c \\\\uc9c4\\\\uad00\\\\ub3d9 393\", \"name\": \"\\\\uc9c4\\\\uad00\\\\uadfc\\\\ub9b0\\\\uacf5\\\\uc6d0(\\\\uad6c\\\\ud30c\\\\ubc1c\\\\ud3ed\\\\ud3ec)\", \"type\": \"\\\\ub3d9\\\\ubb3c\\\\uacf5\\\\uc6d0\"}, \"type\": \"Feature\"}',\n",
       " '{\"geometry\": {\"coordinates\": [126.911267, 37.519832], \"type\": \"Point\"}, \"properties\": {\"address\": \"\\\\uc11c\\\\uc6b8\\\\ud2b9\\\\ubcc4\\\\uc2dc \\\\uc601\\\\ub4f1\\\\ud3ec\\\\uad6c \\\\uc601\\\\ub4f1\\\\ud3ec\\\\ub3d92\\\\uac00 222\", \"name\": \"\\\\uc911\\\\ub9c8\\\\ub8e8\\\\uadfc\\\\ub9b0\\\\uacf5\\\\uc6d0\", \"type\": \"\\\\ub3d9\\\\ubb3c\\\\uacf5\\\\uc6d0\"}, \"type\": \"Feature\"}',\n",
       " '{\"geometry\": {\"coordinates\": [127.021765, 37.557228], \"type\": \"Point\"}, \"properties\": {\"address\": \"\\\\uc11c\\\\uc6b8\\\\ud2b9\\\\ubcc4\\\\uc2dc \\\\uc131\\\\ub3d9\\\\uad6c \\\\uae08\\\\ud638\\\\ub3d91\\\\uac00 \\\\uc0b01-72\", \"name\": \"\\\\uc751\\\\ubd09\\\\uacf5\\\\uc6d0\", \"type\": \"\\\\ub3d9\\\\ubb3c\\\\uacf5\\\\uc6d0\"}, \"type\": \"Feature\"}',\n",
       " '{\"geometry\": {\"coordinates\": [126.86115, 37.557583], \"type\": \"Point\"}, \"properties\": {\"address\": \"\\\\uc11c\\\\uc6b8\\\\ud2b9\\\\ubcc4\\\\uc2dc \\\\uac15\\\\uc11c\\\\uad6c \\\\ub4f1\\\\ucd0c\\\\ub3d9 630-14\", \"name\": \"\\\\ub9e4\\\\ud654\\\\uadfc\\\\ub9b0\\\\uacf5\\\\uc6d0\", \"type\": \"\\\\ub3d9\\\\ubb3c\\\\uacf5\\\\uc6d0\"}, \"type\": \"Feature\"}',\n",
       " '{\"geometry\": {\"coordinates\": [127.052402, 37.544814], \"type\": \"Point\"}, \"properties\": {\"address\": \"\\\\uc11c\\\\uc6b8\\\\ud2b9\\\\ubcc4\\\\uc2dc \\\\uc131\\\\ub3d9\\\\uad6c \\\\uc131\\\\uc2182\\\\uac00 3\\\\ub3d9 302-25\", \"name\": \"\\\\uc131\\\\uc218\\\\uadfc\\\\ub9b0\\\\uacf5\\\\uc6d0\", \"type\": \"\\\\ub3d9\\\\ubb3c\\\\uacf5\\\\uc6d0\"}, \"type\": \"Feature\"}',\n",
       " '{\"geometry\": {\"coordinates\": [127.147162, 37.550481], \"type\": \"Point\"}, \"properties\": {\"address\": \"\\\\uc11c\\\\uc6b8\\\\ud2b9\\\\ubcc4\\\\uc2dc \\\\uac15\\\\ub3d9\\\\uad6c \\\\uba85\\\\uc77c1\\\\ub3d9 288\", \"name\": \"\\\\uc0db\\\\ub9c8\\\\uc744\\\\uadfc\\\\ub9b0\\\\uacf5\\\\uc6d0\", \"type\": \"\\\\ub3d9\\\\ubb3c\\\\uacf5\\\\uc6d0\"}, \"type\": \"Feature\"}',\n",
       " '{\"geometry\": {\"coordinates\": [126.922377, 37.526129], \"type\": \"Point\"}, \"properties\": {\"address\": \"\\\\uc11c\\\\uc6b8\\\\ud2b9\\\\ubcc4\\\\uc2dc \\\\uc601\\\\ub4f1\\\\ud3ec\\\\uad6c \\\\uc5ec\\\\uc758\\\\uacf5\\\\uc6d0\\\\ub85c 68 (\\\\uc5ec\\\\uc758\\\\ub3c4\\\\ub3d9)\", \"name\": \"\\\\uc5ec\\\\uc758\\\\ub3c4\\\\uadfc\\\\ub9b0\\\\uacf5\\\\uc6d0\", \"type\": \"\\\\ub3d9\\\\ubb3c\\\\uacf5\\\\uc6d0\"}, \"type\": \"Feature\"}',\n",
       " '{\"geometry\": {\"coordinates\": [127.048864, 37.573244], \"type\": \"Point\"}, \"properties\": {\"address\": \"\\\\uc11c\\\\uc6b8\\\\ud2b9\\\\ubcc4\\\\uc2dc \\\\ub3d9\\\\ub300\\\\ubb38\\\\uad6c \\\\uc11c\\\\uc6b8\\\\uc2dc\\\\ub9bd\\\\ub300\\\\ub85c2\\\\uae38 59(\\\\uac04\\\\ub370\\\\uba54\\\\uacf5\\\\uc6d0)\", \"name\": \"\\\\uac04\\\\ub370\\\\uba54\\\\uadfc\\\\ub9b0\\\\uacf5\\\\uc6d0\", \"type\": \"\\\\ub3d9\\\\ubb3c\\\\uacf5\\\\uc6d0\"}, \"type\": \"Feature\"}',\n",
       " '{\"geometry\": {\"coordinates\": [127.003819, 37.567524], \"type\": \"Point\"}, \"properties\": {\"address\": \"\\\\uc11c\\\\uc6b8\\\\ud2b9\\\\ubcc4\\\\uc2dc \\\\uc911\\\\uad6c \\\\uc744\\\\uc9c0\\\\ub85c 227\", \"name\": \"\\\\ud6c8\\\\ub828\\\\uc6d0\\\\uadfc\\\\ub9b0\\\\uacf5\\\\uc6d0\", \"type\": \"\\\\ub3d9\\\\ubb3c\\\\uacf5\\\\uc6d0\"}, \"type\": \"Feature\"}',\n",
       " '{\"geometry\": {\"coordinates\": [126.910662, 37.515423], \"type\": \"Point\"}, \"properties\": {\"address\": \"\\\\uc11c\\\\uc6b8\\\\ud2b9\\\\ubcc4\\\\uc2dc \\\\uc601\\\\ub4f1\\\\ud3ec\\\\uad6c \\\\uc2e0\\\\uae38\\\\ub85c 275\", \"name\": \"\\\\uc601\\\\ub4f1\\\\ud3ec\\\\uadfc\\\\ub9b0\\\\uacf5\\\\uc6d0\", \"type\": \"\\\\ub3d9\\\\ubb3c\\\\uacf5\\\\uc6d0\"}, \"type\": \"Feature\"}',\n",
       " '{\"geometry\": {\"coordinates\": [126.918289, 37.492333], \"type\": \"Point\"}, \"properties\": {\"address\": \"\\\\uc11c\\\\uc6b8\\\\ud2b9\\\\ubcc4\\\\uc2dc \\\\ub3d9\\\\uc791\\\\uad6c \\\\uc5ec\\\\uc758\\\\ub300\\\\ubc29\\\\ub85c20\\\\uae38 33(\\\\ubcf4\\\\ub77c\\\\ub9e4\\\\uacf5\\\\uc6d0)\", \"name\": \"\\\\ubcf4\\\\ub77c\\\\ub9e4\\\\uadfc\\\\ub9b0\\\\uacf5\\\\uc6d0\", \"type\": \"\\\\ub3d9\\\\ubb3c\\\\uacf5\\\\uc6d0\"}, \"type\": \"Feature\"}',\n",
       " '{\"geometry\": {\"coordinates\": [127.080921, 37.549899], \"type\": \"Point\"}, \"properties\": {\"address\": \"\\\\uc11c\\\\uc6b8\\\\ud2b9\\\\ubcc4\\\\uc2dc \\\\uad11\\\\uc9c4\\\\uad6c \\\\ub2a5\\\\ub3d9\\\\ub85c 216(\\\\uc5b4\\\\ub9b0\\\\uc774\\\\ub300\\\\uacf5\\\\uc6d0)\", \"name\": \"\\\\uc5b4\\\\ub9b0\\\\uc774\\\\ub300\\\\uacf5\\\\uc6d0\", \"type\": \"\\\\ub3d9\\\\ubb3c\\\\uacf5\\\\uc6d0\"}, \"type\": \"Feature\"}',\n",
       " '{\"geometry\": {\"coordinates\": [127.126345, 37.544474], \"type\": \"Point\"}, \"properties\": {\"address\": \"\\\\uc11c\\\\uc6b8\\\\ud2b9\\\\ubcc4\\\\uc2dc \\\\uac15\\\\ub3d9\\\\uad6c \\\\uc62c\\\\ub9bc\\\\ud53d\\\\ub85c 702(\\\\ucc9c\\\\ud638\\\\uacf5\\\\uc6d0)\", \"name\": \"\\\\ucc9c\\\\ud638\\\\uadfc\\\\ub9b0\\\\uacf5\\\\uc6d0\", \"type\": \"\\\\ub3d9\\\\ubb3c\\\\uacf5\\\\uc6d0\"}, \"type\": \"Feature\"}',\n",
       " '{\"geometry\": {\"coordinates\": [126.983335, 37.522226], \"type\": \"Point\"}, \"properties\": {\"address\": \"\\\\uc11c\\\\uc6b8\\\\ud2b9\\\\ubcc4\\\\uc2dc \\\\uc6a9\\\\uc0b0\\\\uad6c \\\\uc11c\\\\ube59\\\\uace0\\\\ub85c 185\", \"name\": \"\\\\uc6a9\\\\uc0b0\\\\uac00\\\\uc871\\\\uacf5\\\\uc6d0\", \"type\": \"\\\\ub3d9\\\\ubb3c\\\\uacf5\\\\uc6d0\"}, \"type\": \"Feature\"}',\n",
       " '{\"geometry\": {\"coordinates\": [126.956771, 37.573829], \"type\": \"Point\"}, \"properties\": {\"address\": \"\\\\uc11c\\\\uc6b8\\\\ud2b9\\\\ubcc4\\\\uc2dc \\\\uc11c\\\\ub300\\\\ubb38\\\\uad6c \\\\ud1b5\\\\uc77c\\\\ub85c251(\\\\ub3c5\\\\ub9bd\\\\uacf5\\\\uc6d0)\", \"name\": \"\\\\ub3c5\\\\ub9bd\\\\uadfc\\\\ub9b0\\\\uacf5\\\\uc6d0\", \"type\": \"\\\\ub3d9\\\\ubb3c\\\\uacf5\\\\uc6d0\"}, \"type\": \"Feature\"}',\n",
       " '{\"geometry\": {\"coordinates\": [127.007587, 37.580477], \"type\": \"Point\"}, \"properties\": {\"address\": \"\\\\uc11c\\\\uc6b8\\\\ud2b9\\\\ubcc4\\\\uc2dc \\\\uc885\\\\ub85c\\\\uad6c \\\\ub099\\\\uc0b0\\\\uae38 41 (\\\\uc6b0) 03085\", \"name\": \"\\\\ub099\\\\uc0b0\\\\uadfc\\\\ub9b0\\\\uacf5\\\\uc6d0\", \"type\": \"\\\\ub3d9\\\\ubb3c\\\\uacf5\\\\uc6d0\"}, \"type\": \"Feature\"}',\n",
       " '{\"geometry\": {\"coordinates\": [127.035042, 37.471225], \"type\": \"Point\"}, \"properties\": {\"address\": \"\\\\uc11c\\\\uc6b8\\\\ud2b9\\\\ubcc4\\\\uc2dc \\\\uc11c\\\\ucd08\\\\uad6c \\\\ub9e4\\\\ud5cc\\\\ub85c 99 (\\\\uc591\\\\uc7ac\\\\ub3d9)\", \"name\": \"\\\\uc591\\\\uc7ac\\\\uc2dc\\\\ubbfc\\\\uc758\\\\uc232\", \"type\": \"\\\\ub3d9\\\\ubb3c\\\\uacf5\\\\uc6d0\"}, \"type\": \"Feature\"}',\n",
       " '{\"geometry\": {\"coordinates\": [126.96413, 37.445208], \"type\": \"Point\"}, \"properties\": {\"address\": \"\\\\uc11c\\\\uc6b8\\\\ud2b9\\\\ubcc4\\\\uc2dc \\\\uad00\\\\uc545\\\\uad6c \\\\uad00\\\\uc545\\\\ub85c 1(\\\\uad00\\\\uc545\\\\uc0b0\\\\uacf5\\\\uc6d0)\", \"name\": \"\\\\uad00\\\\uc545\\\\uc0b0\\\\ub3c4\\\\uc2dc\\\\uc790\\\\uc5f0\\\\uacf5\\\\uc6d0\", \"type\": \"\\\\ub3d9\\\\ubb3c\\\\uacf5\\\\uc6d0\"}, \"type\": \"Feature\"}',\n",
       " '{\"geometry\": {\"coordinates\": [126.95993, 37.545234], \"type\": \"Point\"}, \"properties\": {\"address\": \"\\\\uc11c\\\\uc6b8\\\\ud2b9\\\\ubcc4\\\\uc2dc \\\\uc6a9\\\\uc0b0\\\\uad6c \\\\ud6a8\\\\ucc3d\\\\uc6d0\\\\ub85c 177-18\", \"name\": \"\\\\ud6a8\\\\ucc3d\\\\uadfc\\\\ub9b0\\\\uacf5\\\\uc6d0\", \"type\": \"\\\\ub3d9\\\\ubb3c\\\\uacf5\\\\uc6d0\"}, \"type\": \"Feature\"}',\n",
       " '{\"geometry\": {\"coordinates\": [126.907951, 37.469625], \"type\": \"Point\"}, \"properties\": {\"address\": \"\\\\uc11c\\\\uc6b8\\\\ud2b9\\\\ubcc4\\\\uc2dc \\\\uae08\\\\ucc9c\\\\uad6c \\\\ub3c5\\\\uc0b04\\\\ub3d9 371?375 373\\\\uc77c\\\\ub300\", \"name\": \"\\\\uac10\\\\ub85c\\\\ucc9c\\\\uc0dd\\\\ud0dc\\\\uacf5\\\\uc6d0(\\\\uad00\\\\uc545\\\\uc0b0)\", \"type\": \"\\\\ub3d9\\\\ubb3c\\\\uacf5\\\\uc6d0\"}, \"type\": \"Feature\"}',\n",
       " '{\"geometry\": {\"coordinates\": [127.025286, 37.596584], \"type\": \"Point\"}, \"properties\": {\"address\": \"\\\\uc11c\\\\uc6b8\\\\ud2b9\\\\ubcc4\\\\uc2dc \\\\uc131\\\\ubd81\\\\uad6c \\\\ubd81\\\\uc545\\\\uc0b0\\\\ub85c 949-73(\\\\ub3c8\\\\uc554\\\\ub3d9 6-1)\", \"name\": \"\\\\uac1c\\\\uc6b4\\\\uc0b0\\\\uadfc\\\\ub9b0\\\\uacf5\\\\uc6d0\", \"type\": \"\\\\ub3d9\\\\ubb3c\\\\uacf5\\\\uc6d0\"}, \"type\": \"Feature\"}',\n",
       " '{\"geometry\": {\"coordinates\": [126.848573, 37.488894], \"type\": \"Point\"}, \"properties\": {\"address\": \"\\\\uc11c\\\\uc6b8\\\\ud2b9\\\\ubcc4\\\\uc2dc \\\\uad6c\\\\ub85c\\\\uad6c \\\\uc624\\\\ub958\\\\ub3d9 \\\\uc0b013-1\", \"name\": \"\\\\uac1c\\\\uc6c5\\\\uc0b0\\\\uadfc\\\\ub9b0\\\\uacf5\\\\uc6d0\", \"type\": \"\\\\ub3d9\\\\ubb3c\\\\uacf5\\\\uc6d0\"}, \"type\": \"Feature\"}',\n",
       " '{\"geometry\": {\"coordinates\": [126.968534, 37.570773], \"type\": \"Point\"}, \"properties\": {\"address\": \"\\\\uc11c\\\\uc6b8\\\\ud2b9\\\\ubcc4\\\\uc2dc \\\\uc885\\\\ub85c\\\\uad6c \\\\uc0c8\\\\ubb38\\\\uc548\\\\ub85c 55(\\\\uc2e0\\\\ubb38\\\\ub85c2\\\\uac00 2-1)\", \"name\": \"\\\\uacbd\\\\ud76c\\\\uad81\", \"type\": \"\\\\ub3d9\\\\ubb3c\\\\uacf5\\\\uc6d0\"}, \"type\": \"Feature\"}',\n",
       " '{\"geometry\": {\"coordinates\": [126.973685, 37.499862], \"type\": \"Point\"}, \"properties\": {\"address\": \"\\\\uc11c\\\\uc6b8\\\\ud2b9\\\\ubcc4\\\\uc2dc \\\\ub3d9\\\\uc791\\\\uad6c \\\\uc0ac\\\\ub2f92\\\\ub3d9 \\\\uc0b041-2\", \"name\": \"\\\\uad6d\\\\ub9bd\\\\ud604\\\\ucda9\\\\uc6d0\", \"type\": \"\\\\ub3d9\\\\ubb3c\\\\uacf5\\\\uc6d0\"}, \"type\": \"Feature\"}',\n",
       " '{\"geometry\": {\"coordinates\": [126.847964, 37.513836], \"type\": \"Point\"}, \"properties\": {\"address\": \"\\\\uc11c\\\\uc6b8\\\\ud2b9\\\\ubcc4\\\\uc2dc \\\\uc591\\\\ucc9c\\\\uad6c \\\\uc2e0\\\\uc815\\\\ub3d9 \\\\uc0b044-2\\\\uc77c\\\\ub300\", \"name\": \"\\\\uacc4\\\\ub0a8\\\\uadfc\\\\ub9b0\\\\uacf5\\\\uc6d0\", \"type\": \"\\\\ub3d9\\\\ubb3c\\\\uacf5\\\\uc6d0\"}, \"type\": \"Feature\"}',\n",
       " '{\"geometry\": {\"coordinates\": [126.85215, 37.504294], \"type\": \"Point\"}, \"properties\": {\"address\": \"\\\\uc11c\\\\uc6b8\\\\ud2b9\\\\ubcc4\\\\uc2dc \\\\uad6c\\\\ub85c\\\\uad6c \\\\uace0\\\\ucc99\\\\ub85c45\\\\uae38 39(\\\\uace0\\\\ucc99\\\\uacf5\\\\uc6d0)\", \"name\": \"\\\\uace0\\\\ucc99\\\\uadfc\\\\ub9b0\\\\uacf5\\\\uc6d0\", \"type\": \"\\\\ub3d9\\\\ubb3c\\\\uacf5\\\\uc6d0\"}, \"type\": \"Feature\"}',\n",
       " '{\"geometry\": {\"coordinates\": [126.876393, 37.534974], \"type\": \"Point\"}, \"properties\": {\"address\": \"\\\\uc11c\\\\uc6b8\\\\ud2b9\\\\ubcc4\\\\uc2dc \\\\uc591\\\\ucc9c\\\\uad6c \\\\ubaa9\\\\ub3d9\\\\ub3d9\\\\ub85c 363 \", \"name\": \"\\\\ud30c\\\\ub9ac\\\\uadfc\\\\ub9b0\\\\uacf5\\\\uc6d0\", \"type\": \"\\\\ub3d9\\\\ubb3c\\\\uacf5\\\\uc6d0\"}, \"type\": \"Feature\"}',\n",
       " '{\"geometry\": {\"coordinates\": [126.852674, 37.567987], \"type\": \"Point\"}, \"properties\": {\"address\": \"\\\\uc11c\\\\uc6b8\\\\ud2b9\\\\ubcc4\\\\uc2dc \\\\uac15\\\\uc11c\\\\uad6c \\\\ud5c8\\\\uc900\\\\ub85c5\\\\uae38 42\", \"name\": \"\\\\ud5c8\\\\uc900\\\\uacf5\\\\uc6d0\", \"type\": \"\\\\ub3d9\\\\ubb3c\\\\uacf5\\\\uc6d0\"}, \"type\": \"Feature\"}',\n",
       " '{\"geometry\": {\"coordinates\": [126.922985, 37.569051], \"type\": \"Point\"}, \"properties\": {\"address\": \"\\\\uc11c\\\\uc6b8\\\\ud2b9\\\\ubcc4\\\\uc2dc \\\\uc11c\\\\ub300\\\\ubb38\\\\uad6c \\\\uc131\\\\uc0b0\\\\ub85c7\\\\uae38 19-24(\\\\uad81\\\\ub3d9\\\\uacf5\\\\uc6d0) \", \"name\": \"\\\\uad81\\\\ub3d9\\\\uadfc\\\\ub9b0\\\\uacf5\\\\uc6d0\", \"type\": \"\\\\ub3d9\\\\ubb3c\\\\uacf5\\\\uc6d0\"}, \"type\": \"Feature\"}',\n",
       " '{\"geometry\": {\"coordinates\": [126.838952, 37.573564], \"type\": \"Point\"}, \"properties\": {\"address\": \"\\\\uc11c\\\\uc6b8\\\\ud2b9\\\\ubcc4\\\\uc2dc \\\\uac15\\\\uc11c\\\\uad6c \\\\uac00\\\\uc591\\\\ub3d9 \\\\uc0b04-7\", \"name\": \"\\\\uad81\\\\uc0b0\\\\uadfc\\\\ub9b0\\\\uacf5\\\\uc6d0\", \"type\": \"\\\\ub3d9\\\\ubb3c\\\\uacf5\\\\uc6d0\"}, \"type\": \"Feature\"}',\n",
       " '{\"geometry\": {\"coordinates\": [126.964074, 37.484584], \"type\": \"Point\"}, \"properties\": {\"address\": \"\\\\uc11c\\\\uc6b8\\\\ud2b9\\\\ubcc4\\\\uc2dc \\\\ub3d9\\\\uc791\\\\uad6c \\\\uc0ac\\\\ub2f9\\\\ub3d9 \\\\uc0b032\", \"name\": \"\\\\uae4c\\\\uce58\\\\uc0b0\\\\uadfc\\\\ub9b0\\\\uacf5\\\\uc6d0\", \"type\": \"\\\\ub3d9\\\\ubb3c\\\\uacf5\\\\uc6d0\"}, \"type\": \"Feature\"}',\n",
       " '{\"geometry\": {\"coordinates\": [126.815708, 37.580158], \"type\": \"Point\"}, \"properties\": {\"address\": \"\\\\uc11c\\\\uc6b8\\\\ud2b9\\\\ubcc4\\\\uc2dc \\\\uac15\\\\uc11c\\\\uad6c \\\\ubc29\\\\ud654\\\\ub3d9 \\\\uc0b0110\", \"name\": \"\\\\uafe9\\\\uace0\\\\uac1c\\\\uadfc\\\\ub9b0\\\\uacf5\\\\uc6d0\", \"type\": \"\\\\ub3d9\\\\ubb3c\\\\uacf5\\\\uc6d0\"}, \"type\": \"Feature\"}',\n",
       " '{\"geometry\": {\"coordinates\": [126.928607, 37.510234], \"type\": \"Point\"}, \"properties\": {\"address\": \"\\\\uc11c\\\\uc6b8\\\\ud2b9\\\\ubcc4\\\\uc2dc \\\\ub3d9\\\\uc791\\\\uad6c \\\\uc5ec\\\\uc758\\\\ub300\\\\ubc29\\\\ub85c 15-45(\\\\uc5ec\\\\uc758\\\\ub300\\\\ubc29\\\\ub85c36\\\\uae38 71)\", \"name\": \"\\\\ub178\\\\ub7c9\\\\uc9c4\\\\uacf5\\\\uc6d0\", \"type\": \"\\\\ub3d9\\\\ubb3c\\\\uacf5\\\\uc6d0\"}, \"type\": \"Feature\"}',\n",
       " '{\"geometry\": {\"coordinates\": [127.062651, 37.57509], \"type\": \"Point\"}, \"properties\": {\"address\": \"\\\\uc11c\\\\uc6b8\\\\ud2b9\\\\ubcc4\\\\uc2dc \\\\ub3d9\\\\ub300\\\\ubb38\\\\uad6c \\\\ub2f5\\\\uc2ed\\\\ub9ac\\\\ub85c 209(\\\\ub2f5\\\\uc2ed\\\\ub9ac\\\\uacf5\\\\uc6d0) \", \"name\": \"\\\\ub2f5\\\\uc2ed\\\\ub9ac\\\\uadfc\\\\ub9b0\\\\uacf5\\\\uc6d0\", \"type\": \"\\\\ub3d9\\\\ubb3c\\\\uacf5\\\\uc6d0\"}, \"type\": \"Feature\"}',\n",
       " '{\"geometry\": {\"coordinates\": [127.080964, 37.479649], \"type\": \"Point\"}, \"properties\": {\"address\": \"\\\\uc11c\\\\uc6b8\\\\ud2b9\\\\ubcc4\\\\uc2dc \\\\uac15\\\\ub0a8\\\\uad6c \\\\uad11\\\\ud3c9\\\\ub85c10\\\\uae38 30-71(\\\\ub300\\\\ubaa8\\\\uc0b0\\\\uacf5\\\\uc6d0) \", \"name\": \"\\\\ub300\\\\ubaa8\\\\uc0b0\\\\ub3c4\\\\uc2dc\\\\uc790\\\\uc5f0\\\\uacf5\\\\uc6d0\", \"type\": \"\\\\ub3d9\\\\ubb3c\\\\uacf5\\\\uc6d0\"}, \"type\": \"Feature\"}',\n",
       " '{\"geometry\": {\"coordinates\": [126.988285, 37.571005], \"type\": \"Point\"}, \"properties\": {\"address\": \"\\\\uc11c\\\\uc6b8\\\\ud2b9\\\\ubcc4\\\\uc2dc \\\\uc885\\\\ub85c\\\\uad6c \\\\uc885\\\\ub85c 99\", \"name\": \"\\\\ud0d1\\\\uace8\\\\uadfc\\\\ub9b0\\\\uacf5\\\\uc6d0\", \"type\": \"\\\\ub3d9\\\\ubb3c\\\\uacf5\\\\uc6d0\"}, \"type\": \"Feature\"}',\n",
       " '{\"geometry\": {\"coordinates\": [126.868915, 37.508212], \"type\": \"Point\"}, \"properties\": {\"address\": \"\\\\uc11c\\\\uc6b8\\\\ud2b9\\\\ubcc4\\\\uc2dc \\\\uc591\\\\ucc9c\\\\uad6c \\\\uc2e0\\\\uc815\\\\ub3d9 162-56\", \"name\": \"\\\\uac08\\\\uc0b0\\\\uadfc\\\\ub9b0\\\\uacf5\\\\uc6d0\", \"type\": \"\\\\ub3d9\\\\ubb3c\\\\uacf5\\\\uc6d0\"}, \"type\": \"Feature\"}',\n",
       " '{\"geometry\": {\"coordinates\": [127.158664, 37.500517], \"type\": \"Point\"}, \"properties\": {\"address\": \"\\\\uc11c\\\\uc6b8\\\\ud2b9\\\\ubcc4\\\\uc2dc \\\\uc1a1\\\\ud30c\\\\uad6c \\\\ub9c8\\\\ucc9c\\\\ub3d9 \\\\uc0b0 1-1\", \"name\": \"\\\\ucc9c\\\\ub9c8\\\\uadfc\\\\ub9b0\\\\uacf5\\\\uc6d0\", \"type\": \"\\\\ub3d9\\\\ubb3c\\\\uacf5\\\\uc6d0\"}, \"type\": \"Feature\"}',\n",
       " '{\"geometry\": {\"coordinates\": [127.045034, 37.490313], \"type\": \"Point\"}, \"properties\": {\"address\": \"\\\\uc11c\\\\uc6b8\\\\ud2b9\\\\ubcc4\\\\uc2dc \\\\uac15\\\\ub0a8\\\\uad6c \\\\ub3c4\\\\uace1\\\\ub3d9 \\\\uc0b031-1\", \"name\": \"\\\\ub3c4\\\\uace1\\\\uadfc\\\\ub9b0\\\\uacf5\\\\uc6d0\", \"type\": \"\\\\ub3d9\\\\ubb3c\\\\uacf5\\\\uc6d0\"}, \"type\": \"Feature\"}',\n",
       " '{\"geometry\": {\"coordinates\": [127.03503, 37.524675], \"type\": \"Point\"}, \"properties\": {\"address\": \"\\\\uc11c\\\\uc6b8\\\\ud2b9\\\\ubcc4\\\\uc2dc \\\\uac15\\\\ub0a8\\\\uad6c \\\\ub3c4\\\\uc0b0\\\\ub300\\\\ub85c45\\\\uae38 20(\\\\ub3c4\\\\uc0b0\\\\uacf5\\\\uc6d0)\", \"name\": \"\\\\ub3c4\\\\uc0b0\\\\uadfc\\\\ub9b0\\\\uacf5\\\\uc6d0\", \"type\": \"\\\\ub3d9\\\\ubb3c\\\\uacf5\\\\uc6d0\"}, \"type\": \"Feature\"}',\n",
       " '{\"geometry\": {\"coordinates\": [127.051114, 37.602006], \"type\": \"Point\"}, \"properties\": {\"address\": \"\\\\uc11c\\\\uc6b8\\\\ud2b9\\\\ubcc4\\\\uc2dc \\\\uc131\\\\ubd81\\\\uad6c \\\\ud654\\\\ub791\\\\ub85c18\\\\uac00\\\\uae38 50\", \"name\": \"\\\\uccad\\\\ub7c9\\\\uacf5\\\\uc6d0\", \"type\": \"\\\\ub3d9\\\\ubb3c\\\\uacf5\\\\uc6d0\"}, \"type\": \"Feature\"}',\n",
       " '{\"geometry\": {\"coordinates\": [127.045545, 37.648316], \"type\": \"Point\"}, \"properties\": {\"address\": \"\\\\uc11c\\\\uc6b8\\\\ud2b9\\\\ubcc4\\\\uc2dc \\\\ub3c4\\\\ubd09\\\\uad6c \\\\ucc3d\\\\ub3d9 \\\\uc0b0157\", \"name\": \"\\\\ucd08\\\\uc548\\\\uc0b0\\\\uadfc\\\\ub9b0\\\\uacf5\\\\uc6d0\", \"type\": \"\\\\ub3d9\\\\ubb3c\\\\uacf5\\\\uc6d0\"}, \"type\": \"Feature\"}',\n",
       " '{\"geometry\": {\"coordinates\": [127.16767, 37.559834], \"type\": \"Point\"}, \"properties\": {\"address\": \"\\\\uc11c\\\\uc6b8\\\\ud2b9\\\\ubcc4\\\\uc2dc \\\\uac15\\\\ub3d9\\\\uad6c \\\\uace0\\\\ub3552\\\\ub3d9 229\", \"name\": \"\\\\ub3d9\\\\uba85\\\\uadfc\\\\ub9b0\\\\uacf5\\\\uc6d0\", \"type\": \"\\\\ub3d9\\\\ubb3c\\\\uacf5\\\\uc6d0\"}, \"type\": \"Feature\"}',\n",
       " '{\"geometry\": {\"coordinates\": [127.002789, 37.58023], \"type\": \"Point\"}, \"properties\": {\"address\": \"\\\\uc11c\\\\uc6b8\\\\ud2b9\\\\ubcc4\\\\uc2dc \\\\uc885\\\\ub85c\\\\uad6c \\\\ub300\\\\ud559\\\\ub85c8\\\\uae38 1\", \"name\": \"\\\\ub9c8\\\\ub85c\\\\ub2c8\\\\uc5d0\\\\uacf5\\\\uc6d0\", \"type\": \"\\\\ub3d9\\\\ubb3c\\\\uacf5\\\\uc6d0\"}, \"type\": \"Feature\"}',\n",
       " '{\"geometry\": {\"coordinates\": [126.93029, 37.517733], \"type\": \"Point\"}, \"properties\": {\"address\": \"\\\\uc11c\\\\uc6b8\\\\ud2b9\\\\ubcc4\\\\uc2dc \\\\uc601\\\\ub4f1\\\\ud3ec\\\\uad6c \\\\uc758\\\\uc0ac\\\\ub2f9\\\\ub300\\\\ub85c 166 (\\\\uc6b0) 07324\", \"name\": \"\\\\uc790\\\\ub9e4\\\\uadfc\\\\ub9b0\\\\uacf5\\\\uc6d0\", \"type\": \"\\\\ub3d9\\\\ubb3c\\\\uacf5\\\\uc6d0\"}, \"type\": \"Feature\"}',\n",
       " '{\"geometry\": {\"coordinates\": [127.1387, 37.495708], \"type\": \"Point\"}, \"properties\": {\"address\": \"\\\\uc11c\\\\uc6b8\\\\ud2b9\\\\ubcc4\\\\uc2dc \\\\uc1a1\\\\ud30c\\\\uad6c \\\\uc7a5\\\\uc9c0\\\\ub3d9 \\\\uc0b0 11\\\\ubc88\\\\uc9c0\", \"name\": \"\\\\uc7a5\\\\uc9c0\\\\uadfc\\\\ub9b0\\\\uacf5\\\\uc6d0\", \"type\": \"\\\\ub3d9\\\\ubb3c\\\\uacf5\\\\uc6d0\"}, \"type\": \"Feature\"}',\n",
       " '{\"geometry\": {\"coordinates\": [127.161364, 37.553714], \"type\": \"Point\"}, \"properties\": {\"address\": \"\\\\uc11c\\\\uc6b8\\\\ud2b9\\\\ubcc4\\\\uc2dc \\\\uac15\\\\ub3d9\\\\uad6c \\\\uc0c1\\\\uc77c\\\\ub3d9 135\", \"name\": \"\\\\uba85\\\\uc77c\\\\uadfc\\\\ub9b0\\\\uacf5\\\\uc6d0\", \"type\": \"\\\\ub3d9\\\\ubb3c\\\\uacf5\\\\uc6d0\"}, \"type\": \"Feature\"}',\n",
       " '{\"geometry\": {\"coordinates\": [126.813228, 37.581981], \"type\": \"Point\"}, \"properties\": {\"address\": \"\\\\uc11c\\\\uc6b8\\\\ud2b9\\\\ubcc4\\\\uc2dc \\\\uac15\\\\uc11c\\\\uad6c \\\\uae08\\\\ub0ad\\\\ud654\\\\ub85c 176(\\\\ubc29\\\\ud654\\\\uacf5\\\\uc6d0)\", \"name\": \"\\\\ubc29\\\\ud654\\\\uadfc\\\\ub9b0\\\\uacf5\\\\uc6d0\", \"type\": \"\\\\ub3d9\\\\ubb3c\\\\uacf5\\\\uc6d0\"}, \"type\": \"Feature\"}',\n",
       " '{\"geometry\": {\"coordinates\": [127.076288, 37.510278], \"type\": \"Point\"}, \"properties\": {\"address\": \"\\\\uc11c\\\\uc6b8\\\\ud2b9\\\\ubcc4\\\\uc2dc \\\\uc1a1\\\\ud30c\\\\uad6c \\\\uc62c\\\\ub9bc\\\\ud53d\\\\ub85c 44 (\\\\uc7a0\\\\uc2e4\\\\ub3d9)\", \"name\": \"\\\\uc544\\\\uc2dc\\\\uc544\\\\uadfc\\\\ub9b0\\\\uacf5\\\\uc6d0\", \"type\": \"\\\\ub3d9\\\\ubb3c\\\\uacf5\\\\uc6d0\"}, \"type\": \"Feature\"}',\n",
       " '{\"geometry\": {\"coordinates\": [127.064162, 37.581232], \"type\": \"Point\"}, \"properties\": {\"address\": \"\\\\uc11c\\\\uc6b8\\\\ud2b9\\\\ubcc4\\\\uc2dc \\\\ub3d9\\\\ub300\\\\ubb38\\\\uad6c \\\\ud55c\\\\ucc9c\\\\ub85c43\\\\uae38 12-14(\\\\ubc30\\\\ubd09\\\\uc0b0\\\\uacf5\\\\uc6d0) \", \"name\": \"\\\\ubc30\\\\ubd09\\\\uc0b0\\\\uadfc\\\\ub9b0\\\\uacf5\\\\uc6d0\", \"type\": \"\\\\ub3d9\\\\ubb3c\\\\uacf5\\\\uc6d0\"}, \"type\": \"Feature\"}',\n",
       " '{\"geometry\": {\"coordinates\": [126.939027, 37.579825], \"type\": \"Point\"}, \"properties\": {\"address\": \"\\\\uc11c\\\\uc6b8\\\\ud2b9\\\\ubcc4\\\\uc2dc \\\\uc11c\\\\ub300\\\\ubb38\\\\uad6c \\\\ud64d\\\\uc81c\\\\ub3d9 \\\\uc0b033-98\", \"name\": \"\\\\uc548\\\\uc0b0\\\\ub3c4\\\\uc2dc\\\\uc790\\\\uc5f0\\\\uacf5\\\\uc6d0\", \"type\": \"\\\\ub3d9\\\\ubb3c\\\\uacf5\\\\uc6d0\"}, \"type\": \"Feature\"}',\n",
       " '{\"geometry\": {\"coordinates\": [126.868982, 37.55797], \"type\": \"Point\"}, \"properties\": {\"address\": \"\\\\uc11c\\\\uc6b8\\\\ud2b9\\\\ubcc4\\\\uc2dc \\\\uac15\\\\uc11c\\\\uad6c \\\\uc5fc\\\\ucc3d\\\\ub3d9 \\\\uc0b024-1\", \"name\": \"\\\\uc5fc\\\\ucc3d\\\\uadfc\\\\ub9b0\\\\uacf5\\\\uc6d0\", \"type\": \"\\\\ub3d9\\\\ubb3c\\\\uacf5\\\\uc6d0\"}, \"type\": \"Feature\"}',\n",
       " '{\"geometry\": {\"coordinates\": [126.928616, 37.587966], \"type\": \"Point\"}, \"properties\": {\"address\": \"\\\\uc11c\\\\uc6b8\\\\ud2b9\\\\ubcc4\\\\uc2dc \\\\uc11c\\\\ub300\\\\ubb38\\\\uad6c \\\\ud1b5\\\\uc77c\\\\ub85c 507-22(\\\\ubc31\\\\ub828\\\\uacf5\\\\uc6d0) \", \"name\": \"\\\\ubc31\\\\ub828\\\\uadfc\\\\ub9b0\\\\uacf5\\\\uc6d0\", \"type\": \"\\\\ub3d9\\\\ubb3c\\\\uacf5\\\\uc6d0\"}, \"type\": \"Feature\"}',\n",
       " '{\"geometry\": {\"coordinates\": [127.132396, 37.503872], \"type\": \"Point\"}, \"properties\": {\"address\": \"\\\\uc11c\\\\uc6b8\\\\ud2b9\\\\ubcc4\\\\uc2dc \\\\uc1a1\\\\ud30c\\\\uad6c \\\\uc624\\\\uae08\\\\ub85c 363 \\\\uc624\\\\uae08\\\\uadfc\\\\ub9b0\\\\uacf5\\\\uc6d0 \", \"name\": \"\\\\uc624\\\\uae08\\\\uadfc\\\\ub9b0\\\\uacf5\\\\uc6d0\", \"type\": \"\\\\ub3d9\\\\ubb3c\\\\uacf5\\\\uc6d0\"}, \"type\": \"Feature\"}',\n",
       " '{\"geometry\": {\"coordinates\": [127.031727, 37.632796], \"type\": \"Point\"}, \"properties\": {\"address\": \"\\\\uc11c\\\\uc6b8\\\\ud2b9\\\\ubcc4\\\\uc2dc \\\\uac15\\\\ubd81\\\\uad6c \\\\ubc88\\\\ub3d9 \\\\uc0b020-1\", \"name\": \"\\\\uc624\\\\ub3d9\\\\uadfc\\\\ub9b0\\\\uacf5\\\\uc6d0\", \"type\": \"\\\\ub3d9\\\\ubb3c\\\\uacf5\\\\uc6d0\"}, \"type\": \"Feature\"}',\n",
       " '{\"geometry\": {\"coordinates\": [126.902015, 37.604071], \"type\": \"Point\"}, \"properties\": {\"address\": \"\\\\uc11c\\\\uc6b8\\\\ud2b9\\\\ubcc4\\\\uc2dc \\\\uc740\\\\ud3c9\\\\uad6c \\\\uad6c\\\\uc0b0\\\\ub3d9 \\\\uc0b061\", \"name\": \"\\\\ubd09\\\\uc0b0\\\\ub3c4\\\\uc2dc\\\\uc790\\\\uc5f0\\\\uacf5\\\\uc6d0\", \"type\": \"\\\\ub3d9\\\\ubb3c\\\\uacf5\\\\uc6d0\"}, \"type\": \"Feature\"}',\n",
       " '{\"geometry\": {\"coordinates\": [126.83695, 37.50026], \"type\": \"Point\"}, \"properties\": {\"address\": \"\\\\uc11c\\\\uc6b8\\\\ud2b9\\\\ubcc4\\\\uc2dc \\\\uad6c\\\\ub85c\\\\uad6c \\\\uac1c\\\\ubd09\\\\ub3d9 \\\\uc0b02-60\", \"name\": \"\\\\uc628\\\\uc218\\\\ub3c4\\\\uc2dc\\\\uc790\\\\uc5f0\\\\uacf5\\\\uc6d0\", \"type\": \"\\\\ub3d9\\\\ubb3c\\\\uacf5\\\\uc6d0\"}, \"type\": \"Feature\"}',\n",
       " '{\"geometry\": {\"coordinates\": [127.055496, 37.513903], \"type\": \"Point\"}, \"properties\": {\"address\": \"\\\\uc11c\\\\uc6b8\\\\ud2b9\\\\ubcc4\\\\uc2dc \\\\uac15\\\\ub0a8\\\\uad6c \\\\uc0bc\\\\uc131\\\\ub3d9 75\", \"name\": \"\\\\ubd09\\\\uc740\\\\uacf5\\\\uc6d0\", \"type\": \"\\\\ub3d9\\\\ubb3c\\\\uacf5\\\\uc6d0\"}, \"type\": \"Feature\"}',\n",
       " '{\"geometry\": {\"coordinates\": [127.122959, 37.520934], \"type\": \"Point\"}, \"properties\": {\"address\": \"\\\\uc11c\\\\uc6b8\\\\ud2b9\\\\ubcc4\\\\uc2dc \\\\uc1a1\\\\ud30c\\\\uad6c \\\\uc62c\\\\ub9bc\\\\ud53d\\\\ub85c 424 (\\\\ubc29\\\\uc774\\\\ub3d9)\", \"name\": \"\\\\uc62c\\\\ub9bc\\\\ud53d\\\\uacf5\\\\uc6d0\", \"type\": \"\\\\ub3d9\\\\ubb3c\\\\uacf5\\\\uc6d0\"}, \"type\": \"Feature\"}',\n",
       " '{\"geometry\": {\"coordinates\": [126.990167, 37.590794], \"type\": \"Point\"}, \"properties\": {\"address\": \"\\\\uc11c\\\\uc6b8\\\\ud2b9\\\\ubcc4\\\\uc2dc \\\\uc885\\\\ub85c\\\\uad6c \\\\uc640\\\\ub8e1\\\\uacf5\\\\uc6d0\\\\uae38 192 (\\\\uc6b0) 03063\", \"name\": \"\\\\uc640\\\\ub8e1\\\\uadfc\\\\ub9b0\\\\uacf5\\\\uc6d0\", \"type\": \"\\\\ub3d9\\\\ubb3c\\\\uacf5\\\\uc6d0\"}, \"type\": \"Feature\"}',\n",
       " '{\"geometry\": {\"coordinates\": [127.092362, 37.61064], \"type\": \"Point\"}, \"properties\": {\"address\": \"\\\\uc11c\\\\uc6b8\\\\ud2b9\\\\ubcc4\\\\uc2dc \\\\uc911\\\\ub791\\\\uad6c \\\\ubb35\\\\ub3d9 \\\\uc0b046-1\", \"name\": \"\\\\ubd09\\\\ud654\\\\uc0b0\\\\uadfc\\\\ub9b0\\\\uacf5\\\\uc6d0\", \"type\": \"\\\\ub3d9\\\\ubb3c\\\\uacf5\\\\uc6d0\"}, \"type\": \"Feature\"}',\n",
       " '{\"geometry\": {\"coordinates\": [126.97373, 37.592999], \"type\": \"Point\"}, \"properties\": {\"address\": \"\\\\uc11c\\\\uc6b8\\\\ud2b9\\\\ubcc4\\\\uc2dc \\\\uc885\\\\ub85c\\\\uad6c \\\\ubd80\\\\uc554\\\\ub3d9 \\\\uc0b02-6\", \"name\": \"\\\\ubd81\\\\uc545\\\\uc0b0\\\\ub3c4\\\\uc2dc\\\\uc790\\\\uc5f0\\\\uacf5\\\\uc6d0\", \"type\": \"\\\\ub3d9\\\\ubb3c\\\\uacf5\\\\uc6d0\"}, \"type\": \"Feature\"}',\n",
       " '{\"geometry\": {\"coordinates\": [127.000938, 37.624549], \"type\": \"Point\"}, \"properties\": {\"address\": \"\\\\uc11c\\\\uc6b8\\\\ud2b9\\\\ubcc4\\\\uc2dc \\\\uc885\\\\ub85c\\\\uad6c \\\\uc740\\\\ud3c9\\\\uad6c \\\\uc11c\\\\ub300\\\\ubb38\\\\uad6c \\\\uc131\\\\ubd81\\\\uad6c \\\\uac15\\\\ubd81\\\\uad6c \\\\ub3c4\\\\ubd09\\\\uad6c \\\\uc77c\\\\ub300 \\\\uacbd\\\\uae30\\\\ub3c4 \\\\uc758\\\\uc815\\\\ubd80 \\\\uc591\\\\uc8fc\\\\uad70 \\\\uace0\\\\uc591\\\\uc2dc \\\\uc77c\\\\ub300\", \"name\": \"\\\\ubd81\\\\ud55c\\\\uc0b0\\\\uad6d\\\\ub9bd\\\\uacf5\\\\uc6d0\", \"type\": \"\\\\ub3d9\\\\ubb3c\\\\uacf5\\\\uc6d0\"}, \"type\": \"Feature\"}',\n",
       " '{\"geometry\": {\"coordinates\": [126.911414, 37.546797], \"type\": \"Point\"}, \"properties\": {\"address\": \"\\\\uc11c\\\\uc6b8\\\\ud2b9\\\\ubcc4\\\\uc2dc \\\\ub9c8\\\\ud3ec\\\\uad6c \\\\uc591\\\\ud654\\\\uc9c4\\\\uae38 46(\\\\uc678\\\\uad6d\\\\uc778\\\\ubb18\\\\uc9c0\\\\uacf5\\\\uc6d0)\", \"name\": \"\\\\uc678\\\\uad6d\\\\uc778\\\\ubb18\\\\uc9c0\\\\uacf5\\\\uc6d0\", \"type\": \"\\\\ub3d9\\\\ubb3c\\\\uacf5\\\\uc6d0\"}, \"type\": \"Feature\"}',\n",
       " '{\"geometry\": {\"coordinates\": [126.929896, 37.618802], \"type\": \"Point\"}, \"properties\": {\"address\": \"\\\\uc11c\\\\uc6b8\\\\ud2b9\\\\ubcc4\\\\uc2dc \\\\uc740\\\\ud3c9\\\\uad6c \\\\ubd88\\\\uad11\\\\ub3d9 \\\\uc0b033-1\", \"name\": \"\\\\ubd88\\\\uad11\\\\uadfc\\\\ub9b0\\\\uacf5\\\\uc6d0\", \"type\": \"\\\\ub3d9\\\\ubb3c\\\\uacf5\\\\uc6d0\"}, \"type\": \"Feature\"}',\n",
       " '{\"geometry\": {\"coordinates\": [127.095271, 37.663672], \"type\": \"Point\"}, \"properties\": {\"address\": \"\\\\uc11c\\\\uc6b8\\\\ud2b9\\\\ubcc4\\\\uc2dc \\\\ub178\\\\uc6d0\\\\uad6c \\\\ud55c\\\\uae00\\\\ube44\\\\uc11d\\\\ub85c12\\\\uae38 51-33(\\\\ubd88\\\\uc554\\\\uc0b0\\\\uacf5\\\\uc6d0) \", \"name\": \"\\\\ubd88\\\\uc554\\\\uc0b0\\\\ub3c4\\\\uc2dc\\\\uc790\\\\uc5f0\\\\uacf5\\\\uc6d0\", \"type\": \"\\\\ub3d9\\\\ubb3c\\\\uacf5\\\\uc6d0\"}, \"type\": \"Feature\"}',\n",
       " '{\"geometry\": {\"coordinates\": [127.090589, 37.573197], \"type\": \"Point\"}, \"properties\": {\"address\": \"\\\\uc11c\\\\uc6b8\\\\ud2b9\\\\ubcc4\\\\uc2dc \\\\uc911\\\\ub791\\\\uad6c \\\\uba74\\\\ubaa9\\\\ub3d9 \\\\uc0b01-4 \", \"name\": \"\\\\uc6a9\\\\ub9c8\\\\ud3ed\\\\ud3ec\\\\uacf5\\\\uc6d0\", \"type\": \"\\\\ub3d9\\\\ubb3c\\\\uacf5\\\\uc6d0\"}, \"type\": \"Feature\"}',\n",
       " '{\"geometry\": {\"coordinates\": [126.948636, 37.513705], \"type\": \"Point\"}, \"properties\": {\"address\": \"\\\\uc11c\\\\uc6b8\\\\ud2b9\\\\ubcc4\\\\uc2dc \\\\ub3d9\\\\uc791\\\\uad6c \\\\ub178\\\\ub7c9\\\\uc9c4\\\\ub85c 191\", \"name\": \"\\\\uc0ac\\\\uc721\\\\uc2e0\\\\uacf5\\\\uc6d0\", \"type\": \"\\\\ub3d9\\\\ubb3c\\\\uacf5\\\\uc6d0\"}, \"type\": \"Feature\"}',\n",
       " '{\"geometry\": {\"coordinates\": [126.878312, 37.542959], \"type\": \"Point\"}, \"properties\": {\"address\": \"\\\\uc11c\\\\uc6b8\\\\ud2b9\\\\ubcc4\\\\uc2dc \\\\uc591\\\\ucc9c\\\\uad6c \\\\ubaa9\\\\ub3d9 199-51\", \"name\": \"\\\\uc6a9\\\\uc655\\\\uc0b0\\\\uadfc\\\\ub9b0\\\\uacf5\\\\uc6d0\", \"type\": \"\\\\ub3d9\\\\ubb3c\\\\uacf5\\\\uc6d0\"}, \"type\": \"Feature\"}',\n",
       " '{\"geometry\": {\"coordinates\": [126.967402, 37.575986], \"type\": \"Point\"}, \"properties\": {\"address\": \"\\\\uc11c\\\\uc6b8\\\\ud2b9\\\\ubcc4\\\\uc2dc \\\\uc885\\\\ub85c\\\\uad6c \\\\uc0ac\\\\uc9c1\\\\ub85c9\\\\uae38 5\", \"name\": \"\\\\uc0ac\\\\uc9c1\\\\uadfc\\\\ub9b0\\\\uacf5\\\\uc6d0\", \"type\": \"\\\\ub3d9\\\\ubb3c\\\\uacf5\\\\uc6d0\"}, \"type\": \"Feature\"}',\n",
       " '{\"geometry\": {\"coordinates\": [126.844932, 37.554193], \"type\": \"Point\"}, \"properties\": {\"address\": \"\\\\uc11c\\\\uc6b8\\\\ud2b9\\\\ubcc4\\\\uc2dc \\\\uac15\\\\uc11c\\\\uad6c \\\\ub0b4\\\\ubc1c\\\\uc0b0\\\\ub3d9 \\\\uc0b04-5\", \"name\": \"\\\\uc6b0\\\\uc7a5\\\\uc0b0\\\\uadfc\\\\ub9b0\\\\uacf5\\\\uc6d0\", \"type\": \"\\\\ub3d9\\\\ubb3c\\\\uacf5\\\\uc6d0\"}, \"type\": \"Feature\"}',\n",
       " '{\"geometry\": {\"coordinates\": [126.974369, 37.486018], \"type\": \"Point\"}, \"properties\": {\"address\": \"\\\\uc11c\\\\uc6b8\\\\ud2b9\\\\ubcc4\\\\uc2dc \\\\ub3d9\\\\uc791\\\\uad6c \\\\uc0ac\\\\ub2f9\\\\ub3d9 \\\\uc0b024-17\", \"name\": \"\\\\uc0bc\\\\uc77c\\\\uadfc\\\\ub9b0\\\\uacf5\\\\uc6d0\", \"type\": \"\\\\ub3d9\\\\ubb3c\\\\uacf5\\\\uc6d0\"}, \"type\": \"Feature\"}',\n",
       " '{\"geometry\": {\"coordinates\": [126.984288, 37.589582], \"type\": \"Point\"}, \"properties\": {\"address\": \"\\\\uc11c\\\\uc6b8\\\\ud2b9\\\\ubcc4\\\\uc2dc \\\\uc885\\\\ub85c\\\\uad6c \\\\ubd81\\\\ucd0c\\\\ub85c 134-1 (\\\\uc6b0) 03050\", \"name\": \"\\\\uc0bc\\\\uccad\\\\uadfc\\\\ub9b0\\\\uacf5\\\\uc6d0\", \"type\": \"\\\\ub3d9\\\\ubb3c\\\\uacf5\\\\uc6d0\"}, \"type\": \"Feature\"}',\n",
       " '{\"geometry\": {\"coordinates\": [126.957844, 37.5849], \"type\": \"Point\"}, \"properties\": {\"address\": \"\\\\uc11c\\\\uc6b8\\\\ud2b9\\\\ubcc4\\\\uc2dc \\\\uc885\\\\ub85c\\\\uad6c \\\\uc625\\\\uc778\\\\ub3d9 \\\\uc0b0 3-1 \", \"name\": \"\\\\uc778\\\\uc655\\\\uc0b0\\\\ub3c4\\\\uc2dc\\\\uc790\\\\uc5f0\\\\uacf5\\\\uc6d0\", \"type\": \"\\\\ub3d9\\\\ubb3c\\\\uacf5\\\\uc6d0\"}, \"type\": \"Feature\"}',\n",
       " '{\"geometry\": {\"coordinates\": [126.938547, 37.492299], \"type\": \"Point\"}, \"properties\": {\"address\": \"\\\\uc11c\\\\uc6b8\\\\ud2b9\\\\ubcc4\\\\uc2dc \\\\ub3d9\\\\uc791\\\\uad6c \\\\uc131\\\\ub300\\\\ub85c6\\\\uc0ac\\\\uae38 27-6(\\\\uc0c1\\\\ub3c4\\\\uacf5\\\\uc6d0) \", \"name\": \"\\\\uc0c1\\\\ub3c4\\\\uadfc\\\\ub9b0\\\\uacf5\\\\uc6d0\", \"type\": \"\\\\ub3d9\\\\ubb3c\\\\uacf5\\\\uc6d0\"}, \"type\": \"Feature\"}',\n",
       " '{\"geometry\": {\"coordinates\": [127.157459, 37.543166], \"type\": \"Point\"}, \"properties\": {\"address\": \"\\\\uc11c\\\\uc6b8\\\\ud2b9\\\\ubcc4\\\\uc2dc \\\\uac15\\\\ub3d9\\\\uad6c \\\\ub3d9\\\\ub0a8\\\\ub85c 660(\\\\uc77c\\\\uc790\\\\uc0b0\\\\uacf5\\\\uc6d0)\", \"name\": \"\\\\uc77c\\\\uc790\\\\uc0b0\\\\ub3c4\\\\uc2dc\\\\uc790\\\\uc5f0\\\\uacf5\\\\uc6d0\", \"type\": \"\\\\ub3d9\\\\ubb3c\\\\uacf5\\\\uc6d0\"}, \"type\": \"Feature\"}',\n",
       " '{\"geometry\": {\"coordinates\": [127.027132, 37.653146], \"type\": \"Point\"}, \"properties\": {\"address\": \"\\\\uc11c\\\\uc6b8\\\\ud2b9\\\\ubcc4\\\\uc2dc \\\\ub3c4\\\\ubd09\\\\uad6c \\\\uc30d\\\\ubb38\\\\ub3d9 \\\\uc0b080\", \"name\": \"\\\\uc30d\\\\ubb38\\\\uadfc\\\\ub9b0\\\\uacf5\\\\uc6d0\", \"type\": \"\\\\ub3d9\\\\ubb3c\\\\uacf5\\\\uc6d0\"}, \"type\": \"Feature\"}',\n",
       " '{\"geometry\": {\"coordinates\": [127.081363, 37.699232], \"type\": \"Point\"}, \"properties\": {\"address\": \"\\\\uc11c\\\\uc6b8\\\\ud2b9\\\\ubcc4\\\\uc2dc \\\\ub178\\\\uc6d0\\\\uad6c \\\\uc0c1\\\\uacc4\\\\ub3d9 \\\\uc0b03-1\", \"name\": \"\\\\uc218\\\\ub77d\\\\uc0b0\\\\ub3c4\\\\uc2dc\\\\uc790\\\\uc5f0\\\\uacf5\\\\uc6d0\", \"type\": \"\\\\ub3d9\\\\ubb3c\\\\uacf5\\\\uc6d0\"}, \"type\": \"Feature\"}',\n",
       " '{\"geometry\": {\"coordinates\": [127.0983, 37.506933], \"type\": \"Point\"}, \"properties\": {\"address\": \"\\\\uc11c\\\\uc6b8\\\\ud2b9\\\\ubcc4\\\\uc2dc \\\\uc1a1\\\\ud30c\\\\uad6c \\\\uc7a0\\\\uc2e4\\\\ub85c 148 (\\\\uc7a0\\\\uc2e4\\\\ub3d9) \", \"name\": \"\\\\uc1a1\\\\ud30c\\\\ub098\\\\ub8e8\\\\uadfc\\\\ub9b0\\\\uacf5\\\\uc6d0(\\\\uc11d\\\\ucd0c\\\\ud638\\\\uc218)\", \"type\": \"\\\\ub3d9\\\\ubb3c\\\\uacf5\\\\uc6d0\"}, \"type\": \"Feature\"}',\n",
       " '{\"geometry\": {\"coordinates\": [126.90014, 37.543418], \"type\": \"Point\"}, \"properties\": {\"address\": \"\\\\uc11c\\\\uc6b8\\\\ud2b9\\\\ubcc4\\\\uc2dc \\\\uc601\\\\ub4f1\\\\ud3ec\\\\uad6c \\\\uc120\\\\uc720\\\\ub85c 343 (\\\\ub2f9\\\\uc0b0\\\\ub3d9 1) \\\\uc120\\\\uc720\\\\ub3c4\\\\uacf5\\\\uc6d0\\\\uad00\\\\ub9ac\\\\uc0ac\\\\ubb34\\\\uc18c\", \"name\": \"\\\\uc120\\\\uc720\\\\ub3c4\\\\uadfc\\\\ub9b0\\\\uacf5\\\\uc6d0\", \"type\": \"\\\\ub3d9\\\\ubb3c\\\\uacf5\\\\uc6d0\"}, \"type\": \"Feature\"}',\n",
       " '{\"geometry\": {\"coordinates\": [126.96527, 37.556019], \"type\": \"Point\"}, \"properties\": {\"address\": \"\\\\uc11c\\\\uc6b8\\\\ud2b9\\\\ubcc4\\\\uc2dc \\\\uc911\\\\uad6c \\\\uc190\\\\uae30\\\\uc815\\\\ub85c 101 \", \"name\": \"\\\\uc190\\\\uae30\\\\uc815\\\\uccb4\\\\uc721\\\\uacf5\\\\uc6d0\", \"type\": \"\\\\ub3d9\\\\ubb3c\\\\uacf5\\\\uc6d0\"}, \"type\": \"Feature\"}',\n",
       " '{\"geometry\": {\"coordinates\": [127.007862, 37.594851], \"type\": \"Point\"}, \"properties\": {\"address\": \"\\\\uc11c\\\\uc6b8\\\\ud2b9\\\\ubcc4\\\\uc2dc \\\\uc131\\\\ubd81\\\\uad6c \\\\ub3c8\\\\uc554\\\\ub3d9 616-1055\", \"name\": \"\\\\uc131\\\\ubd81\\\\uadfc\\\\ub9b0\\\\uacf5\\\\uc6d0\", \"type\": \"\\\\ub3d9\\\\ubb3c\\\\uacf5\\\\uc6d0\"}, \"type\": \"Feature\"}',\n",
       " '{\"geometry\": {\"coordinates\": [126.851784, 37.542198], \"type\": \"Point\"}, \"properties\": {\"address\": \"\\\\uc11c\\\\uc6b8\\\\ud2b9\\\\ubcc4\\\\uc2dc \\\\uac15\\\\uc11c\\\\uad6c \\\\ud654\\\\uace1\\\\ub3d9 \\\\uc0b041-6\", \"name\": \"\\\\ubd09\\\\uc81c\\\\uc0b0\\\\uacf5\\\\uc6d0\", \"type\": \"\\\\ub3d9\\\\ubb3c\\\\uacf5\\\\uc6d0\"}, \"type\": \"Feature\"}',\n",
       " '{\"geometry\": {\"coordinates\": [127.047938, 37.689585], \"type\": \"Point\"}, \"properties\": {\"address\": \"\\\\uc11c\\\\uc6b8\\\\ud2b9\\\\ubcc4\\\\uc2dc \\\\ub3c4\\\\ubd09\\\\uad6c \\\\ub9c8\\\\ub4e4\\\\ub85c 916(\\\\uc11c\\\\uc6b8\\\\ucc3d\\\\ud3ec\\\\uc6d0) \", \"name\": \"\\\\uc11c\\\\uc6b8\\\\ucc3d\\\\ud3ec\\\\uc6d0\", \"type\": \"\\\\ub3d9\\\\ubb3c\\\\uacf5\\\\uc6d0\"}, \"type\": \"Feature\"}',\n",
       " '{\"geometry\": {\"coordinates\": [127.040734, 37.623336], \"type\": \"Point\"}, \"properties\": {\"address\": \"\\\\uc11c\\\\uc6b8\\\\ud2b9\\\\ubcc4\\\\uc2dc \\\\uac15\\\\ubd81\\\\uad6c \\\\uc6d4\\\\uacc4\\\\ub85c 173\", \"name\": \"\\\\ubd81\\\\uc11c\\\\uc6b8\\\\uafc8\\\\uc758\\\\uc232\", \"type\": \"\\\\ub3d9\\\\ubb3c\\\\uacf5\\\\uc6d0\"}, \"type\": \"Feature\"}',\n",
       " '{\"geometry\": {\"coordinates\": [126.830479, 37.527839], \"type\": \"Point\"}, \"properties\": {\"address\": \"\\\\uc11c\\\\uc6b8\\\\ud2b9\\\\ubcc4\\\\uc2dc \\\\uc591\\\\ucc9c\\\\uad6c \\\\ub0a8\\\\ubd80\\\\uc21c\\\\ud658\\\\ub85c64\\\\uae38 20 (\\\\uc2e0\\\\uc6d4\\\\ub3d9)\", \"name\": \"\\\\uc11c\\\\uc11c\\\\uc6b8\\\\ud638\\\\uc218\\\\uacf5\\\\uc6d0\", \"type\": \"\\\\ub3d9\\\\ubb3c\\\\uacf5\\\\uc6d0\"}, \"type\": \"Feature\"}',\n",
       " '{\"geometry\": {\"coordinates\": [127.109308, 37.60499], \"type\": \"Point\"}, \"properties\": {\"address\": \"\\\\uc11c\\\\uc6b8\\\\ud2b9\\\\ubcc4\\\\uc2dc \\\\uc911\\\\ub791\\\\uad6c \\\\uc1a1\\\\ub9bc\\\\uae38 160(\\\\uc911\\\\ub791\\\\ucea0\\\\ud551\\\\uc232)/\\\\uc911\\\\ub791\\\\uad6c \\\\ub9dd\\\\uc6b0\\\\ub3d9 74(\\\\uccad\\\\uc18c\\\\ub144\\\\uccb4\\\\ud5d8\\\\uc758\\\\uc232)\", \"name\": \"\\\\uc911\\\\ub791\\\\ucea0\\\\ud551\\\\uc232\", \"type\": \"\\\\ub3d9\\\\ubb3c\\\\uacf5\\\\uc6d0\"}, \"type\": \"Feature\"}',\n",
       " '{\"geometry\": {\"coordinates\": [127.011624, 37.652331], \"type\": \"Point\"}, \"properties\": {\"address\": \"\\\\uc11c\\\\uc6b8\\\\ud2b9\\\\ubcc4\\\\uc2dc \\\\uac15\\\\ubd81\\\\uad6c \\\\uc6b0\\\\uc774\\\\ub3d9 80\\\\ubc88\\\\uc9c0 \\\\uc77c\\\\ub300\", \"name\": \"\\\\uc194\\\\ubc2d\\\\uadfc\\\\ub9b0\\\\uacf5\\\\uc6d0\", \"type\": \"\\\\ub3d9\\\\ubb3c\\\\uacf5\\\\uc6d0\"}, \"type\": \"Feature\"}',\n",
       " '{\"geometry\": {\"coordinates\": [126.908681, 37.468164], \"type\": \"Point\"}, \"properties\": {\"address\": \"\\\\uc11c\\\\uc6b8\\\\ud2b9\\\\ubcc4\\\\uc2dc \\\\uae08\\\\ucc9c\\\\uad6c \\\\ub3c5\\\\uc0b0\\\\ub3d9 \\\\uc0b0118-4(\\\\uae08\\\\ucc9c\\\\uccb4\\\\uc721\\\\uacf5\\\\uc6d0)\", \"name\": \"\\\\uae08\\\\ucc9c\\\\uccb4\\\\uc721\\\\uacf5\\\\uc6d0(\\\\uad00\\\\uc545\\\\uc0b0)\", \"type\": \"\\\\ub3d9\\\\ubb3c\\\\uacf5\\\\uc6d0\"}, \"type\": \"Feature\"}',\n",
       " '{\"geometry\": {\"coordinates\": [126.904013, 37.446866], \"type\": \"Point\"}, \"properties\": {\"address\": \"\\\\uc11c\\\\uc6b8\\\\ud2b9\\\\ubcc4\\\\uc2dc \\\\uae08\\\\ucc9c\\\\uad6c \\\\uc2dc\\\\ud765\\\\ub300\\\\ub85c38\\\\uae38 61(\\\\uc2dc\\\\ud765\\\\ub3d9 937-2)\", \"name\": \"\\\\uae08\\\\ucc9c\\\\ud3ed\\\\ud3ec\\\\uadfc\\\\ub9b0\\\\uacf5\\\\uc6d0\", \"type\": \"\\\\ub3d9\\\\ubb3c\\\\uacf5\\\\uc6d0\"}, \"type\": \"Feature\"}',\n",
       " '{\"geometry\": {\"coordinates\": [126.909003, 37.473427], \"type\": \"Point\"}, \"properties\": {\"address\": \"\\\\uc11c\\\\uc6b8\\\\ud2b9\\\\ubcc4\\\\uc2dc \\\\uae08\\\\ucc9c\\\\uad6c \\\\ub3c5\\\\uc0b0\\\\ub3d9 \\\\uc0b08 \\\\uc77c\\\\ub300\", \"name\": \"\\\\ub9cc\\\\uc218\\\\ucc9c\\\\uacf5\\\\uc6d0(\\\\uad00\\\\uc545\\\\uc0b0)\", \"type\": \"\\\\ub3d9\\\\ubb3c\\\\uacf5\\\\uc6d0\"}, \"type\": \"Feature\"}',\n",
       " '{\"geometry\": {\"coordinates\": [127.031982, 37.659714], \"type\": \"Point\"}, \"properties\": {\"address\": \"\\\\uc11c\\\\uc6b8\\\\ud2b9\\\\ubcc4\\\\uc2dc \\\\ub3c4\\\\ubd09\\\\uad6c \\\\uc2dc\\\\ub8e8\\\\ubd09\\\\ub85c6\\\\uae38 33\", \"name\": \"\\\\ubc1c\\\\ubc14\\\\ub2e5\\\\uacf5\\\\uc6d0\", \"type\": \"\\\\ub3d9\\\\ubb3c\\\\uacf5\\\\uc6d0\"}, \"type\": \"Feature\"}',\n",
       " '{\"geometry\": {\"coordinates\": [127.05099, 37.647389], \"type\": \"Point\"}, \"properties\": {\"address\": \"\\\\uc11c\\\\uc6b8\\\\ud2b9\\\\ubcc4\\\\uc2dc \\\\ub3c4\\\\ubd09\\\\uad6c \\\\ucc3d\\\\ub3d9 28\\\\ubc88\\\\uc9c0\", \"name\": \"\\\\uc6d4\\\\ucc9c\\\\uadfc\\\\ub9b0\\\\uacf5\\\\uc6d0\", \"type\": \"\\\\ub3d9\\\\ubb3c\\\\uacf5\\\\uc6d0\"}, \"type\": \"Feature\"}',\n",
       " '{\"geometry\": {\"coordinates\": [127.039004, 37.573279], \"type\": \"Point\"}, \"properties\": {\"address\": \"\\\\uc11c\\\\uc6b8\\\\ud2b9\\\\ubcc4\\\\uc2dc \\\\ub3d9\\\\ub300\\\\ubb38\\\\uad6c \\\\uc6a9\\\\ub450\\\\ub3d9 34-1\\\\ubc88\\\\uc9c0 \\\\uc77c\\\\ub300\", \"name\": \"\\\\uc6a9\\\\ub450\\\\uadfc\\\\ub9b0\\\\uacf5\\\\uc6d0\", \"type\": \"\\\\ub3d9\\\\ubb3c\\\\uacf5\\\\uc6d0\"}, \"type\": \"Feature\"}',\n",
       " '{\"geometry\": {\"coordinates\": [126.885901, 37.576011], \"type\": \"Point\"}, \"properties\": {\"address\": \"\\\\uc11c\\\\uc6b8\\\\ud2b9\\\\ubcc4\\\\uc2dc \\\\ub9c8\\\\ud3ec\\\\uad6c \\\\uc0c1\\\\uc554\\\\ub3d9 1761\", \"name\": \"\\\\uc0c1\\\\uc554\\\\uadfc\\\\ub9b0\\\\uacf5\\\\uc6d0\", \"type\": \"\\\\ub3d9\\\\ubb3c\\\\uacf5\\\\uc6d0\"}, \"type\": \"Feature\"}',\n",
       " '{\"geometry\": {\"coordinates\": [126.928994, 37.55173], \"type\": \"Point\"}, \"properties\": {\"address\": \"\\\\uc11c\\\\uc6b8\\\\ud2b9\\\\ubcc4\\\\uc2dc \\\\ub9c8\\\\ud3ec\\\\uad6c \\\\ucc3d\\\\uc804\\\\ub3d9 3-193\\\\ubc88\\\\uc9c0 \\\\uc77c\\\\ub300(\\\\ud64d\\\\uc775\\\\ub300 \\\\ub4b7\\\\uc0b0)\", \"name\": \"\\\\uc640\\\\uc6b0\\\\uadfc\\\\ub9b0\\\\uacf5\\\\uc6d0\", \"type\": \"\\\\ub3d9\\\\ubb3c\\\\uacf5\\\\uc6d0\"}, \"type\": \"Feature\"}',\n",
       " '{\"geometry\": {\"coordinates\": [127.018946, 37.549473], \"type\": \"Point\"}, \"properties\": {\"address\": \"\\\\uc11c\\\\uc6b8\\\\ud2b9\\\\ubcc4\\\\uc2dc \\\\uc131\\\\ub3d9\\\\uad6c \\\\uc7a5\\\\ud1301\\\\uae38 18\", \"name\": \"\\\\uae08\\\\ud638\\\\uadfc\\\\ub9b0\\\\uacf5\\\\uc6d0\", \"type\": \"\\\\ub3d9\\\\ubb3c\\\\uacf5\\\\uc6d0\"}, \"type\": \"Feature\"}',\n",
       " '{\"geometry\": {\"coordinates\": [127.021205, 37.543564], \"type\": \"Point\"}, \"properties\": {\"address\": \"\\\\uc11c\\\\uc6b8\\\\ud2b9\\\\ubcc4\\\\uc2dc \\\\uc131\\\\ub3d9\\\\uad6c \\\\uc625\\\\uc218\\\\ub3d9 \\\\uc0b01-1\", \"name\": \"\\\\ub2ec\\\\ub9de\\\\uc774\\\\uadfc\\\\ub9b0\\\\uacf5\\\\uc6d0\", \"type\": \"\\\\ub3d9\\\\ubb3c\\\\uacf5\\\\uc6d0\"}, \"type\": \"Feature\"}',\n",
       " '{\"geometry\": {\"coordinates\": [127.127582, 37.486216], \"type\": \"Point\"}, \"properties\": {\"address\": \"\\\\uc11c\\\\uc6b8\\\\ud2b9\\\\ubcc4\\\\uc2dc \\\\uc1a1\\\\ud30c\\\\uad6c \\\\ubb38\\\\uc815\\\\ub3d9 18-4\", \"name\": \"\\\\ubb38\\\\uc815\\\\uadfc\\\\ub9b0\\\\uacf5\\\\uc6d0\", \"type\": \"\\\\ub3d9\\\\ubb3c\\\\uacf5\\\\uc6d0\"}, \"type\": \"Feature\"}',\n",
       " '{\"geometry\": {\"coordinates\": [127.030517, 37.467654], \"type\": \"Point\"}, \"properties\": {\"address\": \"\\\\uc11c\\\\uc6b8\\\\ud2b9\\\\ubcc4\\\\uc2dc \\\\uc11c\\\\ucd08\\\\uad6c \\\\ubc14\\\\uc6b0\\\\ubafc\\\\ub85c12\\\\uae38 40 (\\\\uc591\\\\uc7ac\\\\ub3d9)\", \"name\": \"\\\\ubb38\\\\ud654\\\\uc608\\\\uc220\\\\uacf5\\\\uc6d0\", \"type\": \"\\\\ub3d9\\\\ubb3c\\\\uacf5\\\\uc6d0\"}, \"type\": \"Feature\"}',\n",
       " '{\"geometry\": {\"coordinates\": [126.975888, 37.5735], \"type\": \"Point\"}, \"properties\": {\"address\": \"\\\\uc11c\\\\uc6b8\\\\ud2b9\\\\ubcc4\\\\uc2dc \\\\uc885\\\\ub85c\\\\uad6c \\\\uc138\\\\uc885\\\\ub300\\\\ub85c 189 (\\\\uc6b0) 03172\", \"name\": \"\\\\uc138\\\\uc885\\\\ub85c\\\\uacf5\\\\uc6d0\", \"type\": \"\\\\ub3d9\\\\ubb3c\\\\uacf5\\\\uc6d0\"}, \"type\": \"Feature\"}',\n",
       " '{\"geometry\": {\"coordinates\": [126.938511, 37.464213], \"type\": \"Point\"}, \"properties\": {\"address\": \"\\\\uc11c\\\\uc6b8\\\\ud2b9\\\\ubcc4\\\\uc2dc \\\\uad00\\\\uc545\\\\uad6c \\\\ub300\\\\ud559\\\\ub3d9 \\\\uc0b063-1\\\\uc77c\\\\ub300 \\\\uc0d8\\\\ub9d0\\\\uacf5\\\\uc6d0\", \"name\": \"\\\\uc0d8\\\\ub9d0\\\\uacf5\\\\uc6d0(\\\\uad00\\\\uc545\\\\uc0b0)\", \"type\": \"\\\\ub3d9\\\\ubb3c\\\\uacf5\\\\uc6d0\"}, \"type\": \"Feature\"}',\n",
       " '{\"geometry\": {\"coordinates\": [127.040538, 37.647948], \"type\": \"Point\"}, \"properties\": {\"address\": \"\\\\uc11c\\\\uc6b8\\\\ud2b9\\\\ubcc4\\\\uc2dc \\\\ub3c4\\\\ubd09\\\\uad6c \\\\ucc3d\\\\ub3d9 \\\\uc0b024\", \"name\": \"\\\\ucd08\\\\uc548\\\\uc0b0\\\\uc0dd\\\\ud0dc\\\\uacf5\\\\uc6d0\", \"type\": \"\\\\ub3d9\\\\ubb3c\\\\uacf5\\\\uc6d0\"}, \"type\": \"Feature\"}',\n",
       " '{\"geometry\": {\"coordinates\": [126.82407, 37.483029], \"type\": \"Point\"}, \"properties\": {\"address\": \"\\\\uc11c\\\\uc6b8\\\\ud2b9\\\\ubcc4\\\\uc2dc \\\\uad6c\\\\ub85c\\\\uad6c \\\\uc5f0\\\\ub3d9\\\\ub85c 240(\\\\ud56d\\\\ub3d981-1) \\\\ud478\\\\ub978\\\\uc218\\\\ubaa9\\\\uc6d0\\\\uad00\\\\ub9ac\\\\uc0ac\\\\ubb34\\\\uc18c\", \"name\": \"\\\\ud478\\\\ub978\\\\uc218\\\\ubaa9\\\\uc6d0\", \"type\": \"\\\\ub3d9\\\\ubb3c\\\\uacf5\\\\uc6d0\"}, \"type\": \"Feature\"}',\n",
       " '{\"geometry\": {\"coordinates\": [126.913434, 37.637482], \"type\": \"Point\"}, \"properties\": {\"address\": \"\\\\uc11c\\\\uc6b8\\\\ud2b9\\\\ubcc4\\\\uc2dc \\\\uc740\\\\ud3c9\\\\uad6c \\\\uad6c\\\\ud30c\\\\ubc1c\\\\ub3d9 \\\\uac08\\\\ud604\\\\ub3d9 \\\\uc9c4\\\\uad00\\\\ub0b4\\\\ub3d9\", \"name\": \"\\\\uc11c\\\\uc624\\\\ub2a5\\\\ub3c4\\\\uc2dc\\\\uc790\\\\uc5f0\\\\uacf5\\\\uc6d0\", \"type\": \"\\\\ub3d9\\\\ubb3c\\\\uacf5\\\\uc6d0\"}, \"type\": \"Feature\"}',\n",
       " '{\"geometry\": {\"coordinates\": [127.042473, 37.422435], \"type\": \"Point\"}, \"properties\": {\"address\": \"\\\\uc11c\\\\uc6b8\\\\ud2b9\\\\ubcc4\\\\uc2dc \\\\uc11c\\\\ucd08\\\\uad6c \\\\uc6d0\\\\uc9c0\\\\ub3d9 \\\\uc0b0 33\", \"name\": \"\\\\uccad\\\\uacc4\\\\uc0b0\\\\ub3c4\\\\uc2dc\\\\uc790\\\\uc5f0\\\\uacf5\\\\uc6d0\", \"type\": \"\\\\ub3d9\\\\ubb3c\\\\uacf5\\\\uc6d0\"}, \"type\": \"Feature\"}',\n",
       " '{\"geometry\": {\"coordinates\": [126.806828, 37.581392], \"type\": \"Point\"}, \"properties\": {\"address\": \"\\\\uc11c\\\\uc6b8\\\\ud2b9\\\\ubcc4\\\\uc2dc \\\\uac15\\\\uc11c\\\\uad6c \\\\uac1c\\\\ud654\\\\ub3d9 \\\\uc0b017\", \"name\": \"\\\\uac1c\\\\ud654\\\\uadfc\\\\ub9b0\\\\uacf5\\\\uc6d0\", \"type\": \"\\\\ub3d9\\\\ubb3c\\\\uacf5\\\\uc6d0\"}, \"type\": \"Feature\"}',\n",
       " '{\"geometry\": {\"coordinates\": [127.101003, 37.551714], \"type\": \"Point\"}, \"properties\": {\"address\": \"\\\\uc11c\\\\uc6b8\\\\ud2b9\\\\ubcc4\\\\uc2dc \\\\uad11\\\\uc9c4\\\\uad6c \\\\uad11\\\\uc7a5\\\\ub3d9 370\", \"name\": \"\\\\uc544\\\\ucc28\\\\uc0b0\\\\uc0dd\\\\ud0dc\\\\uacf5\\\\uc6d0\", \"type\": \"\\\\ub3d9\\\\ubb3c\\\\uacf5\\\\uc6d0\"}, \"type\": \"Feature\"}',\n",
       " '{\"geometry\": {\"coordinates\": [127.066663, 37.448211], \"type\": \"Point\"}, \"properties\": {\"address\": \"\\\\uc11c\\\\uc6b8\\\\ud2b9\\\\ubcc4\\\\uc2dc \\\\uc11c\\\\ucd08\\\\uad6c \\\\ub0b4\\\\uace1\\\\ub3d9 \\\\uc0b012-404\", \"name\": \"\\\\uc778\\\\ub2a5\\\\uc0b0\\\\ub3c4\\\\uc2dc\\\\uc790\\\\uc5f0\\\\uacf5\\\\uc6d0\", \"type\": \"\\\\ub3d9\\\\ubb3c\\\\uacf5\\\\uc6d0\"}, \"type\": \"Feature\"}',\n",
       " '{\"geometry\": {\"coordinates\": [127.061567, 37.468947], \"type\": \"Point\"}, \"properties\": {\"address\": \"\\\\uc11c\\\\uc6b8\\\\ud2b9\\\\ubcc4\\\\uc2dc \\\\uc11c\\\\ucd08\\\\uad6c \\\\uc5fc\\\\uace1\\\\ub3d9 \\\\uc0b025-1\", \"name\": \"\\\\uad6c\\\\ub8e1\\\\uc0b0\", \"type\": \"\\\\ub3d9\\\\ubb3c\\\\uacf5\\\\uc6d0\"}, \"type\": \"Feature\"}',\n",
       " '{\"geometry\": {\"coordinates\": [127.009132, 37.470484], \"type\": \"Point\"}, \"properties\": {\"address\": \"\\\\uc11c\\\\uc6b8\\\\ud2b9\\\\ubcc4\\\\uc2dc \\\\uc11c\\\\ucd08\\\\uad6c \\\\uc6b0\\\\uba74\\\\ub3d9 \\\\uc0b035-1\", \"name\": \"\\\\uc6b0\\\\uba74\\\\uc0b0\\\\ub3c4\\\\uc2dc\\\\uc790\\\\uc5f0\\\\uacf5\\\\uc6d0\", \"type\": \"\\\\ub3d9\\\\ubb3c\\\\uacf5\\\\uc6d0\"}, \"type\": \"Feature\"}',\n",
       " '{\"geometry\": {\"coordinates\": [126.924069, 37.629382], \"type\": \"Point\"}, \"properties\": {\"address\": \"\\\\uc11c\\\\uc6b8\\\\ud2b9\\\\ubcc4\\\\uc2dc \\\\uc740\\\\ud3c9\\\\uad6c \\\\uc9c4\\\\uad00\\\\ub3d9 \\\\uc0b055\", \"name\": \"\\\\ud5a5\\\\ub9bc\\\\uadfc\\\\ub9b0\\\\uacf5\\\\uc6d0\", \"type\": \"\\\\ub3d9\\\\ubb3c\\\\uacf5\\\\uc6d0\"}, \"type\": \"Feature\"}',\n",
       " '{\"geometry\": {\"coordinates\": [126.910295, 37.592077], \"type\": \"Point\"}, \"properties\": {\"address\": \"\\\\uc11c\\\\uc6b8\\\\ud2b9\\\\ubcc4\\\\uc2dc \\\\uc740\\\\ud3c9\\\\uad6c \\\\uc2e0\\\\uc0ac\\\\ub3d9 \\\\uc0b080-4\", \"name\": \"\\\\uc2e0\\\\uc0ac\\\\uadfc\\\\ub9b0\\\\uacf5\\\\uc6d0\", \"type\": \"\\\\ub3d9\\\\ubb3c\\\\uacf5\\\\uc6d0\"}, \"type\": \"Feature\"}',\n",
       " '{\"geometry\": {\"coordinates\": [126.971592, 37.555872], \"type\": \"Point\"}, \"properties\": {\"address\": \"\\\\uc11c\\\\uc6b8\\\\ud2b9\\\\ubcc4\\\\uc2dc \\\\uc911\\\\uad6c \\\\ud1b5\\\\uc77c\\\\ub85c 1 \\\\uc11c\\\\uc6b8\\\\uc5ed\", \"name\": \"\\\\ubb38\\\\ud654\\\\uc5ed \\\\uc11c\\\\uc6b8284\", \"type\": \"\\\\ub3d9\\\\ubb3c\\\\uacf5\\\\uc6d0\"}, \"type\": \"Feature\"}',\n",
       " '{\"geometry\": {\"coordinates\": [127.092184, 37.488044], \"type\": \"Point\"}, \"properties\": {\"address\": \"\\\\uc11c\\\\uc6b8\\\\ud2b9\\\\ubcc4\\\\uc2dc \\\\uac15\\\\ub0a8\\\\uad6c \\\\uc218\\\\uc11c\\\\ub3d9 \\\\uc0b010-1\", \"name\": \"\\\\uad11\\\\ud3c9\\\\uadfc\\\\ub9b0\\\\uacf5\\\\uc6d0\", \"type\": \"\\\\ub3d9\\\\ubb3c\\\\uacf5\\\\uc6d0\"}, \"type\": \"Feature\"}',\n",
       " '{\"geometry\": {\"coordinates\": [127.052453, 37.521326], \"type\": \"Point\"}, \"properties\": {\"address\": \"\\\\uc11c\\\\uc6b8\\\\ud2b9\\\\ubcc4\\\\uc2dc \\\\uac15\\\\ub0a8\\\\uad6c \\\\uccad\\\\ub2f4\\\\ub3d9 66\", \"name\": \"\\\\uccad\\\\ub2f4\\\\uadfc\\\\ub9b0\\\\uacf5\\\\uc6d0\", \"type\": \"\\\\ub3d9\\\\ubb3c\\\\uacf5\\\\uc6d0\"}, \"type\": \"Feature\"}',\n",
       " '{\"geometry\": {\"coordinates\": [127.153395, 37.537272], \"type\": \"Point\"}, \"properties\": {\"address\": \"\\\\uc11c\\\\uc6b8\\\\ud2b9\\\\ubcc4\\\\uc2dc \\\\uac15\\\\ub3d9\\\\uad6c \\\\ub454\\\\ucd0c\\\\ub3d9 \\\\uc0b094\", \"name\": \"\\\\ud5c8\\\\ube0c\\\\ucc9c\\\\ubb38\\\\uacf5\\\\uc6d0\", \"type\": \"\\\\ub3d9\\\\ubb3c\\\\uacf5\\\\uc6d0\"}, \"type\": \"Feature\"}',\n",
       " '{\"geometry\": {\"coordinates\": [126.920735, 37.619052], \"type\": \"Point\"}, \"properties\": {\"address\": \"\\\\uc11c\\\\uc6b8\\\\ud2b9\\\\ubcc4\\\\uc2dc \\\\uc740\\\\ud3c9\\\\uad6c \\\\ud1b5\\\\uc77c\\\\ub85c 849\", \"name\": \"\\\\uc5f0\\\\uc2e0\\\\ub0b4\\\\ubb3c\\\\ube5b\\\\uacf5\\\\uc6d0\", \"type\": \"\\\\ub3d9\\\\ubb3c\\\\uacf5\\\\uc6d0\"}, \"type\": \"Feature\"}',\n",
       " '{\"geometry\": {\"coordinates\": [127.113261, 37.605422], \"type\": \"Point\"}, \"properties\": {\"address\": \"\\\\uc11c\\\\uc6b8\\\\ud2b9\\\\ubcc4\\\\uc2dc \\\\uc911\\\\uad6c \\\\ub9dd\\\\uc6b0\\\\ub3d9 \\\\uc0b0 30-7 \\\\uc77c\\\\ub300\", \"name\": \"\\\\ub098\\\\ub4e4\\\\uc774\\\\uadfc\\\\ub9b0\\\\uacf5\\\\uc6d0\", \"type\": \"\\\\ub3d9\\\\ubb3c\\\\uacf5\\\\uc6d0\"}, \"type\": \"Feature\"}',\n",
       " '{\"geometry\": {\"coordinates\": [127.017827, 37.576442], \"type\": \"Point\"}, \"properties\": {\"address\": \"\\\\uc11c\\\\uc6b8\\\\ud2b9\\\\ubcc4\\\\uc2dc \\\\uc885\\\\ub85c\\\\uad6c \\\\uc22d\\\\uc778\\\\ub3d9 58\", \"name\": \"\\\\uc22d\\\\uc778\\\\uadfc\\\\ub9b0\\\\uacf5\\\\uc6d0\", \"type\": \"\\\\ub3d9\\\\ubb3c\\\\uacf5\\\\uc6d0\"}, \"type\": \"Feature\"}',\n",
       " '{\"geometry\": {\"coordinates\": [127.098782, 37.587716], \"type\": \"Point\"}, \"properties\": {\"address\": \"\\\\uc11c\\\\uc6b8\\\\ud2b9\\\\ubcc4\\\\uc2dc \\\\uc911\\\\ub791\\\\uad6c \\\\uba74\\\\ubaa9\\\\ub3d9 \\\\uc0b019\", \"name\": \"\\\\uc11c\\\\uc77c\\\\ub300\\\\ub4b7\\\\uc0b0\\\\uacf5\\\\uc6d0\", \"type\": \"\\\\ub3d9\\\\ubb3c\\\\uacf5\\\\uc6d0\"}, \"type\": \"Feature\"}',\n",
       " '{\"geometry\": {\"coordinates\": [127.095997, 37.579762], \"type\": \"Point\"}, \"properties\": {\"address\": \"\\\\uc11c\\\\uc6b8\\\\ud2b9\\\\ubcc4\\\\uc2dc \\\\uc911\\\\ub791\\\\uad6c \\\\uba74\\\\ubaa97\\\\ub3d9 \\\\uc0b050 \", \"name\": \"\\\\uc6a9\\\\ub9c8\\\\ub3c4\\\\uc2dc\\\\uc790\\\\uc5f0\\\\uacf5\\\\uc6d0(\\\\uc0ac\\\\uac00\\\\uc815\\\\uacf5\\\\uc6d0)\", \"type\": \"\\\\ub3d9\\\\ubb3c\\\\uacf5\\\\uc6d0\"}, \"type\": \"Feature\"}',\n",
       " '{\"geometry\": {\"coordinates\": [126.893246, 37.571718], \"type\": \"Point\"}, \"properties\": {\"address\": \"\\\\uc11c\\\\uc6b8\\\\ud2b9\\\\ubcc4\\\\uc2dc \\\\ub9c8\\\\ud3ec\\\\uad6c \\\\uc99d\\\\uc0b0\\\\ub85c 87\", \"name\": \"\\\\ubb38\\\\ud654\\\\ube44\\\\ucd95\\\\uae30\\\\uc9c0\", \"type\": \"\\\\ub3d9\\\\ubb3c\\\\uacf5\\\\uc6d0\"}, \"type\": \"Feature\"}',\n",
       " '{\"geometry\": {\"coordinates\": [127.076482, 37.627077], \"type\": \"Point\"}, \"properties\": {\"address\": \"\\\\ub178\\\\uc6d0\\\\uad6c \\\\uacf5\\\\ub9892\\\\ub3d9 \\\\uc0b0 82-2\", \"name\": \"\\\\uacbd\\\\ucd98\\\\uc120\\\\uc232\\\\uae38\", \"type\": \"\\\\ub3d9\\\\ubb3c\\\\uacf5\\\\uc6d0\"}, \"type\": \"Feature\"}']"
      ]
     },
     "execution_count": 96,
     "metadata": {},
     "output_type": "execute_result"
    }
   ],
   "source": [
    "json_data"
   ]
  },
  {
   "cell_type": "code",
   "execution_count": 73,
   "id": "f77ee71c",
   "metadata": {},
   "outputs": [
    {
     "ename": "TypeError",
     "evalue": "document must be an instance of dict, bson.son.SON, bson.raw_bson.RawBSONDocument, or a type that inherits from collections.MutableMapping",
     "output_type": "error",
     "traceback": [
      "\u001b[1;31m---------------------------------------------------------------------------\u001b[0m",
      "\u001b[1;31mTypeError\u001b[0m                                 Traceback (most recent call last)",
      "\u001b[1;32m<ipython-input-73-76b5d0ddb142>\u001b[0m in \u001b[0;36m<module>\u001b[1;34m\u001b[0m\n\u001b[0;32m      1\u001b[0m \u001b[1;31m#json_dict = dict(json_data)\u001b[0m\u001b[1;33m\u001b[0m\u001b[1;33m\u001b[0m\u001b[1;33m\u001b[0m\u001b[0m\n\u001b[0;32m      2\u001b[0m \u001b[1;33m\u001b[0m\u001b[0m\n\u001b[1;32m----> 3\u001b[1;33m \u001b[0mdb\u001b[0m\u001b[1;33m[\u001b[0m\u001b[1;34m'park'\u001b[0m\u001b[1;33m]\u001b[0m\u001b[1;33m.\u001b[0m\u001b[0minsert_one\u001b[0m\u001b[1;33m(\u001b[0m\u001b[0mjson_data\u001b[0m\u001b[1;33m[\u001b[0m\u001b[1;36m0\u001b[0m\u001b[1;33m]\u001b[0m\u001b[1;33m)\u001b[0m\u001b[1;33m\u001b[0m\u001b[1;33m\u001b[0m\u001b[0m\n\u001b[0m",
      "\u001b[1;32mD:\\anaconda3\\lib\\site-packages\\pymongo\\collection.py\u001b[0m in \u001b[0;36minsert_one\u001b[1;34m(self, document, bypass_document_validation, session)\u001b[0m\n\u001b[0;32m    697\u001b[0m         \u001b[1;33m.\u001b[0m\u001b[1;33m.\u001b[0m \u001b[0mversionadded\u001b[0m\u001b[1;33m:\u001b[0m\u001b[1;33m:\u001b[0m \u001b[1;36m3.0\u001b[0m\u001b[1;33m\u001b[0m\u001b[1;33m\u001b[0m\u001b[0m\n\u001b[0;32m    698\u001b[0m         \"\"\"\n\u001b[1;32m--> 699\u001b[1;33m         \u001b[0mcommon\u001b[0m\u001b[1;33m.\u001b[0m\u001b[0mvalidate_is_document_type\u001b[0m\u001b[1;33m(\u001b[0m\u001b[1;34m\"document\"\u001b[0m\u001b[1;33m,\u001b[0m \u001b[0mdocument\u001b[0m\u001b[1;33m)\u001b[0m\u001b[1;33m\u001b[0m\u001b[1;33m\u001b[0m\u001b[0m\n\u001b[0m\u001b[0;32m    700\u001b[0m         \u001b[1;32mif\u001b[0m \u001b[1;32mnot\u001b[0m \u001b[1;33m(\u001b[0m\u001b[0misinstance\u001b[0m\u001b[1;33m(\u001b[0m\u001b[0mdocument\u001b[0m\u001b[1;33m,\u001b[0m \u001b[0mRawBSONDocument\u001b[0m\u001b[1;33m)\u001b[0m \u001b[1;32mor\u001b[0m \u001b[1;34m\"_id\"\u001b[0m \u001b[1;32min\u001b[0m \u001b[0mdocument\u001b[0m\u001b[1;33m)\u001b[0m\u001b[1;33m:\u001b[0m\u001b[1;33m\u001b[0m\u001b[1;33m\u001b[0m\u001b[0m\n\u001b[0;32m    701\u001b[0m             \u001b[0mdocument\u001b[0m\u001b[1;33m[\u001b[0m\u001b[1;34m\"_id\"\u001b[0m\u001b[1;33m]\u001b[0m \u001b[1;33m=\u001b[0m \u001b[0mObjectId\u001b[0m\u001b[1;33m(\u001b[0m\u001b[1;33m)\u001b[0m\u001b[1;33m\u001b[0m\u001b[1;33m\u001b[0m\u001b[0m\n",
      "\u001b[1;32mD:\\anaconda3\\lib\\site-packages\\pymongo\\common.py\u001b[0m in \u001b[0;36mvalidate_is_document_type\u001b[1;34m(option, value)\u001b[0m\n\u001b[0;32m    501\u001b[0m     \u001b[1;34m\"\"\"Validate the type of method arguments that expect a MongoDB document.\"\"\"\u001b[0m\u001b[1;33m\u001b[0m\u001b[1;33m\u001b[0m\u001b[0m\n\u001b[0;32m    502\u001b[0m     \u001b[1;32mif\u001b[0m \u001b[1;32mnot\u001b[0m \u001b[0misinstance\u001b[0m\u001b[1;33m(\u001b[0m\u001b[0mvalue\u001b[0m\u001b[1;33m,\u001b[0m \u001b[1;33m(\u001b[0m\u001b[0mabc\u001b[0m\u001b[1;33m.\u001b[0m\u001b[0mMutableMapping\u001b[0m\u001b[1;33m,\u001b[0m \u001b[0mRawBSONDocument\u001b[0m\u001b[1;33m)\u001b[0m\u001b[1;33m)\u001b[0m\u001b[1;33m:\u001b[0m\u001b[1;33m\u001b[0m\u001b[1;33m\u001b[0m\u001b[0m\n\u001b[1;32m--> 503\u001b[1;33m         raise TypeError(\"%s must be an instance of dict, bson.son.SON, \"\n\u001b[0m\u001b[0;32m    504\u001b[0m                         \u001b[1;34m\"bson.raw_bson.RawBSONDocument, or \"\u001b[0m\u001b[1;33m\u001b[0m\u001b[1;33m\u001b[0m\u001b[0m\n\u001b[0;32m    505\u001b[0m                         \u001b[1;34m\"a type that inherits from \"\u001b[0m\u001b[1;33m\u001b[0m\u001b[1;33m\u001b[0m\u001b[0m\n",
      "\u001b[1;31mTypeError\u001b[0m: document must be an instance of dict, bson.son.SON, bson.raw_bson.RawBSONDocument, or a type that inherits from collections.MutableMapping"
     ]
    }
   ],
   "source": [
    "#json_dict = dict(json_data)\n",
    "\n",
    "db['park'].insert_one(json_data[0])\n",
    "\n"
   ]
  },
  {
   "cell_type": "code",
   "execution_count": 69,
   "id": "6b9a9232",
   "metadata": {},
   "outputs": [
    {
     "data": {
      "text/plain": [
       "['admin', 'config', 'fin', 'local', 'practice']"
      ]
     },
     "execution_count": 69,
     "metadata": {},
     "output_type": "execute_result"
    }
   ],
   "source": [
    "client.list_database_names()"
   ]
  },
  {
   "cell_type": "code",
   "execution_count": null,
   "id": "986bad70",
   "metadata": {},
   "outputs": [],
   "source": []
  }
 ],
 "metadata": {
  "kernelspec": {
   "display_name": "Python 3",
   "language": "python",
   "name": "python3"
  },
  "language_info": {
   "codemirror_mode": {
    "name": "ipython",
    "version": 3
   },
   "file_extension": ".py",
   "mimetype": "text/x-python",
   "name": "python",
   "nbconvert_exporter": "python",
   "pygments_lexer": "ipython3",
   "version": "3.8.8"
  }
 },
 "nbformat": 4,
 "nbformat_minor": 5
}
