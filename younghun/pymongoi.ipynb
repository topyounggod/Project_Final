{
 "cells": [
  {
   "cell_type": "code",
   "execution_count": 1,
   "id": "ac601f13",
   "metadata": {},
   "outputs": [],
   "source": [
    "from pymongo import MongoClient"
   ]
  },
  {
   "cell_type": "code",
   "execution_count": 2,
   "id": "93578477",
   "metadata": {},
   "outputs": [],
   "source": [
    "client = MongoClient(\"mongodb://localhost:27017/\")"
   ]
  },
  {
   "cell_type": "code",
   "execution_count": 3,
   "id": "ff967dd2",
   "metadata": {},
   "outputs": [],
   "source": [
    "db = client['fin']\n"
   ]
  },
  {
   "cell_type": "code",
   "execution_count": 4,
   "id": "57c3f7d2",
   "metadata": {},
   "outputs": [],
   "source": [
    "park = db['park']\n",
    "beauty = db['beauty']\n",
    "cafe = db['cafe']\n",
    "deliver = db['deliver']\n",
    "equip = db['equip']\n",
    "food = db['food']\n",
    "funeral = db['funeral']\n",
    "hospital = db['hospital']\n",
    "manage = db['manage']\n",
    "medical = db['medical_equip']\n",
    "pharmacy = db['pharmacy']\n",
    "play = db['play']\n",
    "restaurant = db['restaurant']\n",
    "sell = db['sell']\n",
    "shelter = db['shelter']\n",
    "\n"
   ]
  },
  {
   "cell_type": "code",
   "execution_count": 5,
   "id": "4ebeade7",
   "metadata": {
    "scrolled": false
   },
   "outputs": [],
   "source": [
    "import numpy as np\n",
    "from geojson import Point, Feature, FeatureCollection, dump\n",
    "a = np.random.randint(37584980, 37612181, size=5000) / 1000000\n",
    "b = np.random.randint(127031133,127058599,size = 5000) / 1000000\n",
    "# 진짜 서울시 위도 경도\n",
    "# a = np.random.randint(37413294, 37715133, size=10000) / 1000000\n",
    "# b = np.random.randint(127269311,127734086,size = 10000) / 1000000\n",
    "\n",
    "counts1 = []\n",
    "for i in range(0,len(a)): \n",
    "    c = list(park.aggregate(\n",
    "        [{\n",
    "            \"$geoNear\": {\n",
    "                \"near\": { \"type\": \"Point\", \"coordinates\": [b[i],a[i]] },\n",
    "                \"distanceField\": 'meters',\n",
    "                \"maxDistance\": 200\n",
    "            }\n",
    "            \n",
    "        }]\n",
    "    ))\n",
    "    counts1.append(len(c))"
   ]
  },
  {
   "cell_type": "code",
   "execution_count": 6,
   "id": "cc44c812",
   "metadata": {},
   "outputs": [],
   "source": [
    "counts2 = []\n",
    "for i in range(0,len(a)): \n",
    "    c = list(beauty.aggregate(\n",
    "        [{\n",
    "            \"$geoNear\": {\n",
    "                \"near\": { \"type\": \"Point\", \"coordinates\": [b[i],a[i]] },\n",
    "                \"distanceField\": 'meters',\n",
    "                \"maxDistance\": 200\n",
    "            }\n",
    "        }]\n",
    "    ))\n",
    "    counts2.append(len(c))\n"
   ]
  },
  {
   "cell_type": "code",
   "execution_count": 7,
   "id": "097dc9f8",
   "metadata": {},
   "outputs": [],
   "source": [
    "counts3 = []\n",
    "for i in range(0,len(a)): \n",
    "    c = list(cafe.aggregate(\n",
    "        [{\n",
    "            \"$geoNear\": {\n",
    "                \"near\": { \"type\": \"Point\", \"coordinates\": [b[i],a[i]] },\n",
    "                \"distanceField\": 'meters',\n",
    "                \"maxDistance\": 200\n",
    "            }\n",
    "        }]\n",
    "    ))\n",
    "    counts3.append(len(c))"
   ]
  },
  {
   "cell_type": "code",
   "execution_count": 8,
   "id": "1a90dd58",
   "metadata": {},
   "outputs": [],
   "source": [
    "counts4 = []\n",
    "for i in range(0,len(a)): \n",
    "    c = list(deliver.aggregate(\n",
    "        [{\n",
    "            \"$geoNear\": {\n",
    "                \"near\": { \"type\": \"Point\", \"coordinates\": [b[i],a[i]] },\n",
    "                \"distanceField\": 'meters',\n",
    "                \"maxDistance\": 200\n",
    "            }\n",
    "        }]\n",
    "    ))\n",
    "    counts4.append(len(c))"
   ]
  },
  {
   "cell_type": "code",
   "execution_count": 9,
   "id": "2065ecf3",
   "metadata": {},
   "outputs": [],
   "source": [
    "counts5 = []\n",
    "for i in range(0,len(a)): \n",
    "    c = list(equip.aggregate(\n",
    "        [{\n",
    "            \"$geoNear\": {\n",
    "                \"near\": { \"type\": \"Point\", \"coordinates\": [b[i],a[i]] },\n",
    "                \"distanceField\": 'meters',\n",
    "                \"maxDistance\": 200\n",
    "            }\n",
    "        }]\n",
    "    ))\n",
    "    counts5.append(len(c))"
   ]
  },
  {
   "cell_type": "code",
   "execution_count": 10,
   "id": "bdc9840a",
   "metadata": {},
   "outputs": [],
   "source": [
    "counts6 = []\n",
    "for i in range(0,len(a)): \n",
    "    c = list(food.aggregate(\n",
    "        [{\n",
    "            \"$geoNear\": {\n",
    "                \"near\": { \"type\": \"Point\", \"coordinates\": [b[i],a[i]] },\n",
    "                \"distanceField\": 'meters',\n",
    "                \"maxDistance\": 200\n",
    "            }\n",
    "        }]\n",
    "    ))\n",
    "    counts6.append(len(c))"
   ]
  },
  {
   "cell_type": "code",
   "execution_count": 11,
   "id": "ea5ec2ee",
   "metadata": {},
   "outputs": [],
   "source": [
    "counts7 = []\n",
    "for i in range(0,len(a)): \n",
    "    c = list(funeral.aggregate(\n",
    "        [{\n",
    "            \"$geoNear\": {\n",
    "                \"near\": { \"type\": \"Point\", \"coordinates\": [b[i],a[i]] },\n",
    "                \"distanceField\": 'meters',\n",
    "                \"maxDistance\": 200\n",
    "            }\n",
    "        }]\n",
    "    ))\n",
    "    counts7.append(len(c))"
   ]
  },
  {
   "cell_type": "code",
   "execution_count": 12,
   "id": "37267c98",
   "metadata": {},
   "outputs": [],
   "source": [
    "counts8 = []\n",
    "for i in range(0,len(a)): \n",
    "    c = list(hospital.aggregate(\n",
    "        [{\n",
    "            \"$geoNear\": {\n",
    "                \"near\": { \"type\": \"Point\", \"coordinates\": [b[i],a[i]] },\n",
    "                \"distanceField\": 'meters',\n",
    "                \"maxDistance\": 200\n",
    "            }\n",
    "        }]\n",
    "    ))\n",
    "    counts8.append(len(c))"
   ]
  },
  {
   "cell_type": "code",
   "execution_count": 13,
   "id": "dc0dc1dd",
   "metadata": {},
   "outputs": [],
   "source": [
    "counts9 = []\n",
    "for i in range(0,len(a)): \n",
    "    c = list(manage.aggregate(\n",
    "        [{\n",
    "            \"$geoNear\": {\n",
    "                \"near\": { \"type\": \"Point\", \"coordinates\": [b[i],a[i]] },\n",
    "                \"distanceField\": 'meters',\n",
    "                \"maxDistance\": 200\n",
    "            }\n",
    "        }]\n",
    "    ))\n",
    "    counts9.append(len(c))"
   ]
  },
  {
   "cell_type": "code",
   "execution_count": 14,
   "id": "24343239",
   "metadata": {},
   "outputs": [],
   "source": [
    "counts10 = []\n",
    "for i in range(0,len(a)): \n",
    "    c = list(medical.aggregate(\n",
    "        [{\n",
    "            \"$geoNear\": {\n",
    "                \"near\": { \"type\": \"Point\", \"coordinates\": [b[i],a[i]] },\n",
    "                \"distanceField\": 'meters',\n",
    "                \"maxDistance\": 200\n",
    "            }\n",
    "        }]\n",
    "    ))\n",
    "    counts10.append(len(c))"
   ]
  },
  {
   "cell_type": "code",
   "execution_count": 15,
   "id": "22692461",
   "metadata": {},
   "outputs": [],
   "source": [
    "counts11 = []\n",
    "for i in range(0,len(a)): \n",
    "    c = list(pharmacy.aggregate(\n",
    "        [{\n",
    "            \"$geoNear\": {\n",
    "                \"near\": { \"type\": \"Point\", \"coordinates\": [b[i],a[i]] },\n",
    "                \"distanceField\": 'meters',\n",
    "                \"maxDistance\": 200\n",
    "            }\n",
    "        }]\n",
    "    ))\n",
    "    counts11.append(len(c))"
   ]
  },
  {
   "cell_type": "code",
   "execution_count": 16,
   "id": "8bab03f3",
   "metadata": {},
   "outputs": [],
   "source": [
    "counts12 = []\n",
    "for i in range(0,len(a)): \n",
    "    c = list(play.aggregate(\n",
    "        [{\n",
    "            \"$geoNear\": {\n",
    "                \"near\": { \"type\": \"Point\", \"coordinates\": [b[i],a[i]] },\n",
    "                \"distanceField\": 'meters',\n",
    "                \"maxDistance\": 200\n",
    "            }\n",
    "        }]\n",
    "    ))\n",
    "    counts12.append(len(c))"
   ]
  },
  {
   "cell_type": "code",
   "execution_count": 17,
   "id": "631bd3bf",
   "metadata": {},
   "outputs": [],
   "source": [
    "counts13 = []\n",
    "for i in range(0,len(a)): \n",
    "    c = list(restaurant.aggregate(\n",
    "        [{\n",
    "            \"$geoNear\": {\n",
    "                \"near\": { \"type\": \"Point\", \"coordinates\": [b[i],a[i]] },\n",
    "                \"distanceField\": 'meters',\n",
    "                \"maxDistance\": 200\n",
    "            }\n",
    "        }]\n",
    "    ))\n",
    "    counts13.append(len(c))"
   ]
  },
  {
   "cell_type": "code",
   "execution_count": 18,
   "id": "b3933a0f",
   "metadata": {},
   "outputs": [],
   "source": [
    "counts14 = []\n",
    "for i in range(0,len(a)): \n",
    "    c = list(sell.aggregate(\n",
    "        [{\n",
    "            \"$geoNear\": {\n",
    "                \"near\": { \"type\": \"Point\", \"coordinates\": [b[i],a[i]] },\n",
    "                \"distanceField\": 'meters',\n",
    "                \"maxDistance\": 200\n",
    "            }\n",
    "        }]\n",
    "    ))\n",
    "    counts14.append(len(c))"
   ]
  },
  {
   "cell_type": "code",
   "execution_count": 19,
   "id": "12f6d362",
   "metadata": {},
   "outputs": [],
   "source": [
    "counts15 = []\n",
    "for i in range(0,len(a)): \n",
    "    c = list(shelter.aggregate(\n",
    "        [{\n",
    "            \"$geoNear\": {\n",
    "                \"near\": { \"type\": \"Point\", \"coordinates\": [b[i],a[i]] },\n",
    "                \"distanceField\": 'meters',\n",
    "                \"maxDistance\": 200\n",
    "            }\n",
    "        }]\n",
    "    ))\n",
    "    counts15.append(len(c))"
   ]
  },
  {
   "cell_type": "code",
   "execution_count": 20,
   "id": "69b0c90f",
   "metadata": {},
   "outputs": [],
   "source": [
    "import pandas as pd\n",
    "df = pd.DataFrame()\n",
    "\n",
    "df['park'] = counts1\n",
    "df['beauty'] = counts2\n",
    "df['cafe'] = counts3\n",
    "df['deliver'] = counts4\n",
    "df['equip'] = counts5\n",
    "df['food'] = counts6\n",
    "df['funeral'] = counts7\n",
    "df['hospital'] = counts8\n",
    "df['manage'] = counts9\n",
    "df['medical'] = counts10\n",
    "df['pharmacy'] = counts11\n",
    "df['play'] = counts12\n",
    "df['restaurant'] = counts13\n",
    "df['sell'] = counts14\n",
    "#df['shelter'] = counts15\n"
   ]
  },
  {
   "cell_type": "code",
   "execution_count": 21,
   "id": "9f382927",
   "metadata": {},
   "outputs": [],
   "source": [
    "\n",
    "df_int = df"
   ]
  },
  {
   "cell_type": "code",
   "execution_count": 22,
   "id": "0b7924fb",
   "metadata": {},
   "outputs": [],
   "source": [
    "from sklearn.cluster import KMeans\n",
    "import matplotlib.pyplot as plt\n",
    "%matplotlib inline"
   ]
  },
  {
   "cell_type": "code",
   "execution_count": 23,
   "id": "a896c276",
   "metadata": {},
   "outputs": [],
   "source": [
    "kmeans = KMeans(n_clusters = 12)\n"
   ]
  },
  {
   "cell_type": "code",
   "execution_count": 24,
   "id": "522030ea",
   "metadata": {},
   "outputs": [
    {
     "data": {
      "text/plain": [
       "KMeans(n_clusters=12)"
      ]
     },
     "execution_count": 24,
     "metadata": {},
     "output_type": "execute_result"
    }
   ],
   "source": [
    "kmeans.fit(df)"
   ]
  },
  {
   "cell_type": "code",
   "execution_count": 25,
   "id": "7eea515e",
   "metadata": {},
   "outputs": [],
   "source": [
    "labels = kmeans.fit_predict(df)"
   ]
  },
  {
   "cell_type": "code",
   "execution_count": 26,
   "id": "14501af7",
   "metadata": {},
   "outputs": [],
   "source": [
    "df['cluster'] = kmeans.labels_"
   ]
  },
  {
   "cell_type": "code",
   "execution_count": null,
   "id": "118e5b3c",
   "metadata": {
    "scrolled": true
   },
   "outputs": [],
   "source": [
    "df"
   ]
  },
  {
   "cell_type": "code",
   "execution_count": 27,
   "id": "e00102ce",
   "metadata": {},
   "outputs": [
    {
     "name": "stdout",
     "output_type": "stream",
     "text": [
      "실루엣 스코어는 : 0.801\n"
     ]
    }
   ],
   "source": [
    "from sklearn.metrics import silhouette_score, silhouette_samples\n",
    "print('실루엣 스코어는 : {0:.3f}'.format(silhouette_score(df,labels)))"
   ]
  },
  {
   "cell_type": "code",
   "execution_count": 28,
   "id": "39130c68",
   "metadata": {},
   "outputs": [],
   "source": [
    "from sklearn.decomposition import PCA\n",
    "\n",
    "pca = PCA(n_components=2)\n",
    "pca_transformed = pca.fit_transform(df_int)"
   ]
  },
  {
   "cell_type": "code",
   "execution_count": 29,
   "id": "6a5345fb",
   "metadata": {},
   "outputs": [
    {
     "data": {
      "text/html": [
       "<div>\n",
       "<style scoped>\n",
       "    .dataframe tbody tr th:only-of-type {\n",
       "        vertical-align: middle;\n",
       "    }\n",
       "\n",
       "    .dataframe tbody tr th {\n",
       "        vertical-align: top;\n",
       "    }\n",
       "\n",
       "    .dataframe thead th {\n",
       "        text-align: right;\n",
       "    }\n",
       "</style>\n",
       "<table border=\"1\" class=\"dataframe\">\n",
       "  <thead>\n",
       "    <tr style=\"text-align: right;\">\n",
       "      <th></th>\n",
       "      <th>park</th>\n",
       "      <th>beauty</th>\n",
       "      <th>cafe</th>\n",
       "      <th>deliver</th>\n",
       "      <th>equip</th>\n",
       "      <th>food</th>\n",
       "      <th>funeral</th>\n",
       "      <th>hospital</th>\n",
       "      <th>manage</th>\n",
       "      <th>medical</th>\n",
       "      <th>pharmacy</th>\n",
       "      <th>play</th>\n",
       "      <th>restaurant</th>\n",
       "      <th>sell</th>\n",
       "      <th>cluster</th>\n",
       "      <th>pca_x</th>\n",
       "      <th>pca_y</th>\n",
       "    </tr>\n",
       "  </thead>\n",
       "  <tbody>\n",
       "    <tr>\n",
       "      <th>0</th>\n",
       "      <td>0</td>\n",
       "      <td>0</td>\n",
       "      <td>0</td>\n",
       "      <td>0</td>\n",
       "      <td>0</td>\n",
       "      <td>0</td>\n",
       "      <td>0</td>\n",
       "      <td>0</td>\n",
       "      <td>0</td>\n",
       "      <td>0</td>\n",
       "      <td>0</td>\n",
       "      <td>0</td>\n",
       "      <td>0</td>\n",
       "      <td>0</td>\n",
       "      <td>0</td>\n",
       "      <td>-2.281013</td>\n",
       "      <td>-0.208829</td>\n",
       "    </tr>\n",
       "    <tr>\n",
       "      <th>1</th>\n",
       "      <td>0</td>\n",
       "      <td>0</td>\n",
       "      <td>0</td>\n",
       "      <td>0</td>\n",
       "      <td>0</td>\n",
       "      <td>0</td>\n",
       "      <td>0</td>\n",
       "      <td>0</td>\n",
       "      <td>0</td>\n",
       "      <td>0</td>\n",
       "      <td>0</td>\n",
       "      <td>0</td>\n",
       "      <td>0</td>\n",
       "      <td>0</td>\n",
       "      <td>0</td>\n",
       "      <td>-2.281013</td>\n",
       "      <td>-0.208829</td>\n",
       "    </tr>\n",
       "    <tr>\n",
       "      <th>2</th>\n",
       "      <td>0</td>\n",
       "      <td>0</td>\n",
       "      <td>0</td>\n",
       "      <td>0</td>\n",
       "      <td>0</td>\n",
       "      <td>0</td>\n",
       "      <td>0</td>\n",
       "      <td>0</td>\n",
       "      <td>0</td>\n",
       "      <td>0</td>\n",
       "      <td>0</td>\n",
       "      <td>0</td>\n",
       "      <td>0</td>\n",
       "      <td>1</td>\n",
       "      <td>4</td>\n",
       "      <td>1.741324</td>\n",
       "      <td>-0.256961</td>\n",
       "    </tr>\n",
       "  </tbody>\n",
       "</table>\n",
       "</div>"
      ],
      "text/plain": [
       "   park  beauty  cafe  deliver  equip  food  funeral  hospital  manage  \\\n",
       "0     0       0     0        0      0     0        0         0       0   \n",
       "1     0       0     0        0      0     0        0         0       0   \n",
       "2     0       0     0        0      0     0        0         0       0   \n",
       "\n",
       "   medical  pharmacy  play  restaurant  sell  cluster     pca_x     pca_y  \n",
       "0        0         0     0           0     0        0 -2.281013 -0.208829  \n",
       "1        0         0     0           0     0        0 -2.281013 -0.208829  \n",
       "2        0         0     0           0     1        4  1.741324 -0.256961  "
      ]
     },
     "execution_count": 29,
     "metadata": {},
     "output_type": "execute_result"
    }
   ],
   "source": [
    "df_int['pca_x'] = pca_transformed[:,0] #첫번째 값(X 좌표)\n",
    "df_int['pca_y']=pca_transformed[:,1] #첫번째 값(y 좌표)\n",
    "df.head(3)"
   ]
  },
  {
   "cell_type": "code",
   "execution_count": 80,
   "id": "a742ba29",
   "metadata": {
    "scrolled": true
   },
   "outputs": [
    {
     "data": {
      "text/plain": [
       "<matplotlib.collections.PathCollection at 0x18ef7754eb0>"
      ]
     },
     "execution_count": 80,
     "metadata": {},
     "output_type": "execute_result"
    },
    {
     "data": {
      "image/png": "[encoded data removed]",
      "text/plain": [
       "<Figure size 432x288 with 1 Axes>"
      ]
     },
     "metadata": {
      "needs_background": "light"
     },
     "output_type": "display_data"
    }
   ],
   "source": [
    "# 산점도로 표현 : 군집별로 다른 색상으로 표시\n",
    "plt.scatter(x=df_int.loc[:,'pca_x'], y=df_int.loc[:,'pca_y'], c=df_int['cluster'])\n"
   ]
  },
  {
   "cell_type": "code",
   "execution_count": 32,
   "id": "d235f170",
   "metadata": {
    "scrolled": true
   },
   "outputs": [],
   "source": [
    "df.to_csv('200m 군집화 12개 (과적합) 변경해야함(euc-kr).csv',encoding ='euc-kr')"
   ]
  },
  {
   "cell_type": "code",
   "execution_count": null,
   "id": "99a24870",
   "metadata": {},
   "outputs": [],
   "source": [
    "if a[i]==a[i]"
   ]
  },
  {
   "cell_type": "code",
   "execution_count": 87,
   "id": "37846f32",
   "metadata": {
    "scrolled": true
   },
   "outputs": [
    {
     "data": {
      "text/plain": [
       "(37.586076, 127.053402)"
      ]
     },
     "execution_count": 87,
     "metadata": {},
     "output_type": "execute_result"
    }
   ],
   "source": [
    "(a[16],b[16])"
   ]
  },
  {
   "cell_type": "code",
   "execution_count": 88,
   "id": "d4981211",
   "metadata": {},
   "outputs": [
    {
     "data": {
      "text/plain": [
       "(37.585965, 127.053918)"
      ]
     },
     "execution_count": 88,
     "metadata": {},
     "output_type": "execute_result"
    }
   ],
   "source": [
    "(a[104],b[104])"
   ]
  },
  {
   "cell_type": "markdown",
   "id": "42ab7e20",
   "metadata": {},
   "source": [
    "# DBScan"
   ]
  },
  {
   "cell_type": "code",
   "execution_count": 36,
   "id": "2c971b95",
   "metadata": {},
   "outputs": [],
   "source": [
    "import pandas as pd\n",
    "df = pd.DataFrame()\n",
    "\n",
    "df['park'] = counts1\n",
    "df['beauty'] = counts2\n",
    "df['cafe'] = counts3\n",
    "df['deliver'] = counts4\n",
    "df['equip'] = counts5\n",
    "df['food'] = counts6\n",
    "df['funeral'] = counts7\n",
    "df['hospital'] = counts8\n",
    "df['manage'] = counts9\n",
    "df['medical'] = counts10\n",
    "df['pharmacy'] = counts11\n",
    "df['play'] = counts12\n",
    "df['restaurant'] = counts13\n",
    "df['sell'] = counts14\n",
    "df['shelter'] = counts15"
   ]
  },
  {
   "cell_type": "code",
   "execution_count": 54,
   "id": "f2c112ea",
   "metadata": {},
   "outputs": [],
   "source": [
    "from sklearn.cluster import DBSCAN\n",
    "\n",
    "dbscan = DBSCAN(eps=0.8, min_samples =3, metric='euclidean')\n",
    "dbscan_labels = dbscan.fit_predict(df)"
   ]
  },
  {
   "cell_type": "code",
   "execution_count": 55,
   "id": "ce18eebb",
   "metadata": {},
   "outputs": [],
   "source": [
    "df['dbscan_cluster'] = dbscan_labels"
   ]
  },
  {
   "cell_type": "code",
   "execution_count": 56,
   "id": "e18ce456",
   "metadata": {},
   "outputs": [
    {
     "data": {
      "text/html": [
       "<div>\n",
       "<style scoped>\n",
       "    .dataframe tbody tr th:only-of-type {\n",
       "        vertical-align: middle;\n",
       "    }\n",
       "\n",
       "    .dataframe tbody tr th {\n",
       "        vertical-align: top;\n",
       "    }\n",
       "\n",
       "    .dataframe thead th {\n",
       "        text-align: right;\n",
       "    }\n",
       "</style>\n",
       "<table border=\"1\" class=\"dataframe\">\n",
       "  <thead>\n",
       "    <tr style=\"text-align: right;\">\n",
       "      <th></th>\n",
       "      <th>park</th>\n",
       "      <th>beauty</th>\n",
       "      <th>cafe</th>\n",
       "      <th>deliver</th>\n",
       "      <th>equip</th>\n",
       "      <th>food</th>\n",
       "      <th>funeral</th>\n",
       "      <th>hospital</th>\n",
       "      <th>manage</th>\n",
       "      <th>medical</th>\n",
       "      <th>pharmacy</th>\n",
       "      <th>play</th>\n",
       "      <th>restaurant</th>\n",
       "      <th>sell</th>\n",
       "      <th>shelter</th>\n",
       "      <th>dbscan_cluster</th>\n",
       "    </tr>\n",
       "  </thead>\n",
       "  <tbody>\n",
       "    <tr>\n",
       "      <th>0</th>\n",
       "      <td>1</td>\n",
       "      <td>35</td>\n",
       "      <td>2</td>\n",
       "      <td>1</td>\n",
       "      <td>17</td>\n",
       "      <td>11</td>\n",
       "      <td>0</td>\n",
       "      <td>22</td>\n",
       "      <td>10</td>\n",
       "      <td>3</td>\n",
       "      <td>41</td>\n",
       "      <td>0</td>\n",
       "      <td>2</td>\n",
       "      <td>58</td>\n",
       "      <td>0</td>\n",
       "      <td>-1</td>\n",
       "    </tr>\n",
       "    <tr>\n",
       "      <th>1</th>\n",
       "      <td>3</td>\n",
       "      <td>36</td>\n",
       "      <td>1</td>\n",
       "      <td>6</td>\n",
       "      <td>13</td>\n",
       "      <td>6</td>\n",
       "      <td>0</td>\n",
       "      <td>26</td>\n",
       "      <td>13</td>\n",
       "      <td>2</td>\n",
       "      <td>39</td>\n",
       "      <td>0</td>\n",
       "      <td>1</td>\n",
       "      <td>78</td>\n",
       "      <td>0</td>\n",
       "      <td>-1</td>\n",
       "    </tr>\n",
       "    <tr>\n",
       "      <th>2</th>\n",
       "      <td>2</td>\n",
       "      <td>34</td>\n",
       "      <td>2</td>\n",
       "      <td>5</td>\n",
       "      <td>18</td>\n",
       "      <td>7</td>\n",
       "      <td>0</td>\n",
       "      <td>24</td>\n",
       "      <td>10</td>\n",
       "      <td>2</td>\n",
       "      <td>46</td>\n",
       "      <td>0</td>\n",
       "      <td>1</td>\n",
       "      <td>61</td>\n",
       "      <td>0</td>\n",
       "      <td>0</td>\n",
       "    </tr>\n",
       "    <tr>\n",
       "      <th>3</th>\n",
       "      <td>4</td>\n",
       "      <td>30</td>\n",
       "      <td>3</td>\n",
       "      <td>1</td>\n",
       "      <td>12</td>\n",
       "      <td>23</td>\n",
       "      <td>0</td>\n",
       "      <td>18</td>\n",
       "      <td>13</td>\n",
       "      <td>3</td>\n",
       "      <td>35</td>\n",
       "      <td>2</td>\n",
       "      <td>0</td>\n",
       "      <td>54</td>\n",
       "      <td>0</td>\n",
       "      <td>-1</td>\n",
       "    </tr>\n",
       "    <tr>\n",
       "      <th>4</th>\n",
       "      <td>2</td>\n",
       "      <td>35</td>\n",
       "      <td>2</td>\n",
       "      <td>8</td>\n",
       "      <td>20</td>\n",
       "      <td>12</td>\n",
       "      <td>0</td>\n",
       "      <td>25</td>\n",
       "      <td>16</td>\n",
       "      <td>1</td>\n",
       "      <td>41</td>\n",
       "      <td>0</td>\n",
       "      <td>1</td>\n",
       "      <td>83</td>\n",
       "      <td>0</td>\n",
       "      <td>-1</td>\n",
       "    </tr>\n",
       "    <tr>\n",
       "      <th>...</th>\n",
       "      <td>...</td>\n",
       "      <td>...</td>\n",
       "      <td>...</td>\n",
       "      <td>...</td>\n",
       "      <td>...</td>\n",
       "      <td>...</td>\n",
       "      <td>...</td>\n",
       "      <td>...</td>\n",
       "      <td>...</td>\n",
       "      <td>...</td>\n",
       "      <td>...</td>\n",
       "      <td>...</td>\n",
       "      <td>...</td>\n",
       "      <td>...</td>\n",
       "      <td>...</td>\n",
       "      <td>...</td>\n",
       "    </tr>\n",
       "    <tr>\n",
       "      <th>9995</th>\n",
       "      <td>1</td>\n",
       "      <td>29</td>\n",
       "      <td>2</td>\n",
       "      <td>5</td>\n",
       "      <td>21</td>\n",
       "      <td>15</td>\n",
       "      <td>0</td>\n",
       "      <td>20</td>\n",
       "      <td>16</td>\n",
       "      <td>4</td>\n",
       "      <td>44</td>\n",
       "      <td>0</td>\n",
       "      <td>3</td>\n",
       "      <td>65</td>\n",
       "      <td>0</td>\n",
       "      <td>-1</td>\n",
       "    </tr>\n",
       "    <tr>\n",
       "      <th>9996</th>\n",
       "      <td>4</td>\n",
       "      <td>34</td>\n",
       "      <td>3</td>\n",
       "      <td>1</td>\n",
       "      <td>10</td>\n",
       "      <td>22</td>\n",
       "      <td>0</td>\n",
       "      <td>20</td>\n",
       "      <td>15</td>\n",
       "      <td>4</td>\n",
       "      <td>37</td>\n",
       "      <td>2</td>\n",
       "      <td>0</td>\n",
       "      <td>57</td>\n",
       "      <td>0</td>\n",
       "      <td>-1</td>\n",
       "    </tr>\n",
       "    <tr>\n",
       "      <th>9997</th>\n",
       "      <td>1</td>\n",
       "      <td>35</td>\n",
       "      <td>2</td>\n",
       "      <td>3</td>\n",
       "      <td>21</td>\n",
       "      <td>17</td>\n",
       "      <td>0</td>\n",
       "      <td>20</td>\n",
       "      <td>12</td>\n",
       "      <td>5</td>\n",
       "      <td>37</td>\n",
       "      <td>1</td>\n",
       "      <td>1</td>\n",
       "      <td>57</td>\n",
       "      <td>0</td>\n",
       "      <td>-1</td>\n",
       "    </tr>\n",
       "    <tr>\n",
       "      <th>9998</th>\n",
       "      <td>2</td>\n",
       "      <td>36</td>\n",
       "      <td>2</td>\n",
       "      <td>6</td>\n",
       "      <td>17</td>\n",
       "      <td>7</td>\n",
       "      <td>0</td>\n",
       "      <td>26</td>\n",
       "      <td>12</td>\n",
       "      <td>2</td>\n",
       "      <td>49</td>\n",
       "      <td>0</td>\n",
       "      <td>0</td>\n",
       "      <td>66</td>\n",
       "      <td>0</td>\n",
       "      <td>-1</td>\n",
       "    </tr>\n",
       "    <tr>\n",
       "      <th>9999</th>\n",
       "      <td>2</td>\n",
       "      <td>35</td>\n",
       "      <td>3</td>\n",
       "      <td>8</td>\n",
       "      <td>21</td>\n",
       "      <td>12</td>\n",
       "      <td>0</td>\n",
       "      <td>25</td>\n",
       "      <td>16</td>\n",
       "      <td>1</td>\n",
       "      <td>42</td>\n",
       "      <td>0</td>\n",
       "      <td>1</td>\n",
       "      <td>83</td>\n",
       "      <td>0</td>\n",
       "      <td>-1</td>\n",
       "    </tr>\n",
       "  </tbody>\n",
       "</table>\n",
       "<p>10000 rows × 16 columns</p>\n",
       "</div>"
      ],
      "text/plain": [
       "      park  beauty  cafe  deliver  equip  food  funeral  hospital  manage  \\\n",
       "0        1      35     2        1     17    11        0        22      10   \n",
       "1        3      36     1        6     13     6        0        26      13   \n",
       "2        2      34     2        5     18     7        0        24      10   \n",
       "3        4      30     3        1     12    23        0        18      13   \n",
       "4        2      35     2        8     20    12        0        25      16   \n",
       "...    ...     ...   ...      ...    ...   ...      ...       ...     ...   \n",
       "9995     1      29     2        5     21    15        0        20      16   \n",
       "9996     4      34     3        1     10    22        0        20      15   \n",
       "9997     1      35     2        3     21    17        0        20      12   \n",
       "9998     2      36     2        6     17     7        0        26      12   \n",
       "9999     2      35     3        8     21    12        0        25      16   \n",
       "\n",
       "      medical  pharmacy  play  restaurant  sell  shelter  dbscan_cluster  \n",
       "0           3        41     0           2    58        0              -1  \n",
       "1           2        39     0           1    78        0              -1  \n",
       "2           2        46     0           1    61        0               0  \n",
       "3           3        35     2           0    54        0              -1  \n",
       "4           1        41     0           1    83        0              -1  \n",
       "...       ...       ...   ...         ...   ...      ...             ...  \n",
       "9995        4        44     0           3    65        0              -1  \n",
       "9996        4        37     2           0    57        0              -1  \n",
       "9997        5        37     1           1    57        0              -1  \n",
       "9998        2        49     0           0    66        0              -1  \n",
       "9999        1        42     0           1    83        0              -1  \n",
       "\n",
       "[10000 rows x 16 columns]"
      ]
     },
     "execution_count": 56,
     "metadata": {},
     "output_type": "execute_result"
    }
   ],
   "source": [
    "df"
   ]
  },
  {
   "cell_type": "code",
   "execution_count": 57,
   "id": "5f894aa2",
   "metadata": {
    "scrolled": true
   },
   "outputs": [
    {
     "data": {
      "text/plain": [
       "-1      7721\n",
       " 170      11\n",
       " 353      11\n",
       " 212      10\n",
       " 27       10\n",
       "        ... \n",
       " 275       3\n",
       " 259       3\n",
       " 251       3\n",
       " 227       3\n",
       " 591       3\n",
       "Name: dbscan_cluster, Length: 594, dtype: int64"
      ]
     },
     "execution_count": 57,
     "metadata": {},
     "output_type": "execute_result"
    }
   ],
   "source": [
    "df['dbscan_cluster'].value_counts()"
   ]
  },
  {
   "cell_type": "code",
   "execution_count": null,
   "id": "5de03004",
   "metadata": {},
   "outputs": [],
   "source": []
  }
 ],
 "metadata": {
  "kernelspec": {
   "display_name": "Python 3",
   "language": "python",
   "name": "python3"
  },
  "language_info": {
   "codemirror_mode": {
    "name": "ipython",
    "version": 3
   },
   "file_extension": ".py",
   "mimetype": "text/x-python",
   "name": "python",
   "nbconvert_exporter": "python",
   "pygments_lexer": "ipython3",
   "version": "3.8.8"
  }
 },
 "nbformat": 4,
 "nbformat_minor": 5
}
