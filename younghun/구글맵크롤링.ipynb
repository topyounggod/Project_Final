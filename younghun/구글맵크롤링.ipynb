{
 "cells": [
  {
   "cell_type": "code",
   "execution_count": 1,
   "id": "cc90fe56",
   "metadata": {},
   "outputs": [
    {
     "name": "stdout",
     "output_type": "stream",
     "text": [
      "1번 인덱스에서 강남의 위치를 찾고있습니다\n",
      "2번 인덱스에서 황상동의 위치를 찾고있습니다\n",
      "3번 인덱스에서 해운대해수욕장의 위치를 찾고있습니다\n",
      "                위도          경도\n",
      "강남       37.517236  127.047325\n",
      "황상동      36.114955  128.440733\n",
      "해운대해수욕장  35.158698  129.160384\n"
     ]
    }
   ],
   "source": [
    "import googlemaps\n",
    "import pandas as pd\n",
    "\n",
    "my_key = \"\"\n",
    "maps = googlemaps.Client(key=my_key)  # my key값 입력\n",
    "lat = []  #위도\n",
    "lng = []  #경도\n",
    "\n",
    "# 위치를 찾을 장소나 주소를 넣어준다.\n",
    "places = [\"강남\", \"황상동\", \"해운대해수욕장\"]\n",
    "\n",
    "i=0\n",
    "for place in places:   \n",
    "    i = i + 1\n",
    "    try:\n",
    "        print(\"%d번 인덱스에서 %s의 위치를 찾고있습니다\"%(i, place))\n",
    "        geo_location = maps.geocode(place)[0].get('geometry')\n",
    "        lat.append(geo_location['location']['lat'])\n",
    "        lng.append(geo_location['location']['lng'])\n",
    "        \n",
    "\n",
    "    except:\n",
    "        lat.append('')\n",
    "        lng.append('')\n",
    "        print(\"%d번 인덱스 위치를 찾는데 실패했습니다.\"%(i))\n",
    "\n",
    "\n",
    "# 데이터프레임만들어 출력하기\n",
    "df = pd.DataFrame({'위도':lat, '경도':lng}, index=places)\n",
    "print(df)\n"
   ]
  }
 ],
 "metadata": {
  "kernelspec": {
   "display_name": "Python 3",
   "language": "python",
   "name": "python3"
  },
  "language_info": {
   "codemirror_mode": {
    "name": "ipython",
    "version": 3
   },
   "file_extension": ".py",
   "mimetype": "text/x-python",
   "name": "python",
   "nbconvert_exporter": "python",
   "pygments_lexer": "ipython3",
   "version": "3.8.8"
  }
 },
 "nbformat": 4,
 "nbformat_minor": 5
}
