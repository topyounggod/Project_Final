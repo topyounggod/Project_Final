{
 "cells": [
  {
   "cell_type": "code",
   "execution_count": null,
   "id": "435a1ddc",
   "metadata": {},
   "outputs": [],
   "source": [
    "import pandas as pd\n",
    "import numpy as np\n"
   ]
  },
  {
   "cell_type": "code",
   "execution_count": null,
   "id": "3d16adc7",
   "metadata": {},
   "outputs": [],
   "source": [
    "df = pd.read_csv('./동물병원위도경도(UTF-8)정상.csv')"
   ]
  },
  {
   "cell_type": "code",
   "execution_count": null,
   "id": "e9fc6c5c",
   "metadata": {},
   "outputs": [],
   "source": [
    "df"
   ]
  },
  {
   "cell_type": "code",
   "execution_count": null,
   "id": "5ead72c7",
   "metadata": {},
   "outputs": [],
   "source": [
    "df.to_json('동물병원.json')"
   ]
  },
  {
   "cell_type": "code",
   "execution_count": null,
   "id": "a040fa28",
   "metadata": {
    "scrolled": true
   },
   "outputs": [],
   "source": [
    "coordinate_df = df[['위도','경도']].dropna()\n",
    "coordinate_df"
   ]
  },
  {
   "cell_type": "code",
   "execution_count": null,
   "id": "5a49ffa8",
   "metadata": {},
   "outputs": [],
   "source": [
    "coordinate_df"
   ]
  },
  {
   "cell_type": "code",
   "execution_count": null,
   "id": "a1a9f128",
   "metadata": {},
   "outputs": [],
   "source": [
    "lan = df[['위도']].to_numpy"
   ]
  },
  {
   "cell_type": "code",
   "execution_count": null,
   "id": "a0954549",
   "metadata": {},
   "outputs": [],
   "source": [
    "lng = df[['경도']].to_numpy"
   ]
  },
  {
   "cell_type": "code",
   "execution_count": null,
   "id": "59239231",
   "metadata": {},
   "outputs": [],
   "source": [
    "name = df['사업장명'].dropna()"
   ]
  },
  {
   "cell_type": "code",
   "execution_count": null,
   "id": "c0747d99",
   "metadata": {},
   "outputs": [],
   "source": [
    "coordinate = coordinate_df.to_numpy"
   ]
  },
  {
   "cell_type": "code",
   "execution_count": null,
   "id": "f1e592dd",
   "metadata": {
    "scrolled": true
   },
   "outputs": [],
   "source": [
    "coordinate\n"
   ]
  },
  {
   "cell_type": "code",
   "execution_count": null,
   "id": "09f183ff",
   "metadata": {},
   "outputs": [],
   "source": [
    "data = {'Name':df['사업장명'],\n",
    "       'coordinate': coordinate}"
   ]
  },
  {
   "cell_type": "code",
   "execution_count": null,
   "id": "b9279a99",
   "metadata": {},
   "outputs": [],
   "source": [
    "pd.DataFrame(data)"
   ]
  },
  {
   "cell_type": "code",
   "execution_count": null,
   "id": "6ba1c3b1",
   "metadata": {},
   "outputs": [],
   "source": [
    "from geojson import Point\n",
    "import json\n",
    "from geojson import Point, Feature, FeatureCollection, dump\n",
    "# to string \n",
    "# 만일 없으면 "
   ]
  },
  {
   "cell_type": "code",
   "execution_count": null,
   "id": "4f987599",
   "metadata": {
    "scrolled": false
   },
   "outputs": [],
   "source": [
    "a = {}\n",
    "features = []\n",
    "for i in range(0,len(coordinate_df)): \n",
    "    #print(coordinate_df.loc[i])\n",
    "    #print(coordinate_df.loc[i]['위도'])\n",
    "    #print(coordinate_df.loc[i]['경도'])\n",
    "    point = Point((coordinate_df.loc[i]['위도'],coordinate_df.loc[i]['경도']))\n",
    "    features.append(Feature(geometry=point, properties={\"name\": name[i],\"type\":\"animal_hospital\"}))\n",
    "\n",
    "with open('your_file.txt', 'w') as f:\n",
    "    for item in features:\n",
    "        f.write(\"%s\\n\" % item)\n"
   ]
  },
  {
   "cell_type": "code",
   "execution_count": null,
   "id": "58ce95ec",
   "metadata": {},
   "outputs": [],
   "source": [
    "import numpy as np\n",
    "\n",
    "coords = np.random.rand(10000, 2) * 2"
   ]
  },
  {
   "cell_type": "code",
   "execution_count": null,
   "id": "7711de32",
   "metadata": {},
   "outputs": [],
   "source": [
    "import random\n",
    " \n",
    "\n",
    "\n",
    "def Rand(start, end, num):\n",
    "    res = []\n",
    "    for j in range(num):\n",
    "        res = np.random.rand(start,end)\n",
    "    return res\n",
    " \n",
    "\n",
    "import numpy as np\n",
    "\n",
    "a = np.random.randint(37584980, 37612181, size=50) / 1000000\n",
    "b = np.random.randint(127031133,127058599,size = 50) / 1000000"
   ]
  },
  {
   "cell_type": "code",
   "execution_count": null,
   "id": "eb8c9e3f",
   "metadata": {},
   "outputs": [],
   "source": [
    "a"
   ]
  },
  {
   "cell_type": "code",
   "execution_count": null,
   "id": "c6d87a4c",
   "metadata": {},
   "outputs": [],
   "source": [
    "b"
   ]
  },
  {
   "cell_type": "code",
   "execution_count": 2,
   "id": "6907e092",
   "metadata": {},
   "outputs": [],
   "source": [
    "import numpy as np\n",
    "from geojson import Point, Feature, FeatureCollection, dump\n",
    "a = np.random.randint(37584980, 37612181, size=50) / 1000000\n",
    "b = np.random.randint(127031133,127058599,size = 50) / 1000000\n",
    "features = []\n",
    "for i in range(0,len(a)): \n",
    "    #print(coordinate_df.loc[i])\n",
    "    #print(coordinate_df.loc[i]['위도'])\n",
    "    #print(coordinate_df.loc[i]['경도'])\n",
    "    point = Point((b[i],a[i]))\n",
    "    features.append(Feature(geometry=point))\n",
    "\n",
    "with open('random_point.txt', 'w') as f:\n",
    "    for item in features:\n",
    "        f.write(\"%s\\n\" % item)"
   ]
  },
  {
   "cell_type": "code",
   "execution_count": null,
   "id": "206be488",
   "metadata": {},
   "outputs": [],
   "source": []
  }
 ],
 "metadata": {
  "kernelspec": {
   "display_name": "Python 3",
   "language": "python",
   "name": "python3"
  },
  "language_info": {
   "codemirror_mode": {
    "name": "ipython",
    "version": 3
   },
   "file_extension": ".py",
   "mimetype": "text/x-python",
   "name": "python",
   "nbconvert_exporter": "python",
   "pygments_lexer": "ipython3",
   "version": "3.8.8"
  }
 },
 "nbformat": 4,
 "nbformat_minor": 5
}
