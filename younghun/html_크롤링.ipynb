{
 "cells": [
  {
   "cell_type": "code",
   "execution_count": 1,
   "id": "79725349",
   "metadata": {},
   "outputs": [],
   "source": [
    "from urllib.request import urlopen\n",
    "from bs4 import BeautifulSoup\n",
    "import requests\n",
    "import pandas as pd\n",
    "import re"
   ]
  },
  {
   "cell_type": "code",
   "execution_count": 2,
   "id": "2733a7bf",
   "metadata": {},
   "outputs": [],
   "source": [
    "url = 'http://ohj.kr/shop/shopbrand.html'"
   ]
  },
  {
   "cell_type": "code",
   "execution_count": 3,
   "id": "eb06a901",
   "metadata": {
    "scrolled": true
   },
   "outputs": [],
   "source": [
    "# html = urlopen(url).read()\n",
    "# soup = BeautifulSoup(html, \"html.parser\")\n",
    "# print(soup)"
   ]
  },
  {
   "cell_type": "code",
   "execution_count": 4,
   "id": "6966745e",
   "metadata": {},
   "outputs": [],
   "source": [
    "# result = soup.find_all(class_='input')\n"
   ]
  },
  {
   "cell_type": "code",
   "execution_count": 5,
   "id": "15a21fd6",
   "metadata": {},
   "outputs": [],
   "source": [
    "url = 'http://ohj.kr/shop/shopbrand.html'"
   ]
  },
  {
   "cell_type": "code",
   "execution_count": 6,
   "id": "0aabc390",
   "metadata": {},
   "outputs": [],
   "source": [
    "from selenium import webdriver\n",
    "from selenium.webdriver.common.by import By\n",
    "from selenium.webdriver.common.keys import Keys"
   ]
  },
  {
   "cell_type": "code",
   "execution_count": 7,
   "id": "d6f486b6",
   "metadata": {},
   "outputs": [],
   "source": [
    "driver = webdriver.Chrome(executable_path = \"D:/OneDrive/DataScience/driver/chromedriver.exe\" )\n",
    "driver.get(url)"
   ]
  },
  {
   "cell_type": "code",
   "execution_count": 18,
   "id": "f7841de4",
   "metadata": {
    "scrolled": true
   },
   "outputs": [
    {
     "name": "stdout",
     "output_type": "stream",
     "text": [
      "크롤링할 키워드는 뭐에요?: hp1239\n",
      "그랜저HG 하드론 브레이크패드 (뒤)(HP1239) 58302-3QA10 583023QA10 -상신하드론-\n",
      "티볼리 하드론 브레이크패드(뒤)(HP1239)(48413350A0)  -상신하드론-\n",
      "아반떼HD 하드론 브레이크패드(뒤)(HP1239) 58302-2HA50 583022HA50 -상신하드론-\n",
      "그랜저TG 하드론 브레이크패드(뒤)(HP1239) 58302-3KA62 583023KA62 -상신하드론-\n",
      "코란도C 하드론 브레이크패드(뒤)(HP1239)  48413340A0  -상신하드론-\n",
      "K5 하드론 브레이크패드(뒤)(HP1239) 58302-2TA40 583022TA40 -상신하드론-\n",
      "쏘울 하드론 브레이크패드(뒤) (HP1239) 58302-2KA00 583022KA00 -상신하드론-\n",
      "뉴오피러스 하드론 브레이크패드(뒤)(HP1239) 58302-3FA01 583023FA01 -상신하드론-\n",
      "NF쏘나타 하드론 브레이크패드(뒤) (HP1239) 58302-3KA62 583023KA62 -상신하드론-\n"
     ]
    }
   ],
   "source": [
    "txt_search = input('크롤링할 키워드는 뭐에요?: ')\n",
    "search_box = driver.find_element(By.CLASS_NAME,\"MS_search_word\")\n",
    "search_box.send_keys(txt_search)\n",
    "search_box.send_keys(\"\\n\") # 엔터효과\n",
    "html = driver.page_source\n",
    "soup = BeautifulSoup(html, 'html.parser')\n",
    "prd_names = soup.findAll('div',{'class':'goodslistliname'})\n",
    "prd_prices = soup.findAll('div',{'class':'goodslistliprice'})\n",
    "df = pd.DataFrame(columns=['상품명','상품가격'])\n",
    "\n",
    "for i in range (0,len(prd_names)) : \n",
    "    prd_name = prd_names[i].text.strip() # strip 왼쪽 오른쪽 공백제거\n",
    "    prd_price = prd_prices[i].text.strip()\n",
    "    print(prd_name)\n",
    "    df = df.append(pd.Series([prd_name,prd_price], index=df.columns), ignore_index=True)\n",
    "\n"
   ]
  },
  {
   "cell_type": "code",
   "execution_count": 19,
   "id": "29234a8c",
   "metadata": {},
   "outputs": [
    {
     "data": {
      "text/html": [
       "<div>\n",
       "<style scoped>\n",
       "    .dataframe tbody tr th:only-of-type {\n",
       "        vertical-align: middle;\n",
       "    }\n",
       "\n",
       "    .dataframe tbody tr th {\n",
       "        vertical-align: top;\n",
       "    }\n",
       "\n",
       "    .dataframe thead th {\n",
       "        text-align: right;\n",
       "    }\n",
       "</style>\n",
       "<table border=\"1\" class=\"dataframe\">\n",
       "  <thead>\n",
       "    <tr style=\"text-align: right;\">\n",
       "      <th></th>\n",
       "      <th>상품명</th>\n",
       "      <th>상품가격</th>\n",
       "    </tr>\n",
       "  </thead>\n",
       "  <tbody>\n",
       "    <tr>\n",
       "      <th>0</th>\n",
       "      <td>그랜저HG 하드론 브레이크패드 (뒤)(HP1239) 58302-3QA10 58302...</td>\n",
       "      <td>25,200원</td>\n",
       "    </tr>\n",
       "    <tr>\n",
       "      <th>1</th>\n",
       "      <td>티볼리 하드론 브레이크패드(뒤)(HP1239)(48413350A0)  -상신하드론-</td>\n",
       "      <td>25,200원</td>\n",
       "    </tr>\n",
       "    <tr>\n",
       "      <th>2</th>\n",
       "      <td>아반떼HD 하드론 브레이크패드(뒤)(HP1239) 58302-2HA50 583022...</td>\n",
       "      <td>25,200원</td>\n",
       "    </tr>\n",
       "    <tr>\n",
       "      <th>3</th>\n",
       "      <td>그랜저TG 하드론 브레이크패드(뒤)(HP1239) 58302-3KA62 583023...</td>\n",
       "      <td>25,200원</td>\n",
       "    </tr>\n",
       "    <tr>\n",
       "      <th>4</th>\n",
       "      <td>코란도C 하드론 브레이크패드(뒤)(HP1239)  48413340A0  -상신하드론-</td>\n",
       "      <td>25,200원</td>\n",
       "    </tr>\n",
       "    <tr>\n",
       "      <th>5</th>\n",
       "      <td>K5 하드론 브레이크패드(뒤)(HP1239) 58302-2TA40 583022TA4...</td>\n",
       "      <td>25,200원</td>\n",
       "    </tr>\n",
       "    <tr>\n",
       "      <th>6</th>\n",
       "      <td>쏘울 하드론 브레이크패드(뒤) (HP1239) 58302-2KA00 583022KA...</td>\n",
       "      <td>25,200원</td>\n",
       "    </tr>\n",
       "    <tr>\n",
       "      <th>7</th>\n",
       "      <td>뉴오피러스 하드론 브레이크패드(뒤)(HP1239) 58302-3FA01 583023...</td>\n",
       "      <td>25,200원</td>\n",
       "    </tr>\n",
       "    <tr>\n",
       "      <th>8</th>\n",
       "      <td>NF쏘나타 하드론 브레이크패드(뒤) (HP1239) 58302-3KA62 58302...</td>\n",
       "      <td>25,200원</td>\n",
       "    </tr>\n",
       "  </tbody>\n",
       "</table>\n",
       "</div>"
      ],
      "text/plain": [
       "                                                 상품명     상품가격\n",
       "0  그랜저HG 하드론 브레이크패드 (뒤)(HP1239) 58302-3QA10 58302...  25,200원\n",
       "1     티볼리 하드론 브레이크패드(뒤)(HP1239)(48413350A0)  -상신하드론-  25,200원\n",
       "2  아반떼HD 하드론 브레이크패드(뒤)(HP1239) 58302-2HA50 583022...  25,200원\n",
       "3  그랜저TG 하드론 브레이크패드(뒤)(HP1239) 58302-3KA62 583023...  25,200원\n",
       "4    코란도C 하드론 브레이크패드(뒤)(HP1239)  48413340A0  -상신하드론-  25,200원\n",
       "5  K5 하드론 브레이크패드(뒤)(HP1239) 58302-2TA40 583022TA4...  25,200원\n",
       "6  쏘울 하드론 브레이크패드(뒤) (HP1239) 58302-2KA00 583022KA...  25,200원\n",
       "7  뉴오피러스 하드론 브레이크패드(뒤)(HP1239) 58302-3FA01 583023...  25,200원\n",
       "8  NF쏘나타 하드론 브레이크패드(뒤) (HP1239) 58302-3KA62 58302...  25,200원"
      ]
     },
     "execution_count": 19,
     "metadata": {},
     "output_type": "execute_result"
    }
   ],
   "source": [
    "df"
   ]
  },
  {
   "cell_type": "code",
   "execution_count": null,
   "id": "ca3010bc",
   "metadata": {},
   "outputs": [],
   "source": []
  }
 ],
 "metadata": {
  "kernelspec": {
   "display_name": "Python 3",
   "language": "python",
   "name": "python3"
  },
  "language_info": {
   "codemirror_mode": {
    "name": "ipython",
    "version": 3
   },
   "file_extension": ".py",
   "mimetype": "text/x-python",
   "name": "python",
   "nbconvert_exporter": "python",
   "pygments_lexer": "ipython3",
   "version": "3.8.8"
  }
 },
 "nbformat": 4,
 "nbformat_minor": 5
}
