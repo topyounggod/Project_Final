{
 "cells": [
  {
   "cell_type": "code",
   "execution_count": 1,
   "id": "79725349",
   "metadata": {},
   "outputs": [],
   "source": [
    "from urllib.request import urlopen\n",
    "from bs4 import BeautifulSoup\n",
    "import requests\n",
    "import pandas as pd\n",
    "import re"
   ]
  },
  {
   "cell_type": "code",
   "execution_count": 2,
   "id": "2733a7bf",
   "metadata": {},
   "outputs": [],
   "source": [
    "url = 'http://ohj.kr/shop/shopbrand.html'"
   ]
  },
  {
   "cell_type": "code",
   "execution_count": 3,
   "id": "eb06a901",
   "metadata": {
    "scrolled": true
   },
   "outputs": [],
   "source": [
    "# html = urlopen(url).read()\n",
    "# soup = BeautifulSoup(html, \"html.parser\")\n",
    "# print(soup)"
   ]
  },
  {
   "cell_type": "code",
   "execution_count": 4,
   "id": "6966745e",
   "metadata": {},
   "outputs": [],
   "source": [
    "# result = soup.find_all(class_='input')\n"
   ]
  },
  {
   "cell_type": "code",
   "execution_count": 5,
   "id": "15a21fd6",
   "metadata": {},
   "outputs": [],
   "source": [
    "url = 'http://ohj.kr/shop/shopbrand.html'"
   ]
  },
  {
   "cell_type": "code",
   "execution_count": 6,
   "id": "0aabc390",
   "metadata": {},
   "outputs": [],
   "source": [
    "from selenium import webdriver\n",
    "from selenium.webdriver.common.by import By\n",
    "from selenium.webdriver.common.keys import Keys"
   ]
  },
  {
   "cell_type": "code",
   "execution_count": 7,
   "id": "d6f486b6",
   "metadata": {},
   "outputs": [],
   "source": [
    "driver = webdriver.Chrome(executable_path = \"D:/OneDrive/DataScience/driver/chromedriver.exe\" )\n",
    "driver.get(url)"
   ]
  },
  {
   "cell_type": "code",
   "execution_count": 37,
   "id": "f7841de4",
   "metadata": {},
   "outputs": [
    {
     "name": "stdout",
     "output_type": "stream",
     "text": [
      "크롤링할 키워드는 뭐에요?: sp1239\n",
      "K5 하드론 브레이크 패드(뒤) 583022TA40 택시용 SP1239 -상신하드론-\n",
      "NF쏘나타 하드론 브레이크 패드(뒤) 583023KA62 택시용 SP1239 -상신하드론-\n",
      "YF쏘나타 하드론 브레이크 패드(뒤) 583023QA10 택시용 SP1239 -상신하드론-\n",
      "그랜저TG 하드론 브레이크 패드(뒤) 583023KA62 택시용 SP1239 -상신하드론-\n",
      "그랜저HG 하드론 브레이크 패드(뒤) 583023QA10 택시용 SP1239 -상신하드론-\n",
      "티볼리 상신 브레이크패드 (뒤)(SP1239) 48413350A0  -SB상신-\n",
      "아반떼HD 상신 브레이크패드 (뒤)(SP1239) 58302-2HA50 583022HA50 -SB상신-\n",
      "YF쏘나타 상신 브레이크패드 (뒤) (SP1239) 58302-3QA10 583023QA10 -SB상신-\n",
      "코란도C 상신 브레이크패드(뒤) (SP1239) 48413340A0  -SB상신-\n",
      "그랜저TG 상신 브레이크패드 (뒤)(SP1239) 58302-3KA62 583023KA62 -SB상신-\n",
      "그랜저HG 상신 브레이크패드 (뒤) (SP1239) 58302-3QA10 583023QA10 -SB상신-\n",
      "K5 상신 브레이크패드 (뒤)(SP1239) 583022TA40 583022TA40 -SB상신-\n",
      "쏘울 상신 브레이크패드 (뒤)(SP1239) 583022KA00 583022KA00 -SB상신-\n",
      "오피러스 상신 브레이크패드 (뒤)(SP1239) 583023FA01 583023FA01 -SB상신-\n",
      "NF쏘나타 상신 브레이크패드 (뒤) (SP1239) 583023KA62 583023KA62 -SB상신-\n"
     ]
    }
   ],
   "source": [
    "txt_search = input('크롤링할 키워드는 뭐에요?: ')\n",
    "search_box = driver.find_element(By.CLASS_NAME,\"MS_search_word\")\n",
    "search_box.send_keys(txt_search)\n",
    "search_box.send_keys(\"\\n\") # 엔터효과\n",
    "html = driver.page_source\n",
    "soup = BeautifulSoup(html, 'html.parser')\n",
    "prd_names = soup.findAll('div',{'class':'goodslistliname'})\n",
    "for i in range (0,len(prd_names)) : \n",
    "    prd_name = prd_names[i].text.strip()\n",
    "    print(prd_name)\n",
    "\n"
   ]
  },
  {
   "cell_type": "code",
   "execution_count": null,
   "id": "29234a8c",
   "metadata": {},
   "outputs": [],
   "source": []
  }
 ],
 "metadata": {
  "kernelspec": {
   "display_name": "Python 3",
   "language": "python",
   "name": "python3"
  },
  "language_info": {
   "codemirror_mode": {
    "name": "ipython",
    "version": 3
   },
   "file_extension": ".py",
   "mimetype": "text/x-python",
   "name": "python",
   "nbconvert_exporter": "python",
   "pygments_lexer": "ipython3",
   "version": "3.8.8"
  }
 },
 "nbformat": 4,
 "nbformat_minor": 5
}
