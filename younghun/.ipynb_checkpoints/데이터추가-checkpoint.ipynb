{
 "cells": [
  {
   "cell_type": "code",
   "execution_count": 7,
   "id": "ec5ee0d0",
   "metadata": {},
   "outputs": [],
   "source": [
    "from pymongo import MongoClient\n",
    "import pymongo\n",
    "import pandas as pd0\n",
    "import numpy as np\n",
    "from pymongo import GEOSPHERE\n",
    "import json"
   ]
  },
  {
   "cell_type": "code",
   "execution_count": 8,
   "id": "7a1a0d73",
   "metadata": {},
   "outputs": [],
   "source": [
    "client = MongoClient(\"mongodb://localhost:27017/\")"
   ]
  },
  {
   "cell_type": "code",
   "execution_count": 9,
   "id": "97eef047",
   "metadata": {},
   "outputs": [],
   "source": [
    "db1 = client['practic19'] # 안에 database명은 변경해도 상관없습니다 (겹치지만 않게 해주세요)"
   ]
  },
  {
   "cell_type": "code",
   "execution_count": 10,
   "id": "8be9ed32",
   "metadata": {},
   "outputs": [],
   "source": [
    "collections = ['shelter',\n",
    " 'equip',\n",
    " 'hospital',\n",
    " 'park',\n",
    " 'medical_equip',\n",
    " 'deliver',\n",
    " 'funeral',\n",
    " 'cafe',\n",
    " 'manage',\n",
    " 'beauty',\n",
    " 'sell',\n",
    " 'food',\n",
    " 'pharmacy',\n",
    " 'restaurant',\n",
    " 'play']"
   ]
  },
  {
   "cell_type": "code",
   "execution_count": 11,
   "id": "57ecdda3",
   "metadata": {},
   "outputs": [],
   "source": [
    "for i in collections:\n",
    "    db1.create_collection(i)"
   ]
  },
  {
   "cell_type": "code",
   "execution_count": null,
   "id": "f760c37c",
   "metadata": {},
   "outputs": [],
   "source": [
    "for collection in collections:\n",
    "    # json 파일들 path는 우리 깃 Data폴더안에 있는 json 경로로 변경해주시면 됩니다\n",
    "    with open('D:/OneDrive/DataScience/프로젝트(파이널)/Data/json/'+collection+'.json') as f:\n",
    "        json_data = []\n",
    "        for line in  f.readlines():\n",
    "            a = line.replace('\\n','')\n",
    "            json_data.append(json.loads(a))\n",
    "        collection_db = db1[collection]\n",
    "        collection_db.insert_many(json_data)\n",
    "        collection_db.create_index([('geometry',GEOSPHERE)])"
   ]
  }
 ],
 "metadata": {
  "kernelspec": {
   "display_name": "Python 3",
   "language": "python",
   "name": "python3"
  },
  "language_info": {
   "codemirror_mode": {
    "name": "ipython",
    "version": 3
   },
   "file_extension": ".py",
   "mimetype": "text/x-python",
   "name": "python",
   "nbconvert_exporter": "python",
   "pygments_lexer": "ipython3",
   "version": "3.8.8"
  }
 },
 "nbformat": 4,
 "nbformat_minor": 5
}
