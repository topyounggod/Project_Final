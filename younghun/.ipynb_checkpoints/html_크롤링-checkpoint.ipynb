{
 "cells": [
  {
   "cell_type": "code",
   "execution_count": 1,
   "id": "79725349",
   "metadata": {},
   "outputs": [],
   "source": [
    "from urllib.request import urlopen\n",
    "from bs4 import BeautifulSoup\n",
    "import requests\n",
    "import pandas as pd\n",
    "import re"
   ]
  },
  {
   "cell_type": "code",
   "execution_count": 2,
   "id": "2733a7bf",
   "metadata": {},
   "outputs": [],
   "source": [
    "url = 'http://ohj.kr/shop/shopbrand.html'"
   ]
  },
  {
   "cell_type": "code",
   "execution_count": 3,
   "id": "eb06a901",
   "metadata": {
    "scrolled": true
   },
   "outputs": [],
   "source": [
    "# html = urlopen(url).read()\n",
    "# soup = BeautifulSoup(html, \"html.parser\")\n",
    "# print(soup)"
   ]
  },
  {
   "cell_type": "code",
   "execution_count": 4,
   "id": "6966745e",
   "metadata": {},
   "outputs": [],
   "source": [
    "# result = soup.find_all(class_='input')\n"
   ]
  },
  {
   "cell_type": "code",
   "execution_count": 5,
   "id": "15a21fd6",
   "metadata": {},
   "outputs": [],
   "source": [
    "url = 'http://ohj.kr/shop/shopbrand.html'"
   ]
  },
  {
   "cell_type": "code",
   "execution_count": 6,
   "id": "0aabc390",
   "metadata": {},
   "outputs": [],
   "source": [
    "from selenium import webdriver\n",
    "from selenium.webdriver.common.by import By\n",
    "from selenium.webdriver.common.keys import Keys"
   ]
  },
  {
   "cell_type": "code",
   "execution_count": 7,
   "id": "d6f486b6",
   "metadata": {},
   "outputs": [],
   "source": [
    "driver = webdriver.Chrome(executable_path = \"D:/OneDrive/DataScience/driver/chromedriver.exe\" )\n",
    "driver.get(url)"
   ]
  },
  {
   "cell_type": "code",
   "execution_count": 8,
   "id": "f7841de4",
   "metadata": {},
   "outputs": [
    {
     "name": "stdout",
     "output_type": "stream",
     "text": [
      "크롤링할 키워드는 뭐에요?: hp1239\n"
     ]
    }
   ],
   "source": [
    "txt_search = input('크롤링할 키워드는 뭐에요?: ')"
   ]
  },
  {
   "cell_type": "code",
   "execution_count": 9,
   "id": "79a06f67",
   "metadata": {},
   "outputs": [],
   "source": [
    "search_box = driver.find_element(By.CLASS_NAME,\"MS_search_word\")"
   ]
  },
  {
   "cell_type": "code",
   "execution_count": 10,
   "id": "ba0e1924",
   "metadata": {},
   "outputs": [],
   "source": [
    "search_box.send_keys(txt_search)\n",
    "search_box.send_keys(\"\\n\") # 엔터효과"
   ]
  },
  {
   "cell_type": "code",
   "execution_count": 11,
   "id": "e0782398",
   "metadata": {},
   "outputs": [],
   "source": [
    "html = driver.page_source\n",
    "soup = BeautifulSoup(html, 'html.parser')"
   ]
  },
  {
   "cell_type": "code",
   "execution_count": 32,
   "id": "51af042b",
   "metadata": {},
   "outputs": [
    {
     "data": {
      "text/html": [
       "<div>\n",
       "<style scoped>\n",
       "    .dataframe tbody tr th:only-of-type {\n",
       "        vertical-align: middle;\n",
       "    }\n",
       "\n",
       "    .dataframe tbody tr th {\n",
       "        vertical-align: top;\n",
       "    }\n",
       "\n",
       "    .dataframe thead th {\n",
       "        text-align: right;\n",
       "    }\n",
       "</style>\n",
       "<table border=\"1\" class=\"dataframe\">\n",
       "  <thead>\n",
       "    <tr style=\"text-align: right;\">\n",
       "      <th></th>\n",
       "      <th>상품명</th>\n",
       "      <th>상품가격</th>\n",
       "    </tr>\n",
       "  </thead>\n",
       "  <tbody>\n",
       "  </tbody>\n",
       "</table>\n",
       "</div>"
      ],
      "text/plain": [
       "Empty DataFrame\n",
       "Columns: [상품명, 상품가격]\n",
       "Index: []"
      ]
     },
     "execution_count": 32,
     "metadata": {},
     "output_type": "execute_result"
    }
   ],
   "source": [
    "df = pd.DataFrame(columns = ['상품명','상품가격']) # 빈데이터 프레임 생성\n",
    "df"
   ]
  },
  {
   "cell_type": "code",
   "execution_count": 13,
   "id": "4d58ba2f",
   "metadata": {},
   "outputs": [
    {
     "name": "stdout",
     "output_type": "stream",
     "text": [
      "9\n"
     ]
    }
   ],
   "source": [
    "prd_names = soup.find_all('div',{'class':'goodslistliname'})\n",
    "prd_prices = soup.find_all('div',{'class':'goodslistliprice'})\n"
   ]
  },
  {
   "cell_type": "code",
   "execution_count": 44,
   "id": "6161fe7a",
   "metadata": {},
   "outputs": [
    {
     "data": {
      "text/html": [
       "<div>\n",
       "<style scoped>\n",
       "    .dataframe tbody tr th:only-of-type {\n",
       "        vertical-align: middle;\n",
       "    }\n",
       "\n",
       "    .dataframe tbody tr th {\n",
       "        vertical-align: top;\n",
       "    }\n",
       "\n",
       "    .dataframe thead th {\n",
       "        text-align: right;\n",
       "    }\n",
       "</style>\n",
       "<table border=\"1\" class=\"dataframe\">\n",
       "  <thead>\n",
       "    <tr style=\"text-align: right;\">\n",
       "      <th></th>\n",
       "      <th>상품명</th>\n",
       "      <th>상품가격</th>\n",
       "    </tr>\n",
       "  </thead>\n",
       "  <tbody>\n",
       "    <tr>\n",
       "      <th>0</th>\n",
       "      <td>NF쏘나타 하드론 브레이크패드(뒤) (HP1239) 58302-3KA62 58302...</td>\n",
       "      <td>25,200원</td>\n",
       "    </tr>\n",
       "    <tr>\n",
       "      <th>1</th>\n",
       "      <td>NF쏘나타 하드론 브레이크패드(뒤) (HP1239) 58302-3KA62 58302...</td>\n",
       "      <td>25,200원</td>\n",
       "    </tr>\n",
       "    <tr>\n",
       "      <th>2</th>\n",
       "      <td>NF쏘나타 하드론 브레이크패드(뒤) (HP1239) 58302-3KA62 58302...</td>\n",
       "      <td>25,200원</td>\n",
       "    </tr>\n",
       "    <tr>\n",
       "      <th>3</th>\n",
       "      <td>NF쏘나타 하드론 브레이크패드(뒤) (HP1239) 58302-3KA62 58302...</td>\n",
       "      <td>25,200원</td>\n",
       "    </tr>\n",
       "    <tr>\n",
       "      <th>4</th>\n",
       "      <td>NF쏘나타 하드론 브레이크패드(뒤) (HP1239) 58302-3KA62 58302...</td>\n",
       "      <td>25,200원</td>\n",
       "    </tr>\n",
       "    <tr>\n",
       "      <th>5</th>\n",
       "      <td>NF쏘나타 하드론 브레이크패드(뒤) (HP1239) 58302-3KA62 58302...</td>\n",
       "      <td>25,200원</td>\n",
       "    </tr>\n",
       "    <tr>\n",
       "      <th>6</th>\n",
       "      <td>NF쏘나타 하드론 브레이크패드(뒤) (HP1239) 58302-3KA62 58302...</td>\n",
       "      <td>25,200원</td>\n",
       "    </tr>\n",
       "    <tr>\n",
       "      <th>7</th>\n",
       "      <td>NF쏘나타 하드론 브레이크패드(뒤) (HP1239) 58302-3KA62 58302...</td>\n",
       "      <td>25,200원</td>\n",
       "    </tr>\n",
       "    <tr>\n",
       "      <th>8</th>\n",
       "      <td>NF쏘나타 하드론 브레이크패드(뒤) (HP1239) 58302-3KA62 58302...</td>\n",
       "      <td>25,200원</td>\n",
       "    </tr>\n",
       "  </tbody>\n",
       "</table>\n",
       "</div>"
      ],
      "text/plain": [
       "                                                 상품명     상품가격\n",
       "0  NF쏘나타 하드론 브레이크패드(뒤) (HP1239) 58302-3KA62 58302...  25,200원\n",
       "1  NF쏘나타 하드론 브레이크패드(뒤) (HP1239) 58302-3KA62 58302...  25,200원\n",
       "2  NF쏘나타 하드론 브레이크패드(뒤) (HP1239) 58302-3KA62 58302...  25,200원\n",
       "3  NF쏘나타 하드론 브레이크패드(뒤) (HP1239) 58302-3KA62 58302...  25,200원\n",
       "4  NF쏘나타 하드론 브레이크패드(뒤) (HP1239) 58302-3KA62 58302...  25,200원\n",
       "5  NF쏘나타 하드론 브레이크패드(뒤) (HP1239) 58302-3KA62 58302...  25,200원\n",
       "6  NF쏘나타 하드론 브레이크패드(뒤) (HP1239) 58302-3KA62 58302...  25,200원\n",
       "7  NF쏘나타 하드론 브레이크패드(뒤) (HP1239) 58302-3KA62 58302...  25,200원\n",
       "8  NF쏘나타 하드론 브레이크패드(뒤) (HP1239) 58302-3KA62 58302...  25,200원"
      ]
     },
     "execution_count": 44,
     "metadata": {},
     "output_type": "execute_result"
    }
   ],
   "source": [
    "for i in range (0,len(prd_names)) : \n",
    "    prd_name = prd_names[i].text\n",
    "    prd_price = prd_prices[i].text\n",
    "    df = pd.DataFrame({'상품명':prd_name,'상품가격':prd_price},columns=['상품명','상품가격'],index = list(range(0,len(prd_names))))\n",
    "df"
   ]
  },
  {
   "cell_type": "code",
   "execution_count": 45,
   "id": "65613839",
   "metadata": {},
   "outputs": [],
   "source": [
    "df.to_csv('hp1239검색테스트 encoding = euc-kr.csv',encoding='euc-kr')"
   ]
  },
  {
   "cell_type": "code",
   "execution_count": null,
   "id": "29234a8c",
   "metadata": {},
   "outputs": [],
   "source": []
  }
 ],
 "metadata": {
  "kernelspec": {
   "display_name": "Python 3",
   "language": "python",
   "name": "python3"
  },
  "language_info": {
   "codemirror_mode": {
    "name": "ipython",
    "version": 3
   },
   "file_extension": ".py",
   "mimetype": "text/x-python",
   "name": "python",
   "nbconvert_exporter": "python",
   "pygments_lexer": "ipython3",
   "version": "3.8.8"
  }
 },
 "nbformat": 4,
 "nbformat_minor": 5
}
