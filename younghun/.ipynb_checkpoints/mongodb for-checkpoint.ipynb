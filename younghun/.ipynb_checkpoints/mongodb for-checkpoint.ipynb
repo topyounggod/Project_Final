{
 "cells": [
  {
   "cell_type": "code",
   "execution_count": 88,
   "id": "304f5074",
   "metadata": {},
   "outputs": [],
   "source": [
    "from pymongo import MongoClient"
   ]
  },
  {
   "cell_type": "code",
   "execution_count": 89,
   "id": "533238f0",
   "metadata": {},
   "outputs": [],
   "source": [
    "import pymongo"
   ]
  },
  {
   "cell_type": "code",
   "execution_count": 90,
   "id": "b70d5243",
   "metadata": {},
   "outputs": [],
   "source": [
    "client = MongoClient(\"mongodb://localhost:27017/\")"
   ]
  },
  {
   "cell_type": "code",
   "execution_count": 91,
   "id": "93f21adf",
   "metadata": {},
   "outputs": [],
   "source": [
    "db = client['practice']"
   ]
  },
  {
   "cell_type": "code",
   "execution_count": 92,
   "id": "50214918",
   "metadata": {},
   "outputs": [],
   "source": [
    "collections = ['park','beauty','cafe','deliver','equip','food','funeral','hospital','manage',\n",
    "               'medical_equip','pharmacy','play','restaurant','sell','shelter']"
   ]
  },
  {
   "cell_type": "code",
   "execution_count": 93,
   "id": "5ae75835",
   "metadata": {
    "scrolled": false
   },
   "outputs": [
    {
     "data": {
      "text/plain": [
       "['cafe',\n",
       " 'play',\n",
       " 'manage',\n",
       " 'park',\n",
       " 'food',\n",
       " 'equip',\n",
       " 'shelter',\n",
       " 'funeral',\n",
       " 'medical_equip',\n",
       " 'hospital',\n",
       " 'restaurant',\n",
       " 'beauty',\n",
       " 'deliver',\n",
       " 'pharmacy',\n",
       " 'sell']"
      ]
     },
     "execution_count": 93,
     "metadata": {},
     "output_type": "execute_result"
    }
   ],
   "source": [
    "db.list_collection_names()"
   ]
  },
  {
   "cell_type": "code",
   "execution_count": 94,
   "id": "405c4766",
   "metadata": {
    "scrolled": true
   },
   "outputs": [],
   "source": [
    "import json\n",
    "json_data= []\n",
    "with open('D:/OneDrive/DataScience/프로젝트(파이널)/Data/json/동물공원.json') as f:\n",
    "\n",
    "#    print(len(f.readlines()))\n",
    "    for line in  f.readlines():\n",
    "        a = line.replace('\\n','')\n",
    "        json_data.append(json.loads(a))\n",
    "        \n",
    "#         json.loads(json_data)\n"
   ]
  },
  {
   "cell_type": "code",
   "execution_count": 95,
   "id": "7d48d4d6",
   "metadata": {
    "scrolled": false
   },
   "outputs": [
    {
     "data": {
      "text/plain": [
       "<pymongo.results.InsertManyResult at 0x2784fbc8340>"
      ]
     },
     "execution_count": 95,
     "metadata": {},
     "output_type": "execute_result"
    }
   ],
   "source": [
    "db.park.insert_many(json_data)"
   ]
  },
  {
   "cell_type": "code",
   "execution_count": 96,
   "id": "efbcf65f",
   "metadata": {},
   "outputs": [
    {
     "data": {
      "text/plain": [
       "'geometry_2dsphere'"
      ]
     },
     "execution_count": 96,
     "metadata": {},
     "output_type": "execute_result"
    }
   ],
   "source": [
    "from pymongo import GEOSPHERE\n",
    "db.park.create_index([('geometry' , GEOSPHERE)])"
   ]
  },
  {
   "cell_type": "code",
   "execution_count": 97,
   "id": "af5da103",
   "metadata": {},
   "outputs": [],
   "source": [
    "a = []\n",
    "# 0.0005 = 500m\n",
    "x = 37.584980\n",
    "y = 127.031133\n",
    "while x < 37.612181:\n",
    "    y = 127.031133\n",
    "    while y < 127.058599:\n",
    "        a.append((y,x))\n",
    "        y += 0.0005\n",
    "        y = round(y,6)\n",
    "    a.append((y,x))\n",
    "    x += 0.0005\n",
    "    x = round(x,6)"
   ]
  },
  {
   "cell_type": "code",
   "execution_count": 101,
   "id": "986bad70",
   "metadata": {},
   "outputs": [
    {
     "ename": "TypeError",
     "evalue": "'builtin_function_or_method' object is not subscriptable",
     "output_type": "error",
     "traceback": [
      "\u001b[1;31m---------------------------------------------------------------------------\u001b[0m",
      "\u001b[1;31mTypeError\u001b[0m                                 Traceback (most recent call last)",
      "\u001b[1;32m<ipython-input-101-360f051572f0>\u001b[0m in \u001b[0;36m<module>\u001b[1;34m\u001b[0m\n\u001b[0;32m     13\u001b[0m             }]\n\u001b[0;32m     14\u001b[0m         ))\n\u001b[1;32m---> 15\u001b[1;33m         \u001b[0mcounts\u001b[0m\u001b[1;33m.\u001b[0m\u001b[0mappend\u001b[0m\u001b[1;33m[\u001b[0m\u001b[1;33m(\u001b[0m\u001b[0mlen\u001b[0m\u001b[1;33m(\u001b[0m\u001b[0mc\u001b[0m\u001b[1;33m)\u001b[0m\u001b[1;33m)\u001b[0m\u001b[1;33m]\u001b[0m\u001b[1;33m\u001b[0m\u001b[1;33m\u001b[0m\u001b[0m\n\u001b[0m\u001b[0;32m     16\u001b[0m \u001b[0mprint\u001b[0m\u001b[1;33m(\u001b[0m\u001b[0mcounts\u001b[0m\u001b[1;33m)\u001b[0m\u001b[1;33m\u001b[0m\u001b[1;33m\u001b[0m\u001b[0m\n\u001b[0;32m     17\u001b[0m \u001b[1;33m\u001b[0m\u001b[0m\n",
      "\u001b[1;31mTypeError\u001b[0m: 'builtin_function_or_method' object is not subscriptable"
     ]
    }
   ],
   "source": [
    "counts = []\n",
    "for collection in collections:\n",
    "\n",
    "    for i in range(0,len(a)):\n",
    "\n",
    "        c = list(db[collection].aggregate(\n",
    "            [{\n",
    "                \"$geoNear\": {\n",
    "                \"near\": { \"type\": \"Point\", \"coordinates\": a[i] },\n",
    "                \"distanceField\": 'meters',\n",
    "                \"maxDistance\": 700\n",
    "            }\n",
    "            }]\n",
    "        ))\n",
    "        counts.append(len(c))\n",
    "print(counts)\n",
    "    "
   ]
  },
  {
   "cell_type": "code",
   "execution_count": null,
   "id": "c2d8ac6b",
   "metadata": {},
   "outputs": [],
   "source": []
  }
 ],
 "metadata": {
  "kernelspec": {
   "display_name": "Python 3",
   "language": "python",
   "name": "python3"
  },
  "language_info": {
   "codemirror_mode": {
    "name": "ipython",
    "version": 3
   },
   "file_extension": ".py",
   "mimetype": "text/x-python",
   "name": "python",
   "nbconvert_exporter": "python",
   "pygments_lexer": "ipython3",
   "version": "3.8.8"
  }
 },
 "nbformat": 4,
 "nbformat_minor": 5
}
