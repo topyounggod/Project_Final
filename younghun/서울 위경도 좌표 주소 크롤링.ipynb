{
 "cells": [
  {
   "cell_type": "code",
   "execution_count": 1,
   "id": "963260ba",
   "metadata": {},
   "outputs": [],
   "source": [
    "from urllib.request import urlopen\n",
    "from bs4 import BeautifulSoup\n",
    "import requests\n",
    "import pandas as pd\n",
    "import re"
   ]
  },
  {
   "cell_type": "code",
   "execution_count": 12,
   "id": "c7f86fd6",
   "metadata": {},
   "outputs": [],
   "source": [
    "a = []\n",
    "# 0.0005 = 500m\n",
    "x = 37.555153\n",
    "y = 127.031133\n",
    "while x < 37.612181:\n",
    "    y = 127.031133\n",
    "    while y < 127.058599:\n",
    "        a.append((x,y))\n",
    "        y += 0.0005\n",
    "        y = round(y,6)\n",
    "    a.append((x,y))\n",
    "    x += 0.0005\n",
    "    x = round(x,6)"
   ]
  },
  {
   "cell_type": "code",
   "execution_count": 23,
   "id": "3f301e49",
   "metadata": {},
   "outputs": [],
   "source": [
    "df = pd.DataFrame()\n",
    "df['위경도'] = a"
   ]
  },
  {
   "cell_type": "code",
   "execution_count": 14,
   "id": "79382001",
   "metadata": {},
   "outputs": [],
   "source": [
    "url='https://map.naver.com/'"
   ]
  },
  {
   "cell_type": "code",
   "execution_count": 15,
   "id": "8d4a4f02",
   "metadata": {},
   "outputs": [],
   "source": [
    "from selenium import webdriver\n",
    "from selenium.webdriver.common.by import By\n",
    "from selenium.webdriver.common.keys import Keys"
   ]
  },
  {
   "cell_type": "code",
   "execution_count": 17,
   "id": "66ca49a3",
   "metadata": {},
   "outputs": [],
   "source": [
    "driver = webdriver.Chrome(executable_path = \"D:/OneDrive/DataScience/driver/chromedriver (2).exe\" )\n",
    "driver.get(url)"
   ]
  },
  {
   "cell_type": "code",
   "execution_count": 64,
   "id": "6708721f",
   "metadata": {},
   "outputs": [
    {
     "data": {
      "text/plain": [
       "(37.58498, 127.034133)"
      ]
     },
     "execution_count": 64,
     "metadata": {},
     "output_type": "execute_result"
    }
   ],
   "source": [
    "a[6]"
   ]
  },
  {
   "cell_type": "code",
   "execution_count": 89,
   "id": "88d24c49",
   "metadata": {},
   "outputs": [],
   "source": [
    "name_list = []\n",
    "for i in range(0,len(a)):\n",
    "    search_box = driver.find_element(By.CLASS_NAME,\"input_search\")\n",
    "    search_box.send_keys(str(a[i][0:2]))\n",
    "    search_box.send_keys(\"\\n\") # 엔터효과\n",
    "    html = driver.page_source\n",
    "    soup = BeautifulSoup(html, 'html.parser')\n",
    "    prd_names = soup.find('strong',{'class':'summary_title'})\n",
    "    name_list.append(prd_names)"
   ]
  },
  {
   "cell_type": "code",
   "execution_count": 90,
   "id": "7395d433",
   "metadata": {},
   "outputs": [],
   "source": [
    "df['주소'] = name_list"
   ]
  },
  {
   "cell_type": "code",
   "execution_count": 91,
   "id": "f2771646",
   "metadata": {},
   "outputs": [
    {
     "data": {
      "text/html": [
       "<div>\n",
       "<style scoped>\n",
       "    .dataframe tbody tr th:only-of-type {\n",
       "        vertical-align: middle;\n",
       "    }\n",
       "\n",
       "    .dataframe tbody tr th {\n",
       "        vertical-align: top;\n",
       "    }\n",
       "\n",
       "    .dataframe thead th {\n",
       "        text-align: right;\n",
       "    }\n",
       "</style>\n",
       "<table border=\"1\" class=\"dataframe\">\n",
       "  <thead>\n",
       "    <tr style=\"text-align: right;\">\n",
       "      <th></th>\n",
       "      <th>위경도</th>\n",
       "      <th>주소</th>\n",
       "    </tr>\n",
       "  </thead>\n",
       "  <tbody>\n",
       "    <tr>\n",
       "      <th>0</th>\n",
       "      <td>(37.58498, 127.031133)</td>\n",
       "      <td>[ 서울특별시 동대문구 제기동 1205 ,  ]</td>\n",
       "    </tr>\n",
       "    <tr>\n",
       "      <th>1</th>\n",
       "      <td>(37.58498, 127.031633)</td>\n",
       "      <td>[ 서울특별시 성북구 안암동5가 86-121 ,  ]</td>\n",
       "    </tr>\n",
       "    <tr>\n",
       "      <th>2</th>\n",
       "      <td>(37.58498, 127.032133)</td>\n",
       "      <td>None</td>\n",
       "    </tr>\n",
       "    <tr>\n",
       "      <th>3</th>\n",
       "      <td>(37.58498, 127.032633)</td>\n",
       "      <td>[ 서울특별시 동대문구 제기동 146-13 ,  ]</td>\n",
       "    </tr>\n",
       "    <tr>\n",
       "      <th>4</th>\n",
       "      <td>(37.58498, 127.033133)</td>\n",
       "      <td>[ 서울특별시 동대문구 제기동 67-251 ,  ]</td>\n",
       "    </tr>\n",
       "    <tr>\n",
       "      <th>...</th>\n",
       "      <td>...</td>\n",
       "      <td>...</td>\n",
       "    </tr>\n",
       "    <tr>\n",
       "      <th>3075</th>\n",
       "      <td>(37.61198, 127.056633)</td>\n",
       "      <td>[ 서울특별시 성북구 장위동 63-36 ,  ]</td>\n",
       "    </tr>\n",
       "    <tr>\n",
       "      <th>3076</th>\n",
       "      <td>(37.61198, 127.057133)</td>\n",
       "      <td>None</td>\n",
       "    </tr>\n",
       "    <tr>\n",
       "      <th>3077</th>\n",
       "      <td>(37.61198, 127.057633)</td>\n",
       "      <td>[ 서울특별시 성북구 장위동 63-67 ,  ]</td>\n",
       "    </tr>\n",
       "    <tr>\n",
       "      <th>3078</th>\n",
       "      <td>(37.61198, 127.058133)</td>\n",
       "      <td>[ 서울특별시 성북구 장위동 63-129 ,  ]</td>\n",
       "    </tr>\n",
       "    <tr>\n",
       "      <th>3079</th>\n",
       "      <td>(37.61198, 127.058633)</td>\n",
       "      <td>[ 서울특별시 성북구 장위동 50-35 ,  ]</td>\n",
       "    </tr>\n",
       "  </tbody>\n",
       "</table>\n",
       "<p>3080 rows × 2 columns</p>\n",
       "</div>"
      ],
      "text/plain": [
       "                         위경도                             주소\n",
       "0     (37.58498, 127.031133)     [ 서울특별시 동대문구 제기동 1205 ,  ]\n",
       "1     (37.58498, 127.031633)  [ 서울특별시 성북구 안암동5가 86-121 ,  ]\n",
       "2     (37.58498, 127.032133)                           None\n",
       "3     (37.58498, 127.032633)   [ 서울특별시 동대문구 제기동 146-13 ,  ]\n",
       "4     (37.58498, 127.033133)   [ 서울특별시 동대문구 제기동 67-251 ,  ]\n",
       "...                      ...                            ...\n",
       "3075  (37.61198, 127.056633)     [ 서울특별시 성북구 장위동 63-36 ,  ]\n",
       "3076  (37.61198, 127.057133)                           None\n",
       "3077  (37.61198, 127.057633)     [ 서울특별시 성북구 장위동 63-67 ,  ]\n",
       "3078  (37.61198, 127.058133)    [ 서울특별시 성북구 장위동 63-129 ,  ]\n",
       "3079  (37.61198, 127.058633)     [ 서울특별시 성북구 장위동 50-35 ,  ]\n",
       "\n",
       "[3080 rows x 2 columns]"
      ]
     },
     "execution_count": 91,
     "metadata": {},
     "output_type": "execute_result"
    }
   ],
   "source": [
    "df"
   ]
  },
  {
   "cell_type": "code",
   "execution_count": 93,
   "id": "5564955e",
   "metadata": {},
   "outputs": [],
   "source": [
    "df.to_csv('초기랜덤서울좌표(틀린거).csv',encoding='euc-kr')"
   ]
  }
 ],
 "metadata": {
  "kernelspec": {
   "display_name": "Python 3",
   "language": "python",
   "name": "python3"
  },
  "language_info": {
   "codemirror_mode": {
    "name": "ipython",
    "version": 3
   },
   "file_extension": ".py",
   "mimetype": "text/x-python",
   "name": "python",
   "nbconvert_exporter": "python",
   "pygments_lexer": "ipython3",
   "version": "3.8.8"
  }
 },
 "nbformat": 4,
 "nbformat_minor": 5
}
