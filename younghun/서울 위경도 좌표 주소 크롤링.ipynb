{
 "cells": [
  {
   "cell_type": "code",
   "execution_count": 1,
   "id": "963260ba",
   "metadata": {},
   "outputs": [],
   "source": [
    "from urllib.request import urlopen\n",
    "from bs4 import BeautifulSoup\n",
    "import requests\n",
    "import pandas as pd\n",
    "import re\n",
    "import time \n",
    "from selenium import webdriver"
   ]
  },
  {
   "cell_type": "code",
   "execution_count": 2,
   "id": "c7f86fd6",
   "metadata": {},
   "outputs": [],
   "source": [
    "a = []\n",
    "# 0.000 = 500m\n",
    "x = 37.493239\n",
    "y = 126.859507\n",
    "while x < 37.612256:\n",
    "    y = 126.859507\n",
    "    while y < 127.222113:\n",
    "        a.append((x,y))\n",
    "        y += 0.005\n",
    "        y = round(y,6)\n",
    "    a.append((x,y))\n",
    "    x += 0.005\n",
    "    x = round(x,6)"
   ]
  },
  {
   "cell_type": "code",
   "execution_count": 3,
   "id": "3f301e49",
   "metadata": {},
   "outputs": [],
   "source": [
    "df = pd.DataFrame()\n",
    "df['위경도'] = a"
   ]
  },
  {
   "cell_type": "code",
   "execution_count": 4,
   "id": "79382001",
   "metadata": {},
   "outputs": [],
   "source": [
    "url='https://map.naver.com/'"
   ]
  },
  {
   "cell_type": "code",
   "execution_count": 5,
   "id": "8d4a4f02",
   "metadata": {},
   "outputs": [],
   "source": [
    "from selenium import webdriver\n",
    "from selenium.webdriver.common.by import By\n",
    "from selenium.webdriver.common.keys import Keys"
   ]
  },
  {
   "cell_type": "code",
   "execution_count": 6,
   "id": "66ca49a3",
   "metadata": {},
   "outputs": [],
   "source": [
    "driver = webdriver.Chrome(executable_path = \"D:/OneDrive/DataScience/driver/chromedriver.exe\" )\n",
    "driver.get(url)"
   ]
  },
  {
   "cell_type": "code",
   "execution_count": 7,
   "id": "6708721f",
   "metadata": {
    "scrolled": true
   },
   "outputs": [
    {
     "data": {
      "text/plain": [
       "(37.493239, 126.889507)"
      ]
     },
     "execution_count": 7,
     "metadata": {},
     "output_type": "execute_result"
    }
   ],
   "source": [
    "a[6]"
   ]
  },
  {
   "cell_type": "code",
   "execution_count": 16,
   "id": "88d24c49",
   "metadata": {
    "scrolled": true
   },
   "outputs": [],
   "source": [
    "name_list = []\n",
    "for i in range(601,700):\n",
    "    \n",
    "    search_box = driver.find_element(By.CLASS_NAME,\"input_search\")\n",
    "    search_box.send_keys(str(a[i][0:2]))\n",
    "    search_box.send_keys(\"\\n\") # 엔터효과\n",
    "    time.sleep(1.5)\n",
    "    html = driver.page_source\n",
    "    soup = BeautifulSoup(html, 'html.parser')\n",
    "    prd_names = soup.find('a',{'class':'end_title'}).text.strip()\n",
    "    name_list.append(prd_names)\n"
   ]
  },
  {
   "cell_type": "code",
   "execution_count": 17,
   "id": "285fe023",
   "metadata": {},
   "outputs": [],
   "source": [
    "for i in range(701,800):\n",
    "    \n",
    "    search_box = driver.find_element(By.CLASS_NAME,\"input_search\")\n",
    "    search_box.send_keys(str(a[i][0:2]))\n",
    "    search_box.send_keys(\"\\n\") # 엔터효과\n",
    "    time.sleep(1.5)\n",
    "    html = driver.page_source\n",
    "    soup = BeautifulSoup(html, 'html.parser')\n",
    "    prd_names = soup.find('a',{'class':'end_title'}).text.strip()\n",
    "    name_list.append(prd_names)"
   ]
  },
  {
   "cell_type": "code",
   "execution_count": 18,
   "id": "d69aea2a",
   "metadata": {},
   "outputs": [],
   "source": [
    "for i in range(801,900):\n",
    "    \n",
    "    search_box = driver.find_element(By.CLASS_NAME,\"input_search\")\n",
    "    search_box.send_keys(str(a[i][0:2]))\n",
    "    search_box.send_keys(\"\\n\") # 엔터효과\n",
    "    time.sleep(1.5)\n",
    "    html = driver.page_source\n",
    "    soup = BeautifulSoup(html, 'html.parser')\n",
    "    prd_names = soup.find('a',{'class':'end_title'}).text.strip()\n",
    "    name_list.append(prd_names)"
   ]
  },
  {
   "cell_type": "code",
   "execution_count": 22,
   "id": "c5a58484",
   "metadata": {},
   "outputs": [
    {
     "ename": "AttributeError",
     "evalue": "'NoneType' object has no attribute 'text'",
     "output_type": "error",
     "traceback": [
      "\u001b[1;31m---------------------------------------------------------------------------\u001b[0m",
      "\u001b[1;31mAttributeError\u001b[0m                            Traceback (most recent call last)",
      "\u001b[1;32m<ipython-input-22-5181d6de430e>\u001b[0m in \u001b[0;36m<module>\u001b[1;34m\u001b[0m\n\u001b[0;32m      7\u001b[0m     \u001b[0mhtml\u001b[0m \u001b[1;33m=\u001b[0m \u001b[0mdriver\u001b[0m\u001b[1;33m.\u001b[0m\u001b[0mpage_source\u001b[0m\u001b[1;33m\u001b[0m\u001b[1;33m\u001b[0m\u001b[0m\n\u001b[0;32m      8\u001b[0m     \u001b[0msoup\u001b[0m \u001b[1;33m=\u001b[0m \u001b[0mBeautifulSoup\u001b[0m\u001b[1;33m(\u001b[0m\u001b[0mhtml\u001b[0m\u001b[1;33m,\u001b[0m \u001b[1;34m'html.parser'\u001b[0m\u001b[1;33m)\u001b[0m\u001b[1;33m\u001b[0m\u001b[1;33m\u001b[0m\u001b[0m\n\u001b[1;32m----> 9\u001b[1;33m     \u001b[0mprd_names\u001b[0m \u001b[1;33m=\u001b[0m \u001b[0msoup\u001b[0m\u001b[1;33m.\u001b[0m\u001b[0mfind\u001b[0m\u001b[1;33m(\u001b[0m\u001b[1;34m'a'\u001b[0m\u001b[1;33m,\u001b[0m\u001b[1;33m{\u001b[0m\u001b[1;34m'class'\u001b[0m\u001b[1;33m:\u001b[0m\u001b[1;34m'end_title'\u001b[0m\u001b[1;33m}\u001b[0m\u001b[1;33m)\u001b[0m\u001b[1;33m.\u001b[0m\u001b[0mtext\u001b[0m\u001b[1;33m.\u001b[0m\u001b[0mstrip\u001b[0m\u001b[1;33m(\u001b[0m\u001b[1;33m)\u001b[0m\u001b[1;33m\u001b[0m\u001b[1;33m\u001b[0m\u001b[0m\n\u001b[0m\u001b[0;32m     10\u001b[0m     \u001b[0mname_list\u001b[0m\u001b[1;33m.\u001b[0m\u001b[0mappend\u001b[0m\u001b[1;33m(\u001b[0m\u001b[0mprd_names\u001b[0m\u001b[1;33m)\u001b[0m\u001b[1;33m\u001b[0m\u001b[1;33m\u001b[0m\u001b[0m\n",
      "\u001b[1;31mAttributeError\u001b[0m: 'NoneType' object has no attribute 'text'"
     ]
    }
   ],
   "source": [
    "for i in range(901,1000):\n",
    "    \n",
    "    search_box = driver.find_element(By.CLASS_NAME,\"input_search\")\n",
    "    search_box.send_keys(str(a[i][0:2]))\n",
    "    search_box.send_keys(\"\\n\") # 엔터효과\n",
    "    time.sleep(3)\n",
    "    html = driver.page_source\n",
    "    soup = BeautifulSoup(html, 'html.parser')\n",
    "    prd_names = soup.find('a',{'class':'end_title'}).text.strip()\n",
    "    name_list.append(prd_names)"
   ]
  },
  {
   "cell_type": "code",
   "execution_count": null,
   "id": "790f9fe5",
   "metadata": {},
   "outputs": [],
   "source": [
    "for i in range(1001,1100):\n",
    "    \n",
    "    search_box = driver.find_element(By.CLASS_NAME,\"input_search\")\n",
    "    search_box.send_keys(str(a[i][0:2]))\n",
    "    search_box.send_keys(\"\\n\") # 엔터효과\n",
    "    time.sleep(1.5)\n",
    "    html = driver.page_source\n",
    "    soup = BeautifulSoup(html, 'html.parser')\n",
    "    prd_names = soup.find('a',{'class':'end_title'}).text.strip()\n",
    "    name_list.append(prd_names)"
   ]
  },
  {
   "cell_type": "code",
   "execution_count": null,
   "id": "8ca6450e",
   "metadata": {},
   "outputs": [],
   "source": [
    "for i in range(1101,1200):\n",
    "    \n",
    "    search_box = driver.find_element(By.CLASS_NAME,\"input_search\")\n",
    "    search_box.send_keys(str(a[i][0:2]))\n",
    "    search_box.send_keys(\"\\n\") # 엔터효과\n",
    "    time.sleep(1.5)\n",
    "    html = driver.page_source\n",
    "    soup = BeautifulSoup(html, 'html.parser')\n",
    "    prd_names = soup.find('a',{'class':'end_title'}).text.strip()\n",
    "    name_list.append(prd_names)"
   ]
  },
  {
   "cell_type": "code",
   "execution_count": null,
   "id": "7395d433",
   "metadata": {
    "scrolled": true
   },
   "outputs": [],
   "source": [
    "df['주소'] = name_list"
   ]
  },
  {
   "cell_type": "code",
   "execution_count": null,
   "id": "f2771646",
   "metadata": {},
   "outputs": [],
   "source": [
    "df"
   ]
  },
  {
   "cell_type": "code",
   "execution_count": null,
   "id": "b8434045",
   "metadata": {},
   "outputs": [],
   "source": [
    "'서울특별시 강남구 대치동 123-12'.split(' ')[2]"
   ]
  },
  {
   "cell_type": "code",
   "execution_count": null,
   "id": "99056464",
   "metadata": {},
   "outputs": [],
   "source": [
    "대치동만 꺼내오는 코드를 생각하고 있는데,,\n"
   ]
  },
  {
   "cell_type": "code",
   "execution_count": 93,
   "id": "5564955e",
   "metadata": {},
   "outputs": [],
   "source": [
    "df.to_csv('랜덥좌표(601-1200).csv',encoding='euc-kr')"
   ]
  }
 ],
 "metadata": {
  "kernelspec": {
   "display_name": "Python 3",
   "language": "python",
   "name": "python3"
  },
  "language_info": {
   "codemirror_mode": {
    "name": "ipython",
    "version": 3
   },
   "file_extension": ".py",
   "mimetype": "text/x-python",
   "name": "python",
   "nbconvert_exporter": "python",
   "pygments_lexer": "ipython3",
   "version": "3.8.8"
  }
 },
 "nbformat": 4,
 "nbformat_minor": 5
}
