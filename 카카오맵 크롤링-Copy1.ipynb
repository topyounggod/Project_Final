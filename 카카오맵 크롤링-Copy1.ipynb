{
 "cells": [
  {
   "cell_type": "code",
   "execution_count": 13,
   "id": "aba80fb5",
   "metadata": {},
   "outputs": [
    {
     "name": "stdout",
     "output_type": "stream",
     "text": [
      "37.5746197032227 126.9358529766\n"
     ]
    }
   ],
   "source": [
    "import requests\n",
    "import requests; from urllib.parse import urlparse\n",
    "import json\n",
    "from urllib.parse import urlparse\n",
    "\n",
    "address = '서울 서대문구 연희로28길 3'\n",
    "url = 'https://dapi.kakao.com/v2/local/search/address.json?query='+address\n",
    "result = requests.get(urlparse(url).geturl(),\n",
    "                     headers = {\"Authorization\": \"KakaoAK \"})\n",
    "json_obj = result.json()\n",
    "for document in json_obj['documents']:\n",
    "    lat = document['y']\n",
    "for document in json_obj['documents']:\n",
    "    lng = document['x']\n",
    "    \n",
    "print(lat,lng)\n",
    "\n",
    "    \n",
    "# match_first = result['documents'][0]['address']\n",
    "# lat = float(match_first['y'])\n",
    "# lng = float(match_first['x'])\n",
    "# print(lat, lng)"
   ]
  },
  {
   "cell_type": "code",
   "execution_count": null,
   "id": "b478cdf1",
   "metadata": {},
   "outputs": [],
   "source": []
  },
  {
   "cell_type": "code",
   "execution_count": null,
   "id": "efe2b3a5",
   "metadata": {},
   "outputs": [],
   "source": []
  }
 ],
 "metadata": {
  "kernelspec": {
   "display_name": "Python 3",
   "language": "python",
   "name": "python3"
  },
  "language_info": {
   "codemirror_mode": {
    "name": "ipython",
    "version": 3
   },
   "file_extension": ".py",
   "mimetype": "text/x-python",
   "name": "python",
   "nbconvert_exporter": "python",
   "pygments_lexer": "ipython3",
   "version": "3.8.8"
  }
 },
 "nbformat": 4,
 "nbformat_minor": 5
}
