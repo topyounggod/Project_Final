{
 "cells": [
  {
   "cell_type": "markdown",
   "id": "a760488b",
   "metadata": {},
   "source": [
    "# https://dacon.io/competitions\n",
    "\n",
    "\n",
    "Dacon"
   ]
  },
  {
   "cell_type": "markdown",
   "id": "0b093a70",
   "metadata": {},
   "source": [
    "# https://datasetsearch.research.google.com/\n",
    "\n",
    "\n",
    "\n",
    "Google DataSet"
   ]
  },
  {
   "cell_type": "markdown",
   "id": "24fd106c",
   "metadata": {},
   "source": [
    "# https://www.v7labs.com/blog/best-free-datasets-for-machine-learning\n",
    "\n",
    "DataSet 찾기"
   ]
  },
  {
   "cell_type": "code",
   "execution_count": null,
   "id": "924797d4",
   "metadata": {},
   "outputs": [],
   "source": []
  },
  {
   "cell_type": "markdown",
   "id": "6850c4fb",
   "metadata": {},
   "source": [
    "https://www.kaggle.com/user164919/the-dogage-dataset\n",
    "    \n",
    "    \n",
    "    Dog Age\n",
    "    \n",
    "    그림파일\n",
    "    \n",
    "    \n",
    "    \n",
    "    딥러닝\n",
    "    "
   ]
  },
  {
   "cell_type": "markdown",
   "id": "12859be7",
   "metadata": {},
   "source": [
    "https://www.kaggle.com/jackstapleton/pet-finder-images\n",
    "    \n",
    "    Pet Finder\n",
    "    \n",
    "    그림파일\n",
    "    \n",
    "    \n",
    "    딥러닝"
   ]
  },
  {
   "cell_type": "markdown",
   "id": "22db088e",
   "metadata": {},
   "source": [
    "https://dacon.io/competitions/official/235813/overview/description\n",
    "    \n",
    "회의록\n",
    "\n",
    "딥러닝\n"
   ]
  },
  {
   "cell_type": "markdown",
   "id": "bfc07775",
   "metadata": {},
   "source": [
    "https://www.kaggle.com/jjedele/isic2018-task3-petastorm?select=ISIC2018_Task3_Training_GroundTruth.csv"
   ]
  },
  {
   "cell_type": "markdown",
   "id": "df9f9872",
   "metadata": {},
   "source": [
    "https://www.kaggle.com/gauravharamkar/beer-data-analytics\n",
    "\n",
    "\n",
    "60만개 데이터, 딥러닝도 가능"
   ]
  },
  {
   "cell_type": "code",
   "execution_count": null,
   "id": "ee4b7230",
   "metadata": {},
   "outputs": [],
   "source": []
  }
 ],
 "metadata": {
  "kernelspec": {
   "display_name": "Python 3",
   "language": "python",
   "name": "python3"
  },
  "language_info": {
   "codemirror_mode": {
    "name": "ipython",
    "version": 3
   },
   "file_extension": ".py",
   "mimetype": "text/x-python",
   "name": "python",
   "nbconvert_exporter": "python",
   "pygments_lexer": "ipython3",
   "version": "3.8.8"
  }
 },
 "nbformat": 4,
 "nbformat_minor": 5
}
